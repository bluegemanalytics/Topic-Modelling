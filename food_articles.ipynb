{
 "cells": [
  {
   "cell_type": "code",
   "execution_count": 41,
   "id": "61aaa0db-c3d1-4db8-b413-42bcde1f4ae4",
   "metadata": {},
   "outputs": [],
   "source": [
    "import pandas as pd\n",
    "import numpy as np\n",
    "import matplotlib.pyplot as plt"
   ]
  },
  {
   "cell_type": "markdown",
   "id": "02f3c8f3-e092-46ec-9fab-563f94163815",
   "metadata": {},
   "source": [
    "### Dataset"
   ]
  },
  {
   "cell_type": "code",
   "execution_count": 3,
   "id": "24a9a643-557d-4dc9-a9f0-5ddd056f4e55",
   "metadata": {},
   "outputs": [],
   "source": [
    "import json\n",
    "\n",
    "with open('food_articles.json') as f:\n",
    "  data = json.load(f)"
   ]
  },
  {
   "cell_type": "code",
   "execution_count": 51,
   "id": "ce5c154d-a289-4aaa-b73a-5a63e18dcc79",
   "metadata": {},
   "outputs": [
    {
     "data": {
      "text/plain": [
       "dict_keys(['article_header', 'article_url', 'article_date_published', 'article_text', 'tags'])"
      ]
     },
     "execution_count": 51,
     "metadata": {},
     "output_type": "execute_result"
    }
   ],
   "source": [
    "headers = data[0].keys()\n",
    "headers"
   ]
  },
  {
   "cell_type": "code",
   "execution_count": 393,
   "id": "04516274-82c8-4249-b1a6-7939314ff04b",
   "metadata": {},
   "outputs": [],
   "source": [
    "for key in data:\n",
    "    header = key['article_header']\n",
    "    #print(header)"
   ]
  },
  {
   "cell_type": "code",
   "execution_count": 74,
   "id": "50c13a3a-ff85-45d9-8a61-6454e96a6ff0",
   "metadata": {},
   "outputs": [],
   "source": [
    "df = pd.DataFrame.from_dict(data)"
   ]
  },
  {
   "cell_type": "code",
   "execution_count": 75,
   "id": "34f5b694-9c81-4e4e-ad65-419e9601e0f0",
   "metadata": {},
   "outputs": [
    {
     "data": {
      "text/html": [
       "<div>\n",
       "<style scoped>\n",
       "    .dataframe tbody tr th:only-of-type {\n",
       "        vertical-align: middle;\n",
       "    }\n",
       "\n",
       "    .dataframe tbody tr th {\n",
       "        vertical-align: top;\n",
       "    }\n",
       "\n",
       "    .dataframe thead th {\n",
       "        text-align: right;\n",
       "    }\n",
       "</style>\n",
       "<table border=\"1\" class=\"dataframe\">\n",
       "  <thead>\n",
       "    <tr style=\"text-align: right;\">\n",
       "      <th></th>\n",
       "      <th>article_header</th>\n",
       "      <th>article_url</th>\n",
       "      <th>article_date_published</th>\n",
       "      <th>article_text</th>\n",
       "      <th>tags</th>\n",
       "    </tr>\n",
       "  </thead>\n",
       "  <tbody>\n",
       "    <tr>\n",
       "      <th>0</th>\n",
       "      <td>[Comfort with a twist trend prevalent at Winte...</td>\n",
       "      <td>https://www.foodbusinessnews.net/articles/2072...</td>\n",
       "      <td>[02.21.2022]</td>\n",
       "      <td>CHICAGO — Dairy cheese, whether it comes from ...</td>\n",
       "      <td>[Ingredient Applications, Trends, Dairy]</td>\n",
       "    </tr>\n",
       "    <tr>\n",
       "      <th>1</th>\n",
       "      <td>[ADM identifies seven alternative protein trends]</td>\n",
       "      <td>https://www.foodbusinessnews.net/articles/2064...</td>\n",
       "      <td>[02.10.2022]</td>\n",
       "      <td>CHICAGO — ADM has identified seven consumer tr...</td>\n",
       "      <td>[Trends, Plant Protein]</td>\n",
       "    </tr>\n",
       "    <tr>\n",
       "      <th>2</th>\n",
       "      <td>[Sizing up snacking trends]</td>\n",
       "      <td>https://www.foodbusinessnews.net/articles/2052...</td>\n",
       "      <td>[01.26.2022]</td>\n",
       "      <td>CHICAGO — Consumers’ preference for snacking a...</td>\n",
       "      <td>[Business, Trends, Mondelez International, Sna...</td>\n",
       "    </tr>\n",
       "    <tr>\n",
       "      <th>3</th>\n",
       "      <td>[Targeting breakfast food for all morning occa...</td>\n",
       "      <td>https://www.foodbusinessnews.net/articles/2060...</td>\n",
       "      <td>[02.04.2022]</td>\n",
       "      <td>CHICAGO — Companies could increase breakfast p...</td>\n",
       "      <td>[Trends]</td>\n",
       "    </tr>\n",
       "    <tr>\n",
       "      <th>4</th>\n",
       "      <td>[Webinar: Flavor trends to watch in 2022]</td>\n",
       "      <td>https://www.foodbusinessnews.net/articles/2053...</td>\n",
       "      <td>[01.26.2022]</td>\n",
       "      <td>KANSAS CITY — What flavor trends are on tap fo...</td>\n",
       "      <td>[Trends, Flavors]</td>\n",
       "    </tr>\n",
       "  </tbody>\n",
       "</table>\n",
       "</div>"
      ],
      "text/plain": [
       "                                      article_header  \\\n",
       "0  [Comfort with a twist trend prevalent at Winte...   \n",
       "1  [ADM identifies seven alternative protein trends]   \n",
       "2                        [Sizing up snacking trends]   \n",
       "3  [Targeting breakfast food for all morning occa...   \n",
       "4          [Webinar: Flavor trends to watch in 2022]   \n",
       "\n",
       "                                         article_url article_date_published  \\\n",
       "0  https://www.foodbusinessnews.net/articles/2072...           [02.21.2022]   \n",
       "1  https://www.foodbusinessnews.net/articles/2064...           [02.10.2022]   \n",
       "2  https://www.foodbusinessnews.net/articles/2052...           [01.26.2022]   \n",
       "3  https://www.foodbusinessnews.net/articles/2060...           [02.04.2022]   \n",
       "4  https://www.foodbusinessnews.net/articles/2053...           [01.26.2022]   \n",
       "\n",
       "                                        article_text  \\\n",
       "0  CHICAGO — Dairy cheese, whether it comes from ...   \n",
       "1  CHICAGO — ADM has identified seven consumer tr...   \n",
       "2  CHICAGO — Consumers’ preference for snacking a...   \n",
       "3  CHICAGO — Companies could increase breakfast p...   \n",
       "4  KANSAS CITY — What flavor trends are on tap fo...   \n",
       "\n",
       "                                                tags  \n",
       "0           [Ingredient Applications, Trends, Dairy]  \n",
       "1                            [Trends, Plant Protein]  \n",
       "2  [Business, Trends, Mondelez International, Sna...  \n",
       "3                                           [Trends]  \n",
       "4                                  [Trends, Flavors]  "
      ]
     },
     "execution_count": 75,
     "metadata": {},
     "output_type": "execute_result"
    }
   ],
   "source": [
    "df.head()"
   ]
  },
  {
   "cell_type": "code",
   "execution_count": 76,
   "id": "d4633f62-d8a1-4ad6-be29-e3af6fde1cd0",
   "metadata": {},
   "outputs": [
    {
     "data": {
      "text/html": [
       "<div>\n",
       "<style scoped>\n",
       "    .dataframe tbody tr th:only-of-type {\n",
       "        vertical-align: middle;\n",
       "    }\n",
       "\n",
       "    .dataframe tbody tr th {\n",
       "        vertical-align: top;\n",
       "    }\n",
       "\n",
       "    .dataframe thead th {\n",
       "        text-align: right;\n",
       "    }\n",
       "</style>\n",
       "<table border=\"1\" class=\"dataframe\">\n",
       "  <thead>\n",
       "    <tr style=\"text-align: right;\">\n",
       "      <th></th>\n",
       "      <th>article_header</th>\n",
       "      <th>article_url</th>\n",
       "      <th>article_date_published</th>\n",
       "      <th>article_text</th>\n",
       "      <th>tags</th>\n",
       "    </tr>\n",
       "  </thead>\n",
       "  <tbody>\n",
       "    <tr>\n",
       "      <th>0</th>\n",
       "      <td>Comfort with a twist trend prevalent at Winter...</td>\n",
       "      <td>https://www.foodbusinessnews.net/articles/2072...</td>\n",
       "      <td>02.21.2022</td>\n",
       "      <td>CHICAGO — Dairy cheese, whether it comes from ...</td>\n",
       "      <td>Ingredient Applications</td>\n",
       "    </tr>\n",
       "    <tr>\n",
       "      <th>1</th>\n",
       "      <td>ADM identifies seven alternative protein trends</td>\n",
       "      <td>https://www.foodbusinessnews.net/articles/2064...</td>\n",
       "      <td>02.10.2022</td>\n",
       "      <td>CHICAGO — ADM has identified seven consumer tr...</td>\n",
       "      <td>Trends</td>\n",
       "    </tr>\n",
       "    <tr>\n",
       "      <th>2</th>\n",
       "      <td>Sizing up snacking trends</td>\n",
       "      <td>https://www.foodbusinessnews.net/articles/2052...</td>\n",
       "      <td>01.26.2022</td>\n",
       "      <td>CHICAGO — Consumers’ preference for snacking a...</td>\n",
       "      <td>Business</td>\n",
       "    </tr>\n",
       "    <tr>\n",
       "      <th>3</th>\n",
       "      <td>Targeting breakfast food for all morning occas...</td>\n",
       "      <td>https://www.foodbusinessnews.net/articles/2060...</td>\n",
       "      <td>02.04.2022</td>\n",
       "      <td>CHICAGO — Companies could increase breakfast p...</td>\n",
       "      <td>Trends</td>\n",
       "    </tr>\n",
       "    <tr>\n",
       "      <th>4</th>\n",
       "      <td>Webinar: Flavor trends to watch in 2022</td>\n",
       "      <td>https://www.foodbusinessnews.net/articles/2053...</td>\n",
       "      <td>01.26.2022</td>\n",
       "      <td>KANSAS CITY — What flavor trends are on tap fo...</td>\n",
       "      <td>Trends</td>\n",
       "    </tr>\n",
       "  </tbody>\n",
       "</table>\n",
       "</div>"
      ],
      "text/plain": [
       "                                      article_header  \\\n",
       "0  Comfort with a twist trend prevalent at Winter...   \n",
       "1    ADM identifies seven alternative protein trends   \n",
       "2                          Sizing up snacking trends   \n",
       "3  Targeting breakfast food for all morning occas...   \n",
       "4            Webinar: Flavor trends to watch in 2022   \n",
       "\n",
       "                                         article_url article_date_published  \\\n",
       "0  https://www.foodbusinessnews.net/articles/2072...             02.21.2022   \n",
       "1  https://www.foodbusinessnews.net/articles/2064...             02.10.2022   \n",
       "2  https://www.foodbusinessnews.net/articles/2052...             01.26.2022   \n",
       "3  https://www.foodbusinessnews.net/articles/2060...             02.04.2022   \n",
       "4  https://www.foodbusinessnews.net/articles/2053...             01.26.2022   \n",
       "\n",
       "                                        article_text                     tags  \n",
       "0  CHICAGO — Dairy cheese, whether it comes from ...  Ingredient Applications  \n",
       "1  CHICAGO — ADM has identified seven consumer tr...                   Trends  \n",
       "2  CHICAGO — Consumers’ preference for snacking a...                 Business  \n",
       "3  CHICAGO — Companies could increase breakfast p...                   Trends  \n",
       "4  KANSAS CITY — What flavor trends are on tap fo...                   Trends  "
      ]
     },
     "execution_count": 76,
     "metadata": {},
     "output_type": "execute_result"
    }
   ],
   "source": [
    "#tidying up the data by removing instances of closed brackets \n",
    "\n",
    "df['article_date_published'] = df['article_date_published'].str[0]\n",
    "df['article_header'] = df['article_header'].str[0]\n",
    "df['tags'] = df['tags'].str[0]\n",
    "df.head()"
   ]
  },
  {
   "cell_type": "code",
   "execution_count": 78,
   "id": "4b611966-15ad-4e48-8f65-69726a023209",
   "metadata": {},
   "outputs": [
    {
     "data": {
      "text/plain": [
       "Index(['article_header', 'article_url', 'article_date_published',\n",
       "       'article_text', 'tags'],\n",
       "      dtype='object')"
      ]
     },
     "execution_count": 78,
     "metadata": {},
     "output_type": "execute_result"
    }
   ],
   "source": [
    "df.columns"
   ]
  },
  {
   "cell_type": "code",
   "execution_count": 79,
   "id": "1f07c0d8-9eba-4c65-91bb-68e500f20c1e",
   "metadata": {},
   "outputs": [],
   "source": [
    "#converting the article_date_published column to datetime\n",
    "\n",
    "df['article_date_published'] =  pd.to_datetime(df['article_date_published'], infer_datetime_format=True)\n"
   ]
  },
  {
   "cell_type": "code",
   "execution_count": 83,
   "id": "8f683e95-413f-497e-bbd8-355c2ad21203",
   "metadata": {},
   "outputs": [
    {
     "data": {
      "text/html": [
       "<div>\n",
       "<style scoped>\n",
       "    .dataframe tbody tr th:only-of-type {\n",
       "        vertical-align: middle;\n",
       "    }\n",
       "\n",
       "    .dataframe tbody tr th {\n",
       "        vertical-align: top;\n",
       "    }\n",
       "\n",
       "    .dataframe thead th {\n",
       "        text-align: right;\n",
       "    }\n",
       "</style>\n",
       "<table border=\"1\" class=\"dataframe\">\n",
       "  <thead>\n",
       "    <tr style=\"text-align: right;\">\n",
       "      <th></th>\n",
       "      <th>article_header</th>\n",
       "      <th>article_url</th>\n",
       "      <th>article_text</th>\n",
       "      <th>tags</th>\n",
       "    </tr>\n",
       "    <tr>\n",
       "      <th>article_date_published</th>\n",
       "      <th></th>\n",
       "      <th></th>\n",
       "      <th></th>\n",
       "      <th></th>\n",
       "    </tr>\n",
       "  </thead>\n",
       "  <tbody>\n",
       "    <tr>\n",
       "      <th>2012-08-08</th>\n",
       "      <td>New global food paradigm advocated</td>\n",
       "      <td>https://www.foodbusinessnews.net/articles/129-...</td>\n",
       "      <td>ROME — A paradigm shift in favor of food biodi...</td>\n",
       "      <td>Trends</td>\n",
       "    </tr>\n",
       "    <tr>\n",
       "      <th>2012-08-13</th>\n",
       "      <td>Cholesterol levels in youth decline</td>\n",
       "      <td>https://www.foodbusinessnews.net/articles/45-c...</td>\n",
       "      <td>CHICAGO — The average cholesterol levels in U....</td>\n",
       "      <td>Trends</td>\n",
       "    </tr>\n",
       "    <tr>\n",
       "      <th>2012-08-15</th>\n",
       "      <td>Prevalence of adult obesity remained high in 2011</td>\n",
       "      <td>https://www.foodbusinessnews.net/articles/146-...</td>\n",
       "      <td>ATLANTA — New data published by the Centers fo...</td>\n",
       "      <td>Trends</td>\n",
       "    </tr>\n",
       "    <tr>\n",
       "      <th>2012-08-22</th>\n",
       "      <td>Cornell study shows stickers may help sell fruits</td>\n",
       "      <td>https://www.foodbusinessnews.net/articles/51-c...</td>\n",
       "      <td>ITHACA, N.Y. — A new study from researchers at...</td>\n",
       "      <td>Trends</td>\n",
       "    </tr>\n",
       "    <tr>\n",
       "      <th>2012-08-22</th>\n",
       "      <td>Schools work creatively to meet nutrition stan...</td>\n",
       "      <td>https://www.foodbusinessnews.net/articles/155-...</td>\n",
       "      <td>NATIONAL HARBOR, MD. — New federal nutrition s...</td>\n",
       "      <td>Trends</td>\n",
       "    </tr>\n",
       "    <tr>\n",
       "      <th>...</th>\n",
       "      <td>...</td>\n",
       "      <td>...</td>\n",
       "      <td>...</td>\n",
       "      <td>...</td>\n",
       "    </tr>\n",
       "    <tr>\n",
       "      <th>2022-02-18</th>\n",
       "      <td>Gen Z, millennials seek comfort with a side of...</td>\n",
       "      <td>https://www.foodbusinessnews.net/articles/2071...</td>\n",
       "      <td>NEW YORK — Young adults plan to balance their ...</td>\n",
       "      <td>Trends</td>\n",
       "    </tr>\n",
       "    <tr>\n",
       "      <th>2022-02-21</th>\n",
       "      <td>Comfort with a twist trend prevalent at Winter...</td>\n",
       "      <td>https://www.foodbusinessnews.net/articles/2072...</td>\n",
       "      <td>CHICAGO — Dairy cheese, whether it comes from ...</td>\n",
       "      <td>Ingredient Applications</td>\n",
       "    </tr>\n",
       "    <tr>\n",
       "      <th>NaT</th>\n",
       "      <td>NaN</td>\n",
       "      <td>https://www.nxtbook.com/sosland/adm/adm-global...</td>\n",
       "      <td></td>\n",
       "      <td>NaN</td>\n",
       "    </tr>\n",
       "    <tr>\n",
       "      <th>NaT</th>\n",
       "      <td>NaN</td>\n",
       "      <td>https://www.nxtbook.com/sosland/ingredion/ingr...</td>\n",
       "      <td></td>\n",
       "      <td>NaN</td>\n",
       "    </tr>\n",
       "    <tr>\n",
       "      <th>NaT</th>\n",
       "      <td>NaN</td>\n",
       "      <td>https://www.nxtbook.com/sosland/fcs/2018_11_01...</td>\n",
       "      <td></td>\n",
       "      <td>NaN</td>\n",
       "    </tr>\n",
       "  </tbody>\n",
       "</table>\n",
       "<p>2285 rows × 4 columns</p>\n",
       "</div>"
      ],
      "text/plain": [
       "                                                           article_header  \\\n",
       "article_date_published                                                      \n",
       "2012-08-08                             New global food paradigm advocated   \n",
       "2012-08-13                            Cholesterol levels in youth decline   \n",
       "2012-08-15              Prevalence of adult obesity remained high in 2011   \n",
       "2012-08-22              Cornell study shows stickers may help sell fruits   \n",
       "2012-08-22              Schools work creatively to meet nutrition stan...   \n",
       "...                                                                   ...   \n",
       "2022-02-18              Gen Z, millennials seek comfort with a side of...   \n",
       "2022-02-21              Comfort with a twist trend prevalent at Winter...   \n",
       "NaT                                                                   NaN   \n",
       "NaT                                                                   NaN   \n",
       "NaT                                                                   NaN   \n",
       "\n",
       "                                                              article_url  \\\n",
       "article_date_published                                                      \n",
       "2012-08-08              https://www.foodbusinessnews.net/articles/129-...   \n",
       "2012-08-13              https://www.foodbusinessnews.net/articles/45-c...   \n",
       "2012-08-15              https://www.foodbusinessnews.net/articles/146-...   \n",
       "2012-08-22              https://www.foodbusinessnews.net/articles/51-c...   \n",
       "2012-08-22              https://www.foodbusinessnews.net/articles/155-...   \n",
       "...                                                                   ...   \n",
       "2022-02-18              https://www.foodbusinessnews.net/articles/2071...   \n",
       "2022-02-21              https://www.foodbusinessnews.net/articles/2072...   \n",
       "NaT                     https://www.nxtbook.com/sosland/adm/adm-global...   \n",
       "NaT                     https://www.nxtbook.com/sosland/ingredion/ingr...   \n",
       "NaT                     https://www.nxtbook.com/sosland/fcs/2018_11_01...   \n",
       "\n",
       "                                                             article_text  \\\n",
       "article_date_published                                                      \n",
       "2012-08-08              ROME — A paradigm shift in favor of food biodi...   \n",
       "2012-08-13              CHICAGO — The average cholesterol levels in U....   \n",
       "2012-08-15              ATLANTA — New data published by the Centers fo...   \n",
       "2012-08-22              ITHACA, N.Y. — A new study from researchers at...   \n",
       "2012-08-22              NATIONAL HARBOR, MD. — New federal nutrition s...   \n",
       "...                                                                   ...   \n",
       "2022-02-18              NEW YORK — Young adults plan to balance their ...   \n",
       "2022-02-21              CHICAGO — Dairy cheese, whether it comes from ...   \n",
       "NaT                                                                         \n",
       "NaT                                                                         \n",
       "NaT                                                                         \n",
       "\n",
       "                                           tags  \n",
       "article_date_published                           \n",
       "2012-08-08                               Trends  \n",
       "2012-08-13                               Trends  \n",
       "2012-08-15                               Trends  \n",
       "2012-08-22                               Trends  \n",
       "2012-08-22                               Trends  \n",
       "...                                         ...  \n",
       "2022-02-18                               Trends  \n",
       "2022-02-21              Ingredient Applications  \n",
       "NaT                                         NaN  \n",
       "NaT                                         NaN  \n",
       "NaT                                         NaN  \n",
       "\n",
       "[2285 rows x 4 columns]"
      ]
     },
     "execution_count": 83,
     "metadata": {},
     "output_type": "execute_result"
    }
   ],
   "source": [
    "df.set_index('article_date_published').sort_index()"
   ]
  },
  {
   "cell_type": "code",
   "execution_count": 86,
   "id": "c6789852-496b-43f9-a403-70bf85797be8",
   "metadata": {},
   "outputs": [
    {
     "data": {
      "text/plain": [
       "article_header            3\n",
       "article_url               0\n",
       "article_date_published    3\n",
       "article_text              0\n",
       "tags                      3\n",
       "dtype: int64"
      ]
     },
     "execution_count": 86,
     "metadata": {},
     "output_type": "execute_result"
    }
   ],
   "source": [
    "# Finding instances of NaN values\n",
    "\n",
    "df.isna().sum()"
   ]
  },
  {
   "cell_type": "code",
   "execution_count": 92,
   "id": "da4f9193-2ec1-45c0-bd77-3c1745d756b5",
   "metadata": {},
   "outputs": [],
   "source": [
    "df_clean = df.dropna()"
   ]
  },
  {
   "cell_type": "code",
   "execution_count": 93,
   "id": "fd06437a-670d-45ac-848e-dd884f5302e5",
   "metadata": {},
   "outputs": [
    {
     "data": {
      "text/html": [
       "<div>\n",
       "<style scoped>\n",
       "    .dataframe tbody tr th:only-of-type {\n",
       "        vertical-align: middle;\n",
       "    }\n",
       "\n",
       "    .dataframe tbody tr th {\n",
       "        vertical-align: top;\n",
       "    }\n",
       "\n",
       "    .dataframe thead th {\n",
       "        text-align: right;\n",
       "    }\n",
       "</style>\n",
       "<table border=\"1\" class=\"dataframe\">\n",
       "  <thead>\n",
       "    <tr style=\"text-align: right;\">\n",
       "      <th></th>\n",
       "      <th>article_header</th>\n",
       "      <th>article_url</th>\n",
       "      <th>article_text</th>\n",
       "      <th>tags</th>\n",
       "    </tr>\n",
       "    <tr>\n",
       "      <th>article_date_published</th>\n",
       "      <th></th>\n",
       "      <th></th>\n",
       "      <th></th>\n",
       "      <th></th>\n",
       "    </tr>\n",
       "  </thead>\n",
       "  <tbody>\n",
       "    <tr>\n",
       "      <th>2012-08-08</th>\n",
       "      <td>New global food paradigm advocated</td>\n",
       "      <td>https://www.foodbusinessnews.net/articles/129-...</td>\n",
       "      <td>ROME — A paradigm shift in favor of food biodi...</td>\n",
       "      <td>Trends</td>\n",
       "    </tr>\n",
       "    <tr>\n",
       "      <th>2012-08-13</th>\n",
       "      <td>Cholesterol levels in youth decline</td>\n",
       "      <td>https://www.foodbusinessnews.net/articles/45-c...</td>\n",
       "      <td>CHICAGO — The average cholesterol levels in U....</td>\n",
       "      <td>Trends</td>\n",
       "    </tr>\n",
       "    <tr>\n",
       "      <th>2012-08-15</th>\n",
       "      <td>Prevalence of adult obesity remained high in 2011</td>\n",
       "      <td>https://www.foodbusinessnews.net/articles/146-...</td>\n",
       "      <td>ATLANTA — New data published by the Centers fo...</td>\n",
       "      <td>Trends</td>\n",
       "    </tr>\n",
       "    <tr>\n",
       "      <th>2012-08-22</th>\n",
       "      <td>Cornell study shows stickers may help sell fruits</td>\n",
       "      <td>https://www.foodbusinessnews.net/articles/51-c...</td>\n",
       "      <td>ITHACA, N.Y. — A new study from researchers at...</td>\n",
       "      <td>Trends</td>\n",
       "    </tr>\n",
       "    <tr>\n",
       "      <th>2012-08-22</th>\n",
       "      <td>Schools work creatively to meet nutrition stan...</td>\n",
       "      <td>https://www.foodbusinessnews.net/articles/155-...</td>\n",
       "      <td>NATIONAL HARBOR, MD. — New federal nutrition s...</td>\n",
       "      <td>Trends</td>\n",
       "    </tr>\n",
       "    <tr>\n",
       "      <th>...</th>\n",
       "      <td>...</td>\n",
       "      <td>...</td>\n",
       "      <td>...</td>\n",
       "      <td>...</td>\n",
       "    </tr>\n",
       "    <tr>\n",
       "      <th>2022-02-08</th>\n",
       "      <td>Trends spotted at the Winter Fancy Food Show</td>\n",
       "      <td>https://www.foodbusinessnews.net/articles/2063...</td>\n",
       "      <td>LAS VEGAS — Kelp, cactus and hemp are among th...</td>\n",
       "      <td>Trends</td>\n",
       "    </tr>\n",
       "    <tr>\n",
       "      <th>2022-02-10</th>\n",
       "      <td>ADM identifies seven alternative protein trends</td>\n",
       "      <td>https://www.foodbusinessnews.net/articles/2064...</td>\n",
       "      <td>CHICAGO — ADM has identified seven consumer tr...</td>\n",
       "      <td>Trends</td>\n",
       "    </tr>\n",
       "    <tr>\n",
       "      <th>2022-02-16</th>\n",
       "      <td>FrieslandCampina forecasts 2022 nutrition trends</td>\n",
       "      <td>https://www.foodbusinessnews.net/articles/2069...</td>\n",
       "      <td>AMERSFOORT, THE NETHERLANDS — FrieslandCampina...</td>\n",
       "      <td>Trends</td>\n",
       "    </tr>\n",
       "    <tr>\n",
       "      <th>2022-02-18</th>\n",
       "      <td>Gen Z, millennials seek comfort with a side of...</td>\n",
       "      <td>https://www.foodbusinessnews.net/articles/2071...</td>\n",
       "      <td>NEW YORK — Young adults plan to balance their ...</td>\n",
       "      <td>Trends</td>\n",
       "    </tr>\n",
       "    <tr>\n",
       "      <th>2022-02-21</th>\n",
       "      <td>Comfort with a twist trend prevalent at Winter...</td>\n",
       "      <td>https://www.foodbusinessnews.net/articles/2072...</td>\n",
       "      <td>CHICAGO — Dairy cheese, whether it comes from ...</td>\n",
       "      <td>Ingredient Applications</td>\n",
       "    </tr>\n",
       "  </tbody>\n",
       "</table>\n",
       "<p>2282 rows × 4 columns</p>\n",
       "</div>"
      ],
      "text/plain": [
       "                                                           article_header  \\\n",
       "article_date_published                                                      \n",
       "2012-08-08                             New global food paradigm advocated   \n",
       "2012-08-13                            Cholesterol levels in youth decline   \n",
       "2012-08-15              Prevalence of adult obesity remained high in 2011   \n",
       "2012-08-22              Cornell study shows stickers may help sell fruits   \n",
       "2012-08-22              Schools work creatively to meet nutrition stan...   \n",
       "...                                                                   ...   \n",
       "2022-02-08                   Trends spotted at the Winter Fancy Food Show   \n",
       "2022-02-10                ADM identifies seven alternative protein trends   \n",
       "2022-02-16              FrieslandCampina forecasts 2022 nutrition trends    \n",
       "2022-02-18              Gen Z, millennials seek comfort with a side of...   \n",
       "2022-02-21              Comfort with a twist trend prevalent at Winter...   \n",
       "\n",
       "                                                              article_url  \\\n",
       "article_date_published                                                      \n",
       "2012-08-08              https://www.foodbusinessnews.net/articles/129-...   \n",
       "2012-08-13              https://www.foodbusinessnews.net/articles/45-c...   \n",
       "2012-08-15              https://www.foodbusinessnews.net/articles/146-...   \n",
       "2012-08-22              https://www.foodbusinessnews.net/articles/51-c...   \n",
       "2012-08-22              https://www.foodbusinessnews.net/articles/155-...   \n",
       "...                                                                   ...   \n",
       "2022-02-08              https://www.foodbusinessnews.net/articles/2063...   \n",
       "2022-02-10              https://www.foodbusinessnews.net/articles/2064...   \n",
       "2022-02-16              https://www.foodbusinessnews.net/articles/2069...   \n",
       "2022-02-18              https://www.foodbusinessnews.net/articles/2071...   \n",
       "2022-02-21              https://www.foodbusinessnews.net/articles/2072...   \n",
       "\n",
       "                                                             article_text  \\\n",
       "article_date_published                                                      \n",
       "2012-08-08              ROME — A paradigm shift in favor of food biodi...   \n",
       "2012-08-13              CHICAGO — The average cholesterol levels in U....   \n",
       "2012-08-15              ATLANTA — New data published by the Centers fo...   \n",
       "2012-08-22              ITHACA, N.Y. — A new study from researchers at...   \n",
       "2012-08-22              NATIONAL HARBOR, MD. — New federal nutrition s...   \n",
       "...                                                                   ...   \n",
       "2022-02-08              LAS VEGAS — Kelp, cactus and hemp are among th...   \n",
       "2022-02-10              CHICAGO — ADM has identified seven consumer tr...   \n",
       "2022-02-16              AMERSFOORT, THE NETHERLANDS — FrieslandCampina...   \n",
       "2022-02-18              NEW YORK — Young adults plan to balance their ...   \n",
       "2022-02-21              CHICAGO — Dairy cheese, whether it comes from ...   \n",
       "\n",
       "                                           tags  \n",
       "article_date_published                           \n",
       "2012-08-08                               Trends  \n",
       "2012-08-13                               Trends  \n",
       "2012-08-15                               Trends  \n",
       "2012-08-22                               Trends  \n",
       "2012-08-22                               Trends  \n",
       "...                                         ...  \n",
       "2022-02-08                               Trends  \n",
       "2022-02-10                               Trends  \n",
       "2022-02-16                               Trends  \n",
       "2022-02-18                               Trends  \n",
       "2022-02-21              Ingredient Applications  \n",
       "\n",
       "[2282 rows x 4 columns]"
      ]
     },
     "execution_count": 93,
     "metadata": {},
     "output_type": "execute_result"
    }
   ],
   "source": [
    "df_clean.set_index('article_date_published').sort_index()"
   ]
  },
  {
   "cell_type": "code",
   "execution_count": 562,
   "id": "1c08a7eb-5628-4235-b759-ebf950436078",
   "metadata": {},
   "outputs": [
    {
     "name": "stdout",
     "output_type": "stream",
     "text": [
      "<class 'pandas.core.frame.DataFrame'>\n",
      "Int64Index: 2282 entries, 0 to 2284\n",
      "Data columns (total 7 columns):\n",
      " #   Column                    Non-Null Count  Dtype         \n",
      "---  ------                    --------------  -----         \n",
      " 0   article_header            2282 non-null   object        \n",
      " 1   article_url               2282 non-null   object        \n",
      " 2   article_date_published    2282 non-null   datetime64[ns]\n",
      " 3   article_text              2282 non-null   object        \n",
      " 4   tags                      2282 non-null   object        \n",
      " 5   article_text_processed    2282 non-null   object        \n",
      " 6   article_header_processed  2282 non-null   object        \n",
      "dtypes: datetime64[ns](1), object(6)\n",
      "memory usage: 207.2+ KB\n"
     ]
    }
   ],
   "source": [
    "df_clean.info()"
   ]
  },
  {
   "cell_type": "code",
   "execution_count": 565,
   "id": "caf3c8ab-6690-4d43-b298-f21dbc518202",
   "metadata": {},
   "outputs": [
    {
     "data": {
      "text/plain": [
       "Trends                     674\n",
       "Ingredient Applications    383\n",
       "Food Products              368\n",
       "Business                   353\n",
       "Companies                  221\n",
       "Operations                 131\n",
       "Sales Channels             117\n",
       "Ingredient Markets          31\n",
       "Latest News                  4\n",
       "Name: tags, dtype: int64"
      ]
     },
     "execution_count": 565,
     "metadata": {},
     "output_type": "execute_result"
    }
   ],
   "source": [
    "df_clean.tags.value_counts()"
   ]
  },
  {
   "cell_type": "code",
   "execution_count": 108,
   "id": "ba524cf4-1c46-4edc-ae10-df9444d95b70",
   "metadata": {},
   "outputs": [
    {
     "data": {
      "text/plain": [
       "0    CHICAGO — Dairy cheese, whether it comes from ...\n",
       "1    CHICAGO — ADM has identified seven consumer tr...\n",
       "2    CHICAGO — Consumers’ preference for snacking a...\n",
       "3    CHICAGO — Companies could increase breakfast p...\n",
       "4    KANSAS CITY — What flavor trends are on tap fo...\n",
       "5    LAS VEGAS — Kelp, cactus and hemp are among th...\n",
       "6    NEW YORK — Online grocery shopping is more pop...\n",
       "7    ST. PETERSBURG, FLA. — New private label produ...\n",
       "8    AMERSFOORT, THE NETHERLANDS — FrieslandCampina...\n",
       "9    NEW YORK — Young adults plan to balance their ...\n",
       "Name: article_text, dtype: object"
      ]
     },
     "execution_count": 108,
     "metadata": {},
     "output_type": "execute_result"
    }
   ],
   "source": [
    "df_clean['article_text'][:10]"
   ]
  },
  {
   "cell_type": "code",
   "execution_count": 246,
   "id": "e8941087-497c-4f71-a2dc-28d5cc5bd268",
   "metadata": {},
   "outputs": [
    {
     "data": {
      "text/html": [
       "<div>\n",
       "<style scoped>\n",
       "    .dataframe tbody tr th:only-of-type {\n",
       "        vertical-align: middle;\n",
       "    }\n",
       "\n",
       "    .dataframe tbody tr th {\n",
       "        vertical-align: top;\n",
       "    }\n",
       "\n",
       "    .dataframe thead th {\n",
       "        text-align: right;\n",
       "    }\n",
       "</style>\n",
       "<table border=\"1\" class=\"dataframe\">\n",
       "  <thead>\n",
       "    <tr style=\"text-align: right;\">\n",
       "      <th></th>\n",
       "      <th>article_header</th>\n",
       "      <th>article_url</th>\n",
       "      <th>article_date_published</th>\n",
       "      <th>article_text</th>\n",
       "      <th>tags</th>\n",
       "    </tr>\n",
       "  </thead>\n",
       "  <tbody>\n",
       "    <tr>\n",
       "      <th>0</th>\n",
       "      <td>Comfort with a twist trend prevalent at Winter...</td>\n",
       "      <td>https://www.foodbusinessnews.net/articles/2072...</td>\n",
       "      <td>2022-02-21</td>\n",
       "      <td>CHICAGO — Dairy cheese, whether it comes from ...</td>\n",
       "      <td>Ingredient Applications</td>\n",
       "    </tr>\n",
       "    <tr>\n",
       "      <th>1</th>\n",
       "      <td>ADM identifies seven alternative protein trends</td>\n",
       "      <td>https://www.foodbusinessnews.net/articles/2064...</td>\n",
       "      <td>2022-02-10</td>\n",
       "      <td>CHICAGO — ADM has identified seven consumer tr...</td>\n",
       "      <td>Trends</td>\n",
       "    </tr>\n",
       "    <tr>\n",
       "      <th>2</th>\n",
       "      <td>Sizing up snacking trends</td>\n",
       "      <td>https://www.foodbusinessnews.net/articles/2052...</td>\n",
       "      <td>2022-01-26</td>\n",
       "      <td>CHICAGO — Consumers’ preference for snacking a...</td>\n",
       "      <td>Business</td>\n",
       "    </tr>\n",
       "    <tr>\n",
       "      <th>3</th>\n",
       "      <td>Targeting breakfast food for all morning occas...</td>\n",
       "      <td>https://www.foodbusinessnews.net/articles/2060...</td>\n",
       "      <td>2022-02-04</td>\n",
       "      <td>CHICAGO — Companies could increase breakfast p...</td>\n",
       "      <td>Trends</td>\n",
       "    </tr>\n",
       "    <tr>\n",
       "      <th>4</th>\n",
       "      <td>Webinar: Flavor trends to watch in 2022</td>\n",
       "      <td>https://www.foodbusinessnews.net/articles/2053...</td>\n",
       "      <td>2022-01-26</td>\n",
       "      <td>KANSAS CITY — What flavor trends are on tap fo...</td>\n",
       "      <td>Trends</td>\n",
       "    </tr>\n",
       "  </tbody>\n",
       "</table>\n",
       "</div>"
      ],
      "text/plain": [
       "                                      article_header  \\\n",
       "0  Comfort with a twist trend prevalent at Winter...   \n",
       "1    ADM identifies seven alternative protein trends   \n",
       "2                          Sizing up snacking trends   \n",
       "3  Targeting breakfast food for all morning occas...   \n",
       "4            Webinar: Flavor trends to watch in 2022   \n",
       "\n",
       "                                         article_url article_date_published  \\\n",
       "0  https://www.foodbusinessnews.net/articles/2072...             2022-02-21   \n",
       "1  https://www.foodbusinessnews.net/articles/2064...             2022-02-10   \n",
       "2  https://www.foodbusinessnews.net/articles/2052...             2022-01-26   \n",
       "3  https://www.foodbusinessnews.net/articles/2060...             2022-02-04   \n",
       "4  https://www.foodbusinessnews.net/articles/2053...             2022-01-26   \n",
       "\n",
       "                                        article_text                     tags  \n",
       "0  CHICAGO — Dairy cheese, whether it comes from ...  Ingredient Applications  \n",
       "1  CHICAGO — ADM has identified seven consumer tr...                   Trends  \n",
       "2  CHICAGO — Consumers’ preference for snacking a...                 Business  \n",
       "3  CHICAGO — Companies could increase breakfast p...                   Trends  \n",
       "4  KANSAS CITY — What flavor trends are on tap fo...                   Trends  "
      ]
     },
     "execution_count": 246,
     "metadata": {},
     "output_type": "execute_result"
    }
   ],
   "source": [
    "df_clean.head()"
   ]
  },
  {
   "cell_type": "markdown",
   "id": "78e3642d-35a4-4333-9925-5104b6ae8270",
   "metadata": {},
   "source": [
    "### Analysis"
   ]
  },
  {
   "cell_type": "code",
   "execution_count": 634,
   "id": "56ba7f4e-2c4e-476a-bf98-4c0a74969ab9",
   "metadata": {},
   "outputs": [
    {
     "name": "stderr",
     "output_type": "stream",
     "text": [
      "[nltk_data] Downloading package stopwords to\n",
      "[nltk_data]     C:\\Users\\FaridSarwari\\AppData\\Roaming\\nltk_data...\n",
      "[nltk_data]   Package stopwords is already up-to-date!\n"
     ]
    },
    {
     "data": {
      "text/plain": [
       "True"
      ]
     },
     "execution_count": 634,
     "metadata": {},
     "output_type": "execute_result"
    }
   ],
   "source": [
    "import nltk \n",
    "nltk.download('stopwords')"
   ]
  },
  {
   "cell_type": "code",
   "execution_count": 635,
   "id": "03b111b6-a4b1-4f37-84ee-1965ca53b748",
   "metadata": {},
   "outputs": [],
   "source": [
    "# Tools for plotting \n",
    "\n",
    "import pyLDAvis\n",
    "import pyLDAvis.gensim_models as gensimvis"
   ]
  },
  {
   "cell_type": "code",
   "execution_count": 636,
   "id": "9e7cfed4-a1f0-4b21-88b0-e101c7d952f4",
   "metadata": {},
   "outputs": [],
   "source": [
    "import gensim\n",
    "import gensim.corpora as corpora\n",
    "from gensim.utils import simple_preprocess\n",
    "from gensim.models import CoherenceModel"
   ]
  },
  {
   "cell_type": "code",
   "execution_count": 637,
   "id": "3d8b8e51-cff8-4eba-a9d1-b8dcac3301f3",
   "metadata": {},
   "outputs": [],
   "source": [
    "# spacy for lemmatization\n",
    "\n",
    "\n",
    "import spacy"
   ]
  },
  {
   "cell_type": "markdown",
   "id": "94348d28-e962-430f-9f1e-c10dd5757a90",
   "metadata": {},
   "source": [
    "### Preprocessing"
   ]
  },
  {
   "cell_type": "code",
   "execution_count": 573,
   "id": "3a21daa5-2057-45d6-b402-c6d032e325d9",
   "metadata": {},
   "outputs": [
    {
     "data": {
      "text/plain": [
       "['CHICAGO —\\xa0Dairy cheese, whether it comes from cows, goats or sheep, along with plant-based varieties were plentiful at the Winter Fancy Food Show, held Feb. 6-8 in Las Vegas. The event marked the Specialty Food Association’s first live trade show in two years. While cheese dominated the dairy space, premium butters and frozen desserts also could be found among the more than 800 specialty food exhibiting companies. The prominent theme of the show was comfort foods with a twist. Such products speak to consumers who continue to seek new yet familiar experiences at home amid the ongoing pandemic.The $170.4 billion specialty food industry encompasses foods and beverages, and their specialty nature includes attributes such as exotic origin, particular processing (and often an intentional lack thereof), design, limited supply, unusual application/use, compelling packaging or channel of distribution/sale.In 2020, specialty food sales accounted for 21.5% of all food and beverage sales. Cheese has long maintained the No. 1 position in terms of dollar share of sales (6.2% in 2018), but according to The State of the Specialty Food Industry US market, which was published in June 2021, the meat, poultry, seafood (frozen and refrigerated) category ousted cheese from the top spot, growing 30% in 2020 and 36% from 2018 to 2020. The two categories each exceeded $5 billion in 2020 sales, according to the Specialty Food Association.Both meat and cheese became pandemic staples, with many consumers willing to splurge on specialty varieties in order to bring excitement to their daily meals, especially after cooking fatigue set in. Often, the two are used together. Think wagyu burger with imported Havarti cheese and prosciutto di Parma with marinated whole milk mozzarella.Prior to the pandemic, sales of cheese for Belgioioso Cheese Inc., Green Bay, Wis., were split between retail and foodservice, with mozzarella and Parmesan dominating its foodservice business into universities, hospitals and quick-service restaurants. The balanced mix enabled the company to easily pivot and deliver more cheese into retail in those early days of stocking kitchens.“We had a balanced mix of business so we were able to quickly shift our focus,” said Cathy Shifflett, director of retail sales and broker management. “We did not dump any milk and, in fact, even picked up some business. We are now pretty much back to that even split, and all that Italian cheese we made is aging nicely.”As national away-from-home dining dollars increased during the summer of 2021, Belgioioso developed a relationship with Subway, Milford, Conn. Its fresh mozzarella became a permanent item available for all sandwiches, salads and wraps, with the brand identified on menu boards.At the Fancy Food show, Belgioioso introduced some new convenience items for retail, including 8-oz sliced logs of “Scamorza-Rella,” which is a cheese like mozzarella and provolone. It’s available in traditional and hickory-smoked varieties.“Our new Artigiano mocha cheese is available in 5-oz retail wedges and 11-lb wheels for in-store cutting,” said Umberto Marconi, vice president of marketing. “This cheese is bathed in rich cocoa and Italian espresso. We like to say it is an awakening of sweet and savory flavors.”For FrieslandCampina, Paramus, NJ, the world’s largest Gouda and Dutch cheese producer, the pandemic had a positive impact on retail sales, which is the company’s focus. One of the drivers was consumers’ burgeoning interest in creating charcuterie platters. While charcuterie, by definition, refers to meats such as salami, sausage and pate, the concept has evolved to include an array of cheeses, fruits and nuts.“We set out to create the right pack in the right size for the right price,” said Debbie Seife, director of marketing. “Our new Royal Hollandia ‘entry packs’ are perfectly sized for consumers creating boards who want to try some new cheese types or add variety.”The company offers six of its most popular charcuterie-centric cheeses in 3.5-oz to 4-oz packs, which invites curious consumers to purchase a couple options without the commitment of the typical larger-size chunk. The cheeses come in shelf-ready packs designed for easy merchandising in the deli with marketing language of “pick and mix.” Each individual pack includes information on the cheese’s flavor profile and suggested pairings. The company now includes such details on most of its cheeses as part of a rebranding and new product rollout program.FrieslandCampina’s portfolio includes more than a dozen cheese brands. One of the new cheeses that debuted at the Winter Fancy Food Show was Gayo Azul Cotija. In addition, there’s new Royal Hollandia snacks, which are grab-and-go items. The pouch that holds the five or six individually wrapped 20-gram portions of cheese is made from recyclable paper and may be merchandised standing up or hanging from a peg.Snacking and entertaining — even within a bubble of friends or family — fueled many innovations this past year. Artful Apps, Parkville, Mo., used the show to introduce its Crackerology Cracker Kits. The company was founded in July 2021 by three friends who identified the need for quick, gourmet, high-end appetizers that could be paired with cocktails, beer and wine.The all-in-one kits were created so everything needed to make 24 appetizers or desserts is included in the box and may be assembled within minutes. The four savory varieties all include shelf-stable, dairy cheese from Dairyfood USA, Blue Mound, Wis. Wine & Rosemary, for example, contains savory crackers with a touch of red wine, rosemary and a hint of pepper, along with cheese schmear, preserves and a nut topping.Anderson International Foods, Jersey City, NJ, introduced Stuff n’ Roll, which is a sheet of fresh whole milk mozzarella that may be filled with flavorful ingredients to create low-carb snacks or upscale hors d’oeuvres. The company is preparing to debut Brigitte’s Spirit line of brie, which comes with an accompanying layer of fruit (apricot, fig or guava) paste for easy plating.New goat and sheep cheeses focused on flavors. Bellwether Farms, Petaluma, Calif., introduced fresh sheep cheese in flavors such as Moroccan spice and Sonoma herbs. Websterville, Vt.-based Vermont Creamery gave attendees a peek at its new line of indulgent goat cheeses: strawberry spritz, which has sweet hints of champagne; cherry cocoa, which is reminiscent of black forest cake; and sweet truffle, which is made with Italian black truffles and a touch of honey.For Responsible Foods, a food startup company founded in 2019 in Reykjavik, Iceland, cheese or skyr are the base of its first offering: Næra Icelandic Snacks. The popped, dried snacks are processed and made with 100% green energy, according to the company.Green energy, along with other sustainable practices, such as grassfed, were evident throughout the expo. Wyke Farms debuted Ivy’s Reserve vintage cheddar to the US marketplace. The product is being marketed as the world’s first carbon neutral-branded cheddar. Matured for 18 months under wood, the process gives the cheese a sweet, nutty and complex cheddar profile.Glanbia Ireland’s branded division showcased its Truly Grass Fed line, which, in addition to cheese, offers a range of butters. The newest product is a spreadable salted butter.Other noteworthy dairy innovations spotted at the show included Parmalat Nata Crema para Desayuno (Nata Breakfast Cream). It is a sweet, clotted cream made with whole milk. Popular in Mexico and Latin America, the spread may be used on toast topped with honey, put on fruit or mixed into a dessert.Little Jasmine, Alhambra, Calif., showcased its US-produced brown sugar milk tea boba ice cream made with boba imported from Taiwan.Heinlein Foods USA Inc., Miami, debuted its new Karinat frozen Greek yogurt, which comes in berry, dulce de leche, original and passion fruit flavors. Gelato Festival, West Hollywood, Calif., a company that collaborates with chefs around the world to develop gelato concepts for its cafes in Europe and Los Angeles, is entering the retail pint business. Its debut dairy product is La Dolce Vita, a chocolate hazelnut flavor, and the company has vegan oat options as well.\\xa0',\n",
       " 'CHICAGO — ADM has identified seven consumer trends in the alternative protein category: novel protein sources, fermentation, whole-muscle solutions, transparency, price parity, child-friendly product formats and authentic cuisines. The Chicago-based company based its findings on research from its Outside Voice consumer insights platform.Fungi and air are examples of novel protein sources. Cell-based meat counts as well. Future Meat Technologies, Rehovot, Israel, is working on cell-based meat made from cultivated animal cells. The company is developing more efficient processes for manufacturing meat products at scale. Air particles, volcanic ash, seaweed and insects are all examples of novel protein sources.Microbial fermentation may be used to develop alternative proteins. Companies such as ADM have fermentation capabilities to support food, beverage, and health and wellness brands with downstream processing, lab services and consultations, according to ADM.Whole-muscle, plant-based products such as chicken breast alternatives are becoming more available to global consumers. Brands are seeking novel ways to reproduce the texture of animal-based, whole-muscle cuts ranging from T-bone steaks to shellfish.Innovation and transparency from seed to fork will become more important as concerns about climate change increase and consumers demand greater sustainability in existing food systems. Seed-to-fork initiatives leverage technology to improve seed breeding and lessen the cost, time and environmental impact associated with creating consumer-ready protein sources.Future Meat Technologies has made progress on the price parity of cell-based meat products compared to traditional meat products. The company is producing cell-based chicken breast for $7.70 per lb, down from $18 per lb six months ago.The purchasing choices of parents may fuel the rise of child-friendly product formats. ADM’s Outside Research indicates parents looking for mealtime solutions that delight and nourish all family members are the largest cohort of flexitarian consumers. Child-friendly flavors, colors and formats could appear in plant-based chicken nugget alternatives, yogurt alternatives, pizza, and macaroni and cheese alternatives.Brands are exploring ways to offer traditional, authentic cuisines that apply to specific regions and appeal to consumers’ desire for items like plant-based shawarma alternatives, schnitzel alternatives and shrimp dumplings alternatives.']"
      ]
     },
     "execution_count": 573,
     "metadata": {},
     "output_type": "execute_result"
    }
   ],
   "source": [
    "data = list(df_clean.article_text)\n",
    "data[:2]"
   ]
  },
  {
   "cell_type": "code",
   "execution_count": 574,
   "id": "10ba2ebf-388c-4a88-822e-9dcb4a4602e1",
   "metadata": {},
   "outputs": [],
   "source": [
    "stop_words = nltk.corpus.stopwords.words('english')"
   ]
  },
  {
   "cell_type": "markdown",
   "id": "d5a24e82-8c28-410f-b211-9608bae478ce",
   "metadata": {},
   "source": [
    "### Build the Bigram, Trigram Models and Lemmatize\n"
   ]
  },
  {
   "cell_type": "code",
   "execution_count": 638,
   "id": "cd9261f1-5394-475a-b95f-ddbddd568036",
   "metadata": {},
   "outputs": [
    {
     "name": "stderr",
     "output_type": "stream",
     "text": [
      "2022-08-12 09:06:00,530 | INFO | phrases.py:583 | _learn_vocab | collecting all words and their counts\n",
      "2022-08-12 09:06:00,532 | INFO | phrases.py:586 | _learn_vocab | PROGRESS: at sentence #0, processed 0 words and 0 word types\n",
      "2022-08-12 09:06:08,277 | INFO | phrases.py:607 | _learn_vocab | collected 4084 token types (unigram + bigrams) from a corpus of 7919783 words and 2282 sentences\n",
      "2022-08-12 09:06:08,279 | INFO | phrases.py:666 | add_vocab | merged Phrases<4084 vocab, min_count=20, threshold=100, max_vocab_size=40000000>\n",
      "2022-08-12 09:06:08,280 | INFO | utils.py:447 | add_lifecycle_event | Phrases lifecycle event {'msg': 'built Phrases<4084 vocab, min_count=20, threshold=100, max_vocab_size=40000000> in 7.75s', 'datetime': '2022-08-12T09:06:08.280823', 'gensim': '4.1.2', 'python': '3.9.12 (main, Apr  4 2022, 05:22:27) [MSC v.1916 64 bit (AMD64)]', 'platform': 'Windows-10-10.0.19044-SP0', 'event': 'created'}\n",
      "2022-08-12 09:06:08,283 | INFO | phrases.py:583 | _learn_vocab | collecting all words and their counts\n",
      "2022-08-12 09:06:08,285 | INFO | phrases.py:586 | _learn_vocab | PROGRESS: at sentence #0, processed 0 words and 0 word types\n",
      "2022-08-12 09:06:16,525 | INFO | phrases.py:607 | _learn_vocab | collected 4084 token types (unigram + bigrams) from a corpus of 7919783 words and 2182 sentences\n",
      "2022-08-12 09:06:16,526 | INFO | phrases.py:666 | add_vocab | merged Phrases<4084 vocab, min_count=5, threshold=100, max_vocab_size=40000000>\n",
      "2022-08-12 09:06:16,526 | INFO | utils.py:447 | add_lifecycle_event | Phrases lifecycle event {'msg': 'built Phrases<4084 vocab, min_count=5, threshold=100, max_vocab_size=40000000> in 8.24s', 'datetime': '2022-08-12T09:06:16.526807', 'gensim': '4.1.2', 'python': '3.9.12 (main, Apr  4 2022, 05:22:27) [MSC v.1916 64 bit (AMD64)]', 'platform': 'Windows-10-10.0.19044-SP0', 'event': 'created'}\n",
      "2022-08-12 09:06:16,527 | INFO | phrases.py:775 | __init__ | exporting phrases from Phrases<4084 vocab, min_count=20, threshold=100, max_vocab_size=40000000>\n",
      "2022-08-12 09:06:16,540 | INFO | utils.py:447 | add_lifecycle_event | FrozenPhrases lifecycle event {'msg': 'exported FrozenPhrases<0 phrases, min_count=20, threshold=100> from Phrases<4084 vocab, min_count=20, threshold=100, max_vocab_size=40000000> in 0.01s', 'datetime': '2022-08-12T09:06:16.540169', 'gensim': '4.1.2', 'python': '3.9.12 (main, Apr  4 2022, 05:22:27) [MSC v.1916 64 bit (AMD64)]', 'platform': 'Windows-10-10.0.19044-SP0', 'event': 'created'}\n",
      "2022-08-12 09:06:16,541 | INFO | phrases.py:775 | __init__ | exporting phrases from Phrases<4084 vocab, min_count=5, threshold=100, max_vocab_size=40000000>\n",
      "2022-08-12 09:06:16,551 | INFO | utils.py:447 | add_lifecycle_event | FrozenPhrases lifecycle event {'msg': 'exported FrozenPhrases<0 phrases, min_count=5, threshold=100> from Phrases<4084 vocab, min_count=5, threshold=100, max_vocab_size=40000000> in 0.01s', 'datetime': '2022-08-12T09:06:16.551502', 'gensim': '4.1.2', 'python': '3.9.12 (main, Apr  4 2022, 05:22:27) [MSC v.1916 64 bit (AMD64)]', 'platform': 'Windows-10-10.0.19044-SP0', 'event': 'created'}\n"
     ]
    }
   ],
   "source": [
    "# Build the bigram and trigrams\n",
    "bigram = gensim.models.Phrases(data, min_count=20, threshold=100)\n",
    "trigram = gensim.models.Phrases(bigram[data], threshold=100)\n",
    "\n",
    "bigram_mod = gensim.models.phrases.Phraser(bigram)\n",
    "trigram_mod = gensim.models.phrases.Phraser(trigram)"
   ]
  },
  {
   "cell_type": "code",
   "execution_count": 639,
   "id": "71c9b543-4cd4-4283-a0fe-383c60898a5c",
   "metadata": {},
   "outputs": [],
   "source": [
    "# only need tagger, no need for parser and named entity recognizer, for faster implementation\n",
    "nlp = spacy.load('en_core_web_sm', disable=['parser', 'ner'])"
   ]
  },
  {
   "cell_type": "code",
   "execution_count": 640,
   "id": "5adc9bed-a7b3-40ea-a40b-3f7a33aa989d",
   "metadata": {},
   "outputs": [],
   "source": [
    "def process_words(texts, stop_words=stop_words, allowed_tags=['NOUN', 'ADJ', 'VERB', 'ADV']):\n",
    "    \n",
    "    \"\"\"Convert a document into a list of lowercase tokens, build bigrams-trigrams, implement lemmatization\"\"\"\n",
    "    \n",
    "    # remove stopwords, short tokens and letter accents \n",
    "    texts = [[word for word in simple_preprocess(str(doc), deacc=True, min_len=3) if word not in stop_words] for doc in texts]\n",
    "    \n",
    "    # bi-gram and tri-gram implementation\n",
    "    texts = [bigram_mod[doc] for doc in texts]\n",
    "    texts = [trigram_mod[bigram_mod[doc]] for doc in texts]\n",
    "    \n",
    "    texts_out = []\n",
    "\n",
    "    # implement lemmatization and filter out unwanted part of speech tags\n",
    "    for sent in texts:\n",
    "        doc = nlp(\" \".join(sent)) \n",
    "        texts_out.append([token.lemma_ for token in doc if token.pos_ in allowed_tags])\n",
    "    \n",
    "    # remove stopwords and short tokens again after lemmatization\n",
    "    texts_out = [[word for word in simple_preprocess(str(doc), deacc=True, min_len=3) if word not in stop_words] for doc in texts_out]    \n",
    "    \n",
    "    return texts_out"
   ]
  },
  {
   "cell_type": "code",
   "execution_count": 577,
   "id": "da4db3b1-48c0-46ad-bb68-98a13b8d5e5e",
   "metadata": {},
   "outputs": [],
   "source": [
    "data_ready = process_words(data) "
   ]
  },
  {
   "cell_type": "code",
   "execution_count": 641,
   "id": "a8ad8150-dfa4-4b5c-8ed7-6b4bc6686e31",
   "metadata": {},
   "outputs": [
    {
     "data": {
      "text/plain": [
       "['dairy',\n",
       " 'cheese',\n",
       " 'come',\n",
       " 'cow',\n",
       " 'goat',\n",
       " 'variety',\n",
       " 'plentiful',\n",
       " 'winter',\n",
       " 'fancy',\n",
       " 'show',\n",
       " 'hold',\n",
       " 'event',\n",
       " 'mark',\n",
       " 'specialty',\n",
       " 'association',\n",
       " 'first',\n",
       " 'live',\n",
       " 'trade',\n",
       " 'show',\n",
       " 'cheese',\n",
       " 'dominate',\n",
       " 'dairy',\n",
       " 'space',\n",
       " 'premium',\n",
       " 'butter',\n",
       " 'frozen',\n",
       " 'dessert',\n",
       " 'find',\n",
       " 'specialty',\n",
       " 'exhibit',\n",
       " 'prominent',\n",
       " 'theme',\n",
       " 'show',\n",
       " 'comfort',\n",
       " 'twist',\n",
       " 'speak',\n",
       " 'continue',\n",
       " 'seek',\n",
       " 'yet',\n",
       " 'familiar',\n",
       " 'experience',\n",
       " 'home',\n",
       " 'ongoing',\n",
       " 'pandemic',\n",
       " 'specialty',\n",
       " 'encompasse',\n",
       " 'specialty',\n",
       " 'nature',\n",
       " 'attribute',\n",
       " 'exotic',\n",
       " 'origin',\n",
       " 'particular',\n",
       " 'processing',\n",
       " 'often',\n",
       " 'intentional',\n",
       " 'lack',\n",
       " 'thereof',\n",
       " 'design',\n",
       " 'limit',\n",
       " 'supply',\n",
       " 'unusual',\n",
       " 'application',\n",
       " 'compelling',\n",
       " 'packaging',\n",
       " 'channel',\n",
       " 'distribution',\n",
       " 'specialty',\n",
       " 'account',\n",
       " 'cheese',\n",
       " 'long',\n",
       " 'maintain',\n",
       " 'position',\n",
       " 'term',\n",
       " 'dollar',\n",
       " 'share',\n",
       " 'state',\n",
       " 'specialty',\n",
       " 'publish',\n",
       " 'poultry',\n",
       " 'seafood',\n",
       " 'freeze',\n",
       " 'refrigerate',\n",
       " 'oust',\n",
       " 'cheese',\n",
       " 'top',\n",
       " 'spot',\n",
       " 'exceed',\n",
       " 'specialty',\n",
       " 'association',\n",
       " 'cheese',\n",
       " 'become',\n",
       " 'pandemic',\n",
       " 'staple',\n",
       " 'many',\n",
       " 'splurge',\n",
       " 'specialty',\n",
       " 'variety',\n",
       " 'order',\n",
       " 'bring',\n",
       " 'excitement',\n",
       " 'daily',\n",
       " 'meal',\n",
       " 'especially',\n",
       " 'cook',\n",
       " 'fatigue',\n",
       " 'set',\n",
       " 'often',\n",
       " 'together',\n",
       " 'think',\n",
       " 'burger',\n",
       " 'import',\n",
       " 'cheese',\n",
       " 'prosciutto',\n",
       " 'parma',\n",
       " 'marinate',\n",
       " 'prior',\n",
       " 'pandemic',\n",
       " 'cheese',\n",
       " 'split',\n",
       " 'retail',\n",
       " 'dominate',\n",
       " 'foodservice',\n",
       " 'business',\n",
       " 'university',\n",
       " 'hospital',\n",
       " 'quick',\n",
       " 'service',\n",
       " 'restaurant',\n",
       " 'balanced',\n",
       " 'mix',\n",
       " 'enable',\n",
       " 'easily',\n",
       " 'pivot',\n",
       " 'deliver',\n",
       " 'cheese',\n",
       " 'retail',\n",
       " 'early',\n",
       " 'day',\n",
       " 'stocking',\n",
       " 'kitchen',\n",
       " 'balanced',\n",
       " 'mix',\n",
       " 'business',\n",
       " 'able',\n",
       " 'quickly',\n",
       " 'shift',\n",
       " 'focus',\n",
       " 'cathy',\n",
       " 'director',\n",
       " 'broker',\n",
       " 'management',\n",
       " 'dump',\n",
       " 'milk',\n",
       " 'fact',\n",
       " 'even',\n",
       " 'pick',\n",
       " 'business',\n",
       " 'pretty',\n",
       " 'much',\n",
       " 'back',\n",
       " 'even',\n",
       " 'split',\n",
       " 'italian',\n",
       " 'cheese',\n",
       " 'age',\n",
       " 'nicely',\n",
       " 'national',\n",
       " 'away',\n",
       " 'home',\n",
       " 'dining',\n",
       " 'dollar',\n",
       " 'summer',\n",
       " 'belgioioso',\n",
       " 'develop',\n",
       " 'relationship',\n",
       " 'become',\n",
       " 'permanent',\n",
       " 'item',\n",
       " 'available',\n",
       " 'sandwich',\n",
       " 'salad',\n",
       " 'wrap',\n",
       " 'identify',\n",
       " 'menu',\n",
       " 'board',\n",
       " 'show',\n",
       " 'belgioioso',\n",
       " 'introduce',\n",
       " 'convenience',\n",
       " 'item',\n",
       " 'retail',\n",
       " 'slice',\n",
       " 'log',\n",
       " 'cheese',\n",
       " 'provolone',\n",
       " 'available',\n",
       " 'traditional',\n",
       " 'hickory',\n",
       " 'smoke',\n",
       " 'variety',\n",
       " 'available',\n",
       " 'retail',\n",
       " 'wedge',\n",
       " 'wheel',\n",
       " 'store',\n",
       " 'cutting',\n",
       " 'umberto',\n",
       " 'marconi',\n",
       " 'vice',\n",
       " 'marketing',\n",
       " 'cheese',\n",
       " 'bathe',\n",
       " 'rich',\n",
       " 'cocoa',\n",
       " 'italian',\n",
       " 'espresso',\n",
       " 'awaken',\n",
       " 'sweet',\n",
       " 'savory',\n",
       " 'paramus',\n",
       " 'world',\n",
       " 'large',\n",
       " 'gouda',\n",
       " 'dutch',\n",
       " 'cheese',\n",
       " 'producer',\n",
       " 'pandemic',\n",
       " 'positive',\n",
       " 'impact',\n",
       " 'retail',\n",
       " 'focus',\n",
       " 'driver',\n",
       " 'burgeon',\n",
       " 'interest',\n",
       " 'create',\n",
       " 'charcuterie',\n",
       " 'platter',\n",
       " 'charcuterie',\n",
       " 'definition',\n",
       " 'refer',\n",
       " 'sausage',\n",
       " 'pate',\n",
       " 'concept',\n",
       " 'evolve',\n",
       " 'array',\n",
       " 'cheese',\n",
       " 'fruit',\n",
       " 'nut',\n",
       " 'set',\n",
       " 'create',\n",
       " 'right',\n",
       " 'pack',\n",
       " 'right',\n",
       " 'size',\n",
       " 'right',\n",
       " 'price',\n",
       " 'director',\n",
       " 'marketing',\n",
       " 'royal',\n",
       " 'hollandia',\n",
       " 'entry',\n",
       " 'pack',\n",
       " 'perfectly',\n",
       " 'size',\n",
       " 'create',\n",
       " 'board',\n",
       " 'want',\n",
       " 'try',\n",
       " 'cheese',\n",
       " 'type',\n",
       " 'variety',\n",
       " 'popular',\n",
       " 'charcuterie',\n",
       " 'centric',\n",
       " 'cheese',\n",
       " 'pack',\n",
       " 'invite',\n",
       " 'curious',\n",
       " 'purchase',\n",
       " 'couple',\n",
       " 'option',\n",
       " 'commitment',\n",
       " 'typical',\n",
       " 'large',\n",
       " 'size',\n",
       " 'chunk',\n",
       " 'cheese',\n",
       " 'come',\n",
       " 'shelf',\n",
       " 'ready',\n",
       " 'pack',\n",
       " 'design',\n",
       " 'easy',\n",
       " 'merchandising',\n",
       " 'deli',\n",
       " 'marketing',\n",
       " 'language',\n",
       " 'pick',\n",
       " 'mix',\n",
       " 'individual',\n",
       " 'pack',\n",
       " 'information',\n",
       " 'cheese',\n",
       " 'profile',\n",
       " 'suggest',\n",
       " 'pairing',\n",
       " 'detail',\n",
       " 'cheese',\n",
       " 'part',\n",
       " 'rebrande',\n",
       " 'rollout',\n",
       " 'program',\n",
       " 'portfolio',\n",
       " 'dozen',\n",
       " 'cheese',\n",
       " 'cheese',\n",
       " 'debut',\n",
       " 'winter',\n",
       " 'fancy',\n",
       " 'show',\n",
       " 'azul',\n",
       " 'addition',\n",
       " 'hollandia',\n",
       " 'grab',\n",
       " 'item',\n",
       " 'pouch',\n",
       " 'hold',\n",
       " 'individually',\n",
       " 'wrap',\n",
       " 'gram',\n",
       " 'portion',\n",
       " 'cheese',\n",
       " 'recyclable',\n",
       " 'paper',\n",
       " 'merchandised',\n",
       " 'stand',\n",
       " 'hang',\n",
       " 'peg',\n",
       " 'snacking',\n",
       " 'entertain',\n",
       " 'even',\n",
       " 'bubble',\n",
       " 'friend',\n",
       " 'family',\n",
       " 'fuel',\n",
       " 'many',\n",
       " 'innovation',\n",
       " 'artful',\n",
       " 'app',\n",
       " 'show',\n",
       " 'introduce',\n",
       " 'crackerology',\n",
       " 'cracker',\n",
       " 'kit',\n",
       " 'found',\n",
       " 'friend',\n",
       " 'identify',\n",
       " 'need',\n",
       " 'quick',\n",
       " 'gourmet',\n",
       " 'end',\n",
       " 'appetizer',\n",
       " 'pair',\n",
       " 'cocktail',\n",
       " 'beer',\n",
       " 'wine',\n",
       " 'kit',\n",
       " 'create',\n",
       " 'need',\n",
       " 'appetizer',\n",
       " 'dessert',\n",
       " 'box',\n",
       " 'assemble',\n",
       " 'minute',\n",
       " 'savory',\n",
       " 'variety',\n",
       " 'shelf',\n",
       " 'stable',\n",
       " 'dairy',\n",
       " 'cheese',\n",
       " 'dairyfood',\n",
       " 'mound',\n",
       " 'wine',\n",
       " 'rosemary',\n",
       " 'example',\n",
       " 'contain',\n",
       " 'savory',\n",
       " 'cracker',\n",
       " 'touch',\n",
       " 'red',\n",
       " 'wine',\n",
       " 'rosemary',\n",
       " 'hint',\n",
       " 'pepper',\n",
       " 'schmear',\n",
       " 'preserve',\n",
       " 'nut',\n",
       " 'top',\n",
       " 'introduce',\n",
       " 'stuff',\n",
       " 'roll',\n",
       " 'sheet',\n",
       " 'fresh',\n",
       " 'milk',\n",
       " 'fill',\n",
       " 'flavorful',\n",
       " 'create',\n",
       " 'low',\n",
       " 'carb',\n",
       " 'upscale',\n",
       " 'hor',\n",
       " 'oeuvre',\n",
       " 'prepare',\n",
       " 'debut',\n",
       " 'line',\n",
       " 'brie',\n",
       " 'come',\n",
       " 'accompany',\n",
       " 'layer',\n",
       " 'fruit',\n",
       " 'paste',\n",
       " 'easy',\n",
       " 'plating',\n",
       " 'cheese',\n",
       " 'focus',\n",
       " 'bellwether',\n",
       " 'farm',\n",
       " 'introduce',\n",
       " 'fresh',\n",
       " 'sheep',\n",
       " 'cheese',\n",
       " 'moroccan',\n",
       " 'herb',\n",
       " 'websterville',\n",
       " 'creamery',\n",
       " 'give',\n",
       " 'attendee',\n",
       " 'line',\n",
       " 'cheese',\n",
       " 'sweet',\n",
       " 'hint',\n",
       " 'champagne',\n",
       " 'cherry',\n",
       " 'cocoa',\n",
       " 'reminiscent',\n",
       " 'black',\n",
       " 'forest',\n",
       " 'cake',\n",
       " 'italian',\n",
       " 'black',\n",
       " 'truffle',\n",
       " 'touch',\n",
       " 'honey',\n",
       " 'responsible',\n",
       " 'startup',\n",
       " 'found',\n",
       " 'reykjavik',\n",
       " 'iceland',\n",
       " 'cheese',\n",
       " 'first',\n",
       " 'næra',\n",
       " 'icelandic',\n",
       " 'pop',\n",
       " 'dry',\n",
       " 'process',\n",
       " 'green',\n",
       " 'energy',\n",
       " 'green',\n",
       " 'energy',\n",
       " 'sustainable',\n",
       " 'practice',\n",
       " 'grassfe',\n",
       " 'evident',\n",
       " 'expo',\n",
       " 'wyke',\n",
       " 'farm',\n",
       " 'debut',\n",
       " 'vintage',\n",
       " 'cheddar',\n",
       " 'marketplace',\n",
       " 'world',\n",
       " 'first',\n",
       " 'carbon',\n",
       " 'neutral',\n",
       " 'cheddar',\n",
       " 'mature',\n",
       " 'month',\n",
       " 'wood',\n",
       " 'process',\n",
       " 'give',\n",
       " 'cheese',\n",
       " 'sweet',\n",
       " 'nutty',\n",
       " 'complex',\n",
       " 'division',\n",
       " 'showcase',\n",
       " 'truly',\n",
       " 'line',\n",
       " 'addition',\n",
       " 'cheese',\n",
       " 'range',\n",
       " 'butter',\n",
       " 'newest',\n",
       " 'spreadable',\n",
       " 'salt',\n",
       " 'butter',\n",
       " 'noteworthy',\n",
       " 'dairy',\n",
       " 'innovation',\n",
       " 'spot',\n",
       " 'show',\n",
       " 'breakfast',\n",
       " 'cream',\n",
       " 'sweet',\n",
       " 'clot',\n",
       " 'cream',\n",
       " 'milk',\n",
       " 'spread',\n",
       " 'toast',\n",
       " 'top',\n",
       " 'honey',\n",
       " 'put',\n",
       " 'fruit',\n",
       " 'mixed',\n",
       " 'dessert',\n",
       " 'showcase',\n",
       " 'produce',\n",
       " 'brown',\n",
       " 'milk',\n",
       " 'tea',\n",
       " 'boba',\n",
       " 'ice',\n",
       " 'cream',\n",
       " 'boba',\n",
       " 'import',\n",
       " 'debut',\n",
       " 'frozen',\n",
       " 'greek',\n",
       " 'yogurt',\n",
       " 'come',\n",
       " 'original',\n",
       " 'passion',\n",
       " 'fruit',\n",
       " 'collaborate',\n",
       " 'chef',\n",
       " 'world',\n",
       " 'develop',\n",
       " 'gelato',\n",
       " 'concept',\n",
       " 'cafe',\n",
       " 'enter',\n",
       " 'retail',\n",
       " 'pint',\n",
       " 'business',\n",
       " 'debut',\n",
       " 'dairy',\n",
       " 'chocolate',\n",
       " 'hazelnut',\n",
       " 'oat',\n",
       " 'option']"
      ]
     },
     "execution_count": 641,
     "metadata": {},
     "output_type": "execute_result"
    }
   ],
   "source": [
    "data_ready[0]"
   ]
  },
  {
   "cell_type": "markdown",
   "id": "876aae16-839f-486e-9fee-6d1c8dbc01d7",
   "metadata": {},
   "source": [
    "Above we preprocess the corpus that includes:\n",
    "\n",
    "- removing stop words,\n",
    "- doing lemmatization,\n",
    "- implementing ngrams,\n",
    "- selection of tokens based on speech of tags (keep the words that are either noun, adjective, verb or adverb)"
   ]
  },
  {
   "cell_type": "markdown",
   "id": "60488796-448c-43dd-9676-ebc1a774d040",
   "metadata": {},
   "source": [
    "### Create the Dictionary and Corpus needed for Topic Modeling"
   ]
  },
  {
   "cell_type": "code",
   "execution_count": 650,
   "id": "064f5291-ce0b-43fd-8983-1be7cd2b163b",
   "metadata": {},
   "outputs": [],
   "source": [
    "import little_mallet_wrapper as lmw"
   ]
  },
  {
   "cell_type": "code",
   "execution_count": null,
   "id": "0f76231b-5a35-4ec7-8533-b2e18a3b9236",
   "metadata": {},
   "outputs": [],
   "source": [
    "from gensim import models"
   ]
  },
  {
   "cell_type": "code",
   "execution_count": 642,
   "id": "2c28a0b8-9f40-47b1-ae92-c8a39ac749dc",
   "metadata": {},
   "outputs": [
    {
     "name": "stderr",
     "output_type": "stream",
     "text": [
      "2022-08-12 09:06:33,727 | INFO | dictionary.py:199 | add_documents | adding document #0 to Dictionary(0 unique tokens: [])\n",
      "2022-08-12 09:06:34,305 | INFO | dictionary.py:204 | add_documents | built Dictionary(16624 unique tokens: ['able', 'accompany', 'account', 'addition', 'age']...) from 2282 documents (total 494154 corpus positions)\n",
      "2022-08-12 09:06:34,306 | INFO | utils.py:447 | add_lifecycle_event | Dictionary lifecycle event {'msg': \"built Dictionary(16624 unique tokens: ['able', 'accompany', 'account', 'addition', 'age']...) from 2282 documents (total 494154 corpus positions)\", 'datetime': '2022-08-12T09:06:34.306196', 'gensim': '4.1.2', 'python': '3.9.12 (main, Apr  4 2022, 05:22:27) [MSC v.1916 64 bit (AMD64)]', 'platform': 'Windows-10-10.0.19044-SP0', 'event': 'created'}\n"
     ]
    },
    {
     "name": "stdout",
     "output_type": "stream",
     "text": [
      "Total Vocabulary Size: 16624\n"
     ]
    }
   ],
   "source": [
    "# Create Dictionary\n",
    "id2word = corpora.Dictionary(data_ready)\n",
    "\n",
    "print('Total Vocabulary Size:', len(id2word))"
   ]
  },
  {
   "cell_type": "markdown",
   "id": "fa92eba4-b1ac-46c3-9d88-ce1f97f36bd7",
   "metadata": {},
   "source": [
    "##### After preprocessing step we form a dictionary that the model requires."
   ]
  },
  {
   "cell_type": "code",
   "execution_count": 643,
   "id": "c4de0367-2067-4be3-b137-6cf3ced0eca2",
   "metadata": {},
   "outputs": [],
   "source": [
    "# Create Corpus: Term Document Frequency\n",
    "corpus = [id2word.doc2bow(text) for text in data_ready]"
   ]
  },
  {
   "cell_type": "code",
   "execution_count": 648,
   "id": "fcf45de0-fcbe-4495-818b-b3b0c4f00f10",
   "metadata": {},
   "outputs": [
    {
     "ename": "AttributeError",
     "evalue": "module 'little_mallet_wrapper' has no attribute 'num_topics'",
     "output_type": "error",
     "traceback": [
      "\u001b[1;31m---------------------------------------------------------------------------\u001b[0m",
      "\u001b[1;31mAttributeError\u001b[0m                            Traceback (most recent call last)",
      "Input \u001b[1;32mIn [651]\u001b[0m, in \u001b[0;36m<cell line: 1>\u001b[1;34m()\u001b[0m\n\u001b[1;32m----> 1\u001b[0m topics \u001b[38;5;241m=\u001b[39m [[(term, \u001b[38;5;28mround\u001b[39m(wt, \u001b[38;5;241m3\u001b[39m)) \u001b[38;5;28;01mfor\u001b[39;00m term, wt \u001b[38;5;129;01min\u001b[39;00m lmw\u001b[38;5;241m.\u001b[39mshow_topic(n, topn\u001b[38;5;241m=\u001b[39m\u001b[38;5;241m20\u001b[39m)] \u001b[38;5;28;01mfor\u001b[39;00m n \u001b[38;5;129;01min\u001b[39;00m \u001b[38;5;28mrange\u001b[39m(\u001b[38;5;241m0\u001b[39m, \u001b[43mlmw\u001b[49m\u001b[38;5;241;43m.\u001b[39;49m\u001b[43mnum_topics\u001b[49m)]\n",
      "\u001b[1;31mAttributeError\u001b[0m: module 'little_mallet_wrapper' has no attribute 'num_topics'"
     ]
    }
   ],
   "source": [
    "topics = [[(term, round(wt, 3)) for term, wt in ldamallet.show_topic(n, topn=20)] for n in range(0, ldamallet.num_topics)]"
   ]
  },
  {
   "cell_type": "code",
   "execution_count": 583,
   "id": "415c7b4f-fddb-403b-9925-7daaec22712b",
   "metadata": {},
   "outputs": [],
   "source": [
    "dict_corpus = {}\n",
    "\n",
    "for i in range(len(corpus)):\n",
    "  for idx, freq in corpus[i]:\n",
    "    if id2word[idx] in dict_corpus:\n",
    "      dict_corpus[id2word[idx]] += freq\n",
    "    else:\n",
    "       dict_corpus[id2word[idx]] = freq\n",
    "       \n",
    "dict_df = pd.DataFrame.from_dict(dict_corpus, orient='index', columns=['freq'])"
   ]
  },
  {
   "cell_type": "code",
   "execution_count": 585,
   "id": "8f555e6a-b768-4c40-8fe9-d3018f9727cd",
   "metadata": {},
   "outputs": [
    {
     "name": "stderr",
     "output_type": "stream",
     "text": [
      "C:\\Users\\FaridSarwari\\anaconda3\\lib\\site-packages\\seaborn\\distributions.py:2619: FutureWarning: `distplot` is a deprecated function and will be removed in a future version. Please adapt your code to use either `displot` (a figure-level function with similar flexibility) or `histplot` (an axes-level function for histograms).\n",
      "  warnings.warn(msg, FutureWarning)\n"
     ]
    },
    {
     "data": {
      "image/png": "[encoded data removed]",
      "text/plain": [
       "<Figure size 576x432 with 1 Axes>"
      ]
     },
     "metadata": {
      "needs_background": "light"
     },
     "output_type": "display_data"
    }
   ],
   "source": [
    "import seaborn as sns\n",
    "\n",
    "plt.figure(figsize=(8,6))\n",
    "sns.distplot(dict_df['freq'], bins=100);"
   ]
  },
  {
   "cell_type": "code",
   "execution_count": 592,
   "id": "98dddbe0-7453-4e1f-b8cf-fe9d67e70b43",
   "metadata": {},
   "outputs": [
    {
     "data": {
      "text/html": [
       "<div>\n",
       "<style scoped>\n",
       "    .dataframe tbody tr th:only-of-type {\n",
       "        vertical-align: middle;\n",
       "    }\n",
       "\n",
       "    .dataframe tbody tr th {\n",
       "        vertical-align: top;\n",
       "    }\n",
       "\n",
       "    .dataframe thead th {\n",
       "        text-align: right;\n",
       "    }\n",
       "</style>\n",
       "<table border=\"1\" class=\"dataframe\">\n",
       "  <thead>\n",
       "    <tr style=\"text-align: right;\">\n",
       "      <th></th>\n",
       "      <th>freq</th>\n",
       "    </tr>\n",
       "  </thead>\n",
       "  <tbody>\n",
       "    <tr>\n",
       "      <th>say</th>\n",
       "      <td>13667</td>\n",
       "    </tr>\n",
       "    <tr>\n",
       "      <th>food</th>\n",
       "      <td>12208</td>\n",
       "    </tr>\n",
       "    <tr>\n",
       "      <th>consumer</th>\n",
       "      <td>8571</td>\n",
       "    </tr>\n",
       "    <tr>\n",
       "      <th>product</th>\n",
       "      <td>8289</td>\n",
       "    </tr>\n",
       "    <tr>\n",
       "      <th>company</th>\n",
       "      <td>4203</td>\n",
       "    </tr>\n",
       "    <tr>\n",
       "      <th>year</th>\n",
       "      <td>4138</td>\n",
       "    </tr>\n",
       "    <tr>\n",
       "      <th>ingredient</th>\n",
       "      <td>4113</td>\n",
       "    </tr>\n",
       "    <tr>\n",
       "      <th>flavor</th>\n",
       "      <td>4008</td>\n",
       "    </tr>\n",
       "    <tr>\n",
       "      <th>new</th>\n",
       "      <td>3601</td>\n",
       "    </tr>\n",
       "    <tr>\n",
       "      <th>make</th>\n",
       "      <td>3490</td>\n",
       "    </tr>\n",
       "  </tbody>\n",
       "</table>\n",
       "</div>"
      ],
      "text/plain": [
       "             freq\n",
       "say         13667\n",
       "food        12208\n",
       "consumer     8571\n",
       "product      8289\n",
       "company      4203\n",
       "year         4138\n",
       "ingredient   4113\n",
       "flavor       4008\n",
       "new          3601\n",
       "make         3490"
      ]
     },
     "execution_count": 592,
     "metadata": {},
     "output_type": "execute_result"
    }
   ],
   "source": [
    "dict_df.sort_values(\"freq\", ascending=False).head(10)"
   ]
  },
  {
   "cell_type": "code",
   "execution_count": 594,
   "id": "f7681539-4bb0-48e5-b1f1-e47ae1d003fc",
   "metadata": {},
   "outputs": [
    {
     "data": {
      "text/plain": [
       "['accord',\n",
       " 'add',\n",
       " 'also',\n",
       " 'base',\n",
       " 'beverage',\n",
       " 'brand',\n",
       " 'category',\n",
       " 'company',\n",
       " 'consumer',\n",
       " 'flavor',\n",
       " 'food',\n",
       " 'grow',\n",
       " 'high',\n",
       " 'include',\n",
       " 'increase',\n",
       " 'industry',\n",
       " 'ingredient',\n",
       " 'make',\n",
       " 'market',\n",
       " 'meat',\n",
       " 'new',\n",
       " 'offer',\n",
       " 'plant',\n",
       " 'product',\n",
       " 'sale',\n",
       " 'say',\n",
       " 'snack',\n",
       " 'sugar',\n",
       " 'use',\n",
       " 'well',\n",
       " 'whole',\n",
       " 'year',\n",
       " 'health',\n",
       " 'protein',\n",
       " 'trend',\n",
       " 'eat',\n",
       " 'free',\n",
       " 'healthy',\n",
       " 'natural',\n",
       " 'nutrition',\n",
       " 'organic',\n",
       " 'people',\n",
       " 'grain',\n",
       " 'see']"
      ]
     },
     "execution_count": 594,
     "metadata": {},
     "output_type": "execute_result"
    }
   ],
   "source": [
    "extension = dict_df[dict_df.freq>1500].index.tolist()\n",
    "\n",
    "extension"
   ]
  },
  {
   "cell_type": "code",
   "execution_count": 595,
   "id": "a2cb907f-1bc4-4e4f-a22b-517970af5c3a",
   "metadata": {},
   "outputs": [
    {
     "name": "stderr",
     "output_type": "stream",
     "text": [
      "2022-08-12 08:12:29,030 | INFO | dictionary.py:199 | add_documents | adding document #0 to Dictionary(0 unique tokens: [])\n",
      "2022-08-12 08:12:29,491 | INFO | dictionary.py:204 | add_documents | built Dictionary(16624 unique tokens: ['able', 'accompany', 'account', 'addition', 'age']...) from 2282 documents (total 494154 corpus positions)\n",
      "2022-08-12 08:12:29,493 | INFO | utils.py:447 | add_lifecycle_event | Dictionary lifecycle event {'msg': \"built Dictionary(16624 unique tokens: ['able', 'accompany', 'account', 'addition', 'age']...) from 2282 documents (total 494154 corpus positions)\", 'datetime': '2022-08-12T08:12:29.493994', 'gensim': '4.1.2', 'python': '3.9.12 (main, Apr  4 2022, 05:22:27) [MSC v.1916 64 bit (AMD64)]', 'platform': 'Windows-10-10.0.19044-SP0', 'event': 'created'}\n"
     ]
    },
    {
     "name": "stdout",
     "output_type": "stream",
     "text": [
      "Total Vocabulary Size: 16624\n"
     ]
    }
   ],
   "source": [
    "# add high frequency words to stop words list\n",
    "stop_words.extend(extension)\n",
    "\n",
    "# rerun the process_words function\n",
    "data_ready = process_words(data)\n",
    "\n",
    "# recreate Dictionary\n",
    "id2word = corpora.Dictionary(data_ready)\n",
    "\n",
    "print('Total Vocabulary Size:', len(id2word))"
   ]
  },
  {
   "cell_type": "code",
   "execution_count": 596,
   "id": "96550214-5d33-46c8-b9d0-a4b446cea8f9",
   "metadata": {},
   "outputs": [
    {
     "name": "stderr",
     "output_type": "stream",
     "text": [
      "2022-08-12 08:12:35,991 | INFO | dictionary.py:367 | filter_extremes | discarding 12713 tokens: [('artful', 1), ('assemble', 9), ('awaken', 1), ('azul', 1), ('bathe', 1), ('belgioioso', 2), ('bellwether', 1), ('boba', 6), ('brie', 1), ('broker', 4)]...\n",
      "2022-08-12 08:12:35,992 | INFO | dictionary.py:368 | filter_extremes | keeping 3911 tokens which were in no less than 10 and no more than 1141 (=50.0%) documents\n",
      "2022-08-12 08:12:35,999 | INFO | dictionary.py:375 | filter_extremes | resulting dictionary: Dictionary(3911 unique tokens: ['able', 'accompany', 'account', 'addition', 'age']...)\n"
     ]
    },
    {
     "name": "stdout",
     "output_type": "stream",
     "text": [
      "Total Vocabulary Size: 3911\n"
     ]
    }
   ],
   "source": [
    "# Filter out words that occur less than 10 documents, or more than\n",
    "# 50% of the documents.\n",
    "id2word.filter_extremes(no_below=10, no_above=0.5)\n",
    "print('Total Vocabulary Size:', len(id2word))"
   ]
  },
  {
   "cell_type": "code",
   "execution_count": 597,
   "id": "1b521885-e675-4e0f-9d6e-38d368e3f784",
   "metadata": {},
   "outputs": [],
   "source": [
    "# Create Corpus: Term Document Frequency\n",
    "corpus = [id2word.doc2bow(text) for text in data_ready]"
   ]
  },
  {
   "cell_type": "markdown",
   "id": "08ce319a-12a8-497d-a0cf-050732f504f9",
   "metadata": {},
   "source": [
    "## Building the Model"
   ]
  },
  {
   "cell_type": "code",
   "execution_count": 599,
   "id": "af2269b8-d6a9-4c23-b1d4-c679a3901132",
   "metadata": {},
   "outputs": [
    {
     "data": {
      "text/plain": [
       "'C:\\\\Users\\\\FaridSarwari\\\\OneDrive - BlueGem Capital Partners LLP\\\\Desktop\\\\Bluegem'"
      ]
     },
     "execution_count": 599,
     "metadata": {},
     "output_type": "execute_result"
    }
   ],
   "source": [
    "import os \n",
    "\n",
    "os.getcwd()"
   ]
  },
  {
   "cell_type": "code",
   "execution_count": 609,
   "id": "38fc85a3-e67f-4e4e-acda-3cc16cda5a92",
   "metadata": {},
   "outputs": [],
   "source": [
    "from collections import defaultdict\n",
    "from datetime import datetime\n",
    "import math\n",
    "from operator import itemgetter\n",
    "import os\n",
    "import random\n",
    "import re\n",
    "\n",
    "import numpy as np\n",
    "import pandas as pd\n",
    "\n",
    "%matplotlib inline\n",
    "\n",
    "import little_mallet_wrapper as lmw"
   ]
  },
  {
   "cell_type": "code",
   "execution_count": 610,
   "id": "f6884abf-0af1-46ab-b7d4-f655d63dab07",
   "metadata": {},
   "outputs": [],
   "source": [
    "path_to_mallet = \"/mallet-2.0.8/bin/mallet\""
   ]
  },
  {
   "cell_type": "code",
   "execution_count": 611,
   "id": "f44b9f03-f999-4b3c-9c8a-eb0f1469667d",
   "metadata": {},
   "outputs": [
    {
     "data": {
      "text/html": [
       "<div>\n",
       "<style scoped>\n",
       "    .dataframe tbody tr th:only-of-type {\n",
       "        vertical-align: middle;\n",
       "    }\n",
       "\n",
       "    .dataframe tbody tr th {\n",
       "        vertical-align: top;\n",
       "    }\n",
       "\n",
       "    .dataframe thead th {\n",
       "        text-align: right;\n",
       "    }\n",
       "</style>\n",
       "<table border=\"1\" class=\"dataframe\">\n",
       "  <thead>\n",
       "    <tr style=\"text-align: right;\">\n",
       "      <th></th>\n",
       "      <th>article_header</th>\n",
       "      <th>article_url</th>\n",
       "      <th>article_date_published</th>\n",
       "      <th>article_text</th>\n",
       "      <th>tags</th>\n",
       "      <th>article_text_processed</th>\n",
       "      <th>article_header_processed</th>\n",
       "    </tr>\n",
       "  </thead>\n",
       "  <tbody>\n",
       "    <tr>\n",
       "      <th>0</th>\n",
       "      <td>Comfort with a twist trend prevalent at Winter Fancy Food Show</td>\n",
       "      <td>https://www.foodbusinessnews.net/articles/20724-comfort-with-a-twist-trend-prevalent-at-winter-f...</td>\n",
       "      <td>2022-02-21</td>\n",
       "      <td>CHICAGO — Dairy cheese, whether it comes from cows, goats or sheep, along with plant-based varie...</td>\n",
       "      <td>Ingredient Applications</td>\n",
       "      <td>chicago  dairy cheese whether it comes from cows goats or sheep along with plant-based varieties...</td>\n",
       "      <td>comfort with a twist trend prevalent at winter fancy food show</td>\n",
       "    </tr>\n",
       "    <tr>\n",
       "      <th>1</th>\n",
       "      <td>ADM identifies seven alternative protein trends</td>\n",
       "      <td>https://www.foodbusinessnews.net/articles/20643-adm-identifies-seven-alternative-protein-trends</td>\n",
       "      <td>2022-02-10</td>\n",
       "      <td>CHICAGO — ADM has identified seven consumer trends in the alternative protein category: novel pr...</td>\n",
       "      <td>Trends</td>\n",
       "      <td>chicago  adm has identified seven consumer trends in the alternative protein category: novel pro...</td>\n",
       "      <td>adm identifies seven alternative protein trends</td>\n",
       "    </tr>\n",
       "    <tr>\n",
       "      <th>2</th>\n",
       "      <td>Sizing up snacking trends</td>\n",
       "      <td>https://www.foodbusinessnews.net/articles/20526-sizing-up-snacking-trends</td>\n",
       "      <td>2022-01-26</td>\n",
       "      <td>CHICAGO — Consumers’ preference for snacking as a regular eating behavior over traditional mealt...</td>\n",
       "      <td>Business</td>\n",
       "      <td>chicago  consumers’ preference for snacking as a regular eating behavior over traditional mealti...</td>\n",
       "      <td>sizing up snacking trends</td>\n",
       "    </tr>\n",
       "    <tr>\n",
       "      <th>3</th>\n",
       "      <td>Targeting breakfast food for all morning occasions</td>\n",
       "      <td>https://www.foodbusinessnews.net/articles/20600-targeting-breakfast-food-for-all-morning-occasions</td>\n",
       "      <td>2022-02-04</td>\n",
       "      <td>CHICAGO — Companies could increase breakfast product sales by targeting items for each specific ...</td>\n",
       "      <td>Trends</td>\n",
       "      <td>chicago  companies could increase breakfast product sales by targeting items for each specific m...</td>\n",
       "      <td>targeting breakfast food for all morning occasions</td>\n",
       "    </tr>\n",
       "    <tr>\n",
       "      <th>4</th>\n",
       "      <td>Webinar: Flavor trends to watch in 2022</td>\n",
       "      <td>https://www.foodbusinessnews.net/articles/20533-webinar-flavor-trends-to-watch-in-2022</td>\n",
       "      <td>2022-01-26</td>\n",
       "      <td>KANSAS CITY — What flavor trends are on tap for the year ahead?In an exclusive, 30-minute webina...</td>\n",
       "      <td>Trends</td>\n",
       "      <td>kansas city  what flavor trends are on tap for the year aheadin an exclusive 30-minute webinar t...</td>\n",
       "      <td>webinar: flavor trends to watch in 2022</td>\n",
       "    </tr>\n",
       "  </tbody>\n",
       "</table>\n",
       "</div>"
      ],
      "text/plain": [
       "                                                   article_header  \\\n",
       "0  Comfort with a twist trend prevalent at Winter Fancy Food Show   \n",
       "1                 ADM identifies seven alternative protein trends   \n",
       "2                                       Sizing up snacking trends   \n",
       "3              Targeting breakfast food for all morning occasions   \n",
       "4                         Webinar: Flavor trends to watch in 2022   \n",
       "\n",
       "                                                                                           article_url  \\\n",
       "0  https://www.foodbusinessnews.net/articles/20724-comfort-with-a-twist-trend-prevalent-at-winter-f...   \n",
       "1      https://www.foodbusinessnews.net/articles/20643-adm-identifies-seven-alternative-protein-trends   \n",
       "2                            https://www.foodbusinessnews.net/articles/20526-sizing-up-snacking-trends   \n",
       "3   https://www.foodbusinessnews.net/articles/20600-targeting-breakfast-food-for-all-morning-occasions   \n",
       "4               https://www.foodbusinessnews.net/articles/20533-webinar-flavor-trends-to-watch-in-2022   \n",
       "\n",
       "  article_date_published  \\\n",
       "0             2022-02-21   \n",
       "1             2022-02-10   \n",
       "2             2022-01-26   \n",
       "3             2022-02-04   \n",
       "4             2022-01-26   \n",
       "\n",
       "                                                                                          article_text  \\\n",
       "0  CHICAGO — Dairy cheese, whether it comes from cows, goats or sheep, along with plant-based varie...   \n",
       "1  CHICAGO — ADM has identified seven consumer trends in the alternative protein category: novel pr...   \n",
       "2  CHICAGO — Consumers’ preference for snacking as a regular eating behavior over traditional mealt...   \n",
       "3  CHICAGO — Companies could increase breakfast product sales by targeting items for each specific ...   \n",
       "4  KANSAS CITY — What flavor trends are on tap for the year ahead?In an exclusive, 30-minute webina...   \n",
       "\n",
       "                      tags  \\\n",
       "0  Ingredient Applications   \n",
       "1                   Trends   \n",
       "2                 Business   \n",
       "3                   Trends   \n",
       "4                   Trends   \n",
       "\n",
       "                                                                                article_text_processed  \\\n",
       "0  chicago  dairy cheese whether it comes from cows goats or sheep along with plant-based varieties...   \n",
       "1  chicago  adm has identified seven consumer trends in the alternative protein category: novel pro...   \n",
       "2  chicago  consumers’ preference for snacking as a regular eating behavior over traditional mealti...   \n",
       "3  chicago  companies could increase breakfast product sales by targeting items for each specific m...   \n",
       "4  kansas city  what flavor trends are on tap for the year aheadin an exclusive 30-minute webinar t...   \n",
       "\n",
       "                                         article_header_processed  \n",
       "0  comfort with a twist trend prevalent at winter fancy food show  \n",
       "1                 adm identifies seven alternative protein trends  \n",
       "2                                       sizing up snacking trends  \n",
       "3              targeting breakfast food for all morning occasions  \n",
       "4                         webinar: flavor trends to watch in 2022  "
      ]
     },
     "execution_count": 611,
     "metadata": {},
     "output_type": "execute_result"
    }
   ],
   "source": [
    "df_clean.head()"
   ]
  },
  {
   "cell_type": "code",
   "execution_count": 613,
   "id": "ef9b2ca8-cc52-4aeb-b996-893030345b17",
   "metadata": {},
   "outputs": [
    {
     "name": "stdout",
     "output_type": "stream",
     "text": [
      "<class 'pandas.core.frame.DataFrame'>\n",
      "Int64Index: 2282 entries, 0 to 2284\n",
      "Data columns (total 7 columns):\n",
      " #   Column                    Non-Null Count  Dtype         \n",
      "---  ------                    --------------  -----         \n",
      " 0   article_header            2282 non-null   object        \n",
      " 1   article_url               2282 non-null   object        \n",
      " 2   article_date_published    2282 non-null   datetime64[ns]\n",
      " 3   article_text              2282 non-null   object        \n",
      " 4   tags                      2282 non-null   object        \n",
      " 5   article_text_processed    2282 non-null   object        \n",
      " 6   article_header_processed  2282 non-null   object        \n",
      "dtypes: datetime64[ns](1), object(6)\n",
      "memory usage: 207.2+ KB\n"
     ]
    }
   ],
   "source": [
    "df_clean.info()"
   ]
  },
  {
   "cell_type": "code",
   "execution_count": 614,
   "id": "a192765b-53b3-40ed-9e5f-cf8629a9012c",
   "metadata": {},
   "outputs": [
    {
     "data": {
      "text/plain": [
       "2182"
      ]
     },
     "execution_count": 614,
     "metadata": {},
     "output_type": "execute_result"
    }
   ],
   "source": [
    "training_data = [lmw.process_string(t) for t in df_clean['article_text'].tolist()]\n",
    "training_data = [d for d in training_data if d.strip()]\n",
    "\n",
    "len(training_data)"
   ]
  },
  {
   "cell_type": "code",
   "execution_count": 615,
   "id": "5dc5cb27-e0a2-49a9-a36d-d409acb31898",
   "metadata": {},
   "outputs": [
    {
     "data": {
      "text/plain": [
       "'washington reign continues mediterranean diet fifth straight year diet emphasizes fruit vegetables olive oil fish healthy food ranked NUM best diet overall news released best diet rankings NUM jan NUM mediterranean diet also named best diet healthy eating best diet diabetes best plant based diet easiest diet follow mediterranean diet ornish diet tied best heart healthy diet dash diet flexitarian diet tied NUM best diet overall flexitarian diet tied weight watchers volumetrics best weight loss diet also tied NUM best diet plans mayo clinic diet atkins rated best fast weight loss diet consumers increasingly choosing diets offer built community according news members noom diet ranked fourth best diet program assigned coach placed support group keto diet generated lot food news NUM packaged facts rockville found NUM consumers report following keto diet least sometimes yet keto diet finished NUM best diets overall rankings news influence diet health across life span cannot overstated especially amidst covid NUM pandemic diet quality impact outcomes said david katz president true health initiative former director yale prevention research center themes eating well long short term health well established many variants allow personalizing benefits great nutrition better source careful curating options news best diets report'"
      ]
     },
     "execution_count": 615,
     "metadata": {},
     "output_type": "execute_result"
    }
   ],
   "source": [
    "training_data[10]"
   ]
  },
  {
   "cell_type": "code",
   "execution_count": 616,
   "id": "5ca72430-3ed2-498c-83a8-cc237e4797fe",
   "metadata": {},
   "outputs": [
    {
     "data": {
      "text/plain": [
       "2282"
      ]
     },
     "execution_count": 616,
     "metadata": {},
     "output_type": "execute_result"
    }
   ],
   "source": [
    "authors = df_clean['article_header'].tolist()\n",
    "\n",
    "len(authors)"
   ]
  },
  {
   "cell_type": "code",
   "execution_count": 617,
   "id": "cbb3e4b9-f219-43de-b95c-45bff8d4c614",
   "metadata": {},
   "outputs": [
    {
     "name": "stdout",
     "output_type": "stream",
     "text": [
      "Number of Documents: 2182\n",
      "Mean Number of Words per Document: 358.3\n",
      "Vocabulary Size: 27581\n"
     ]
    }
   ],
   "source": [
    "lmw.print_dataset_stats(training_data)"
   ]
  },
  {
   "cell_type": "markdown",
   "id": "c416f6c1-fd4a-4a29-9d89-0e0d4743d455",
   "metadata": {},
   "source": [
    "### Train Topic Model"
   ]
  },
  {
   "cell_type": "code",
   "execution_count": 627,
   "id": "8ae39819-2fdc-4fa5-af29-32bb1d34890a",
   "metadata": {},
   "outputs": [],
   "source": [
    "num_topics = 20  # CHANGE THIS TO YOUR PREFERRED NUMBER OF TOPICS\n",
    "\n",
    "output_directory_path = '/lmw-output' # CHANGE THIS TO YOUR OUTPUT DIRECTORY\n",
    "\n",
    "path_to_training_data           = output_directory_path + '/training.txt'\n",
    "path_to_formatted_training_data = output_directory_path + '/mallet.training'\n",
    "path_to_model                   = output_directory_path + '/mallet.model.' + str(num_topics)\n",
    "path_to_topic_keys              = output_directory_path + '/mallet.topic_keys.' + str(num_topics)\n",
    "path_to_topic_distributions     = output_directory_path + '/mallet.topic_distributions.' + str(num_topics)\n",
    "path_to_word_weights            = output_directory_path + '/mallet.word_weights.' + str(num_topics)\n",
    "path_to_diagnostics             = output_directory_path + '/mallet.diagnostics.' + str(num_topics) + '.xml'"
   ]
  },
  {
   "cell_type": "code",
   "execution_count": 626,
   "id": "b304e763-deee-43e6-9028-7b7d6cb3fda3",
   "metadata": {},
   "outputs": [
    {
     "ename": "FileNotFoundError",
     "evalue": "[Errno 2] No such file or directory: '/topic-model-output/training.txt'",
     "output_type": "error",
     "traceback": [
      "\u001b[1;31m---------------------------------------------------------------------------\u001b[0m",
      "\u001b[1;31mFileNotFoundError\u001b[0m                         Traceback (most recent call last)",
      "Input \u001b[1;32mIn [626]\u001b[0m, in \u001b[0;36m<cell line: 1>\u001b[1;34m()\u001b[0m\n\u001b[1;32m----> 1\u001b[0m topic_keys, topic_distributions \u001b[38;5;241m=\u001b[39m \u001b[43mlmw\u001b[49m\u001b[38;5;241;43m.\u001b[39;49m\u001b[43mquick_train_topic_model\u001b[49m\u001b[43m(\u001b[49m\u001b[43mpath_to_mallet\u001b[49m\u001b[43m,\u001b[49m\u001b[43m \u001b[49m\n\u001b[0;32m      2\u001b[0m \u001b[43m                                                              \u001b[49m\u001b[43moutput_directory_path\u001b[49m\u001b[43m,\u001b[49m\u001b[43m \u001b[49m\n\u001b[0;32m      3\u001b[0m \u001b[43m                                                              \u001b[49m\u001b[43mnum_topics\u001b[49m\u001b[43m,\u001b[49m\u001b[43m \u001b[49m\n\u001b[0;32m      4\u001b[0m \u001b[43m                                                              \u001b[49m\u001b[43mtraining_data\u001b[49m\u001b[43m)\u001b[49m\n",
      "File \u001b[1;32m~\\anaconda3\\lib\\site-packages\\little_mallet_wrapper\\little_mallet_wrapper.py:77\u001b[0m, in \u001b[0;36mquick_train_topic_model\u001b[1;34m(path_to_mallet, output_directory_path, num_topics, training_data)\u001b[0m\n\u001b[0;32m     74\u001b[0m path_to_word_weights            \u001b[38;5;241m=\u001b[39m output_directory_path \u001b[38;5;241m+\u001b[39m \u001b[38;5;124m'\u001b[39m\u001b[38;5;124m/mallet.word_weights.\u001b[39m\u001b[38;5;124m'\u001b[39m \u001b[38;5;241m+\u001b[39m \u001b[38;5;28mstr\u001b[39m(num_topics)\n\u001b[0;32m     75\u001b[0m path_to_diagnostics             \u001b[38;5;241m=\u001b[39m output_directory_path \u001b[38;5;241m+\u001b[39m \u001b[38;5;124m'\u001b[39m\u001b[38;5;124m/mallet.diagnostics.\u001b[39m\u001b[38;5;124m'\u001b[39m \u001b[38;5;241m+\u001b[39m \u001b[38;5;28mstr\u001b[39m(num_topics) \u001b[38;5;241m+\u001b[39m \u001b[38;5;124m'\u001b[39m\u001b[38;5;124m.xml\u001b[39m\u001b[38;5;124m'\u001b[39m\n\u001b[1;32m---> 77\u001b[0m \u001b[43mimport_data\u001b[49m\u001b[43m(\u001b[49m\u001b[43mpath_to_mallet\u001b[49m\u001b[43m,\u001b[49m\n\u001b[0;32m     78\u001b[0m \u001b[43m            \u001b[49m\u001b[43mpath_to_training_data\u001b[49m\u001b[43m,\u001b[49m\n\u001b[0;32m     79\u001b[0m \u001b[43m            \u001b[49m\u001b[43mpath_to_formatted_training_data\u001b[49m\u001b[43m,\u001b[49m\n\u001b[0;32m     80\u001b[0m \u001b[43m            \u001b[49m\u001b[43mtraining_data\u001b[49m\u001b[43m)\u001b[49m                  \n\u001b[0;32m     81\u001b[0m train_topic_model(path_to_mallet,\n\u001b[0;32m     82\u001b[0m                   path_to_formatted_training_data,\n\u001b[0;32m     83\u001b[0m                   path_to_model,\n\u001b[1;32m   (...)\u001b[0m\n\u001b[0;32m     87\u001b[0m                   path_to_diagnostics,\n\u001b[0;32m     88\u001b[0m                   num_topics)\n\u001b[0;32m     90\u001b[0m topic_keys \u001b[38;5;241m=\u001b[39m load_topic_keys(path_to_topic_keys)\n",
      "File \u001b[1;32m~\\anaconda3\\lib\\site-packages\\little_mallet_wrapper\\little_mallet_wrapper.py:103\u001b[0m, in \u001b[0;36mimport_data\u001b[1;34m(path_to_mallet, path_to_training_data, path_to_formatted_training_data, training_data, training_ids, use_pipe_from)\u001b[0m\n\u001b[0;32m     96\u001b[0m \u001b[38;5;28;01mdef\u001b[39;00m \u001b[38;5;21mimport_data\u001b[39m(path_to_mallet,\n\u001b[0;32m     97\u001b[0m                 path_to_training_data,\n\u001b[0;32m     98\u001b[0m                 path_to_formatted_training_data,\n\u001b[0;32m     99\u001b[0m                 training_data,\n\u001b[0;32m    100\u001b[0m                 training_ids\u001b[38;5;241m=\u001b[39m\u001b[38;5;28;01mNone\u001b[39;00m,\n\u001b[0;32m    101\u001b[0m                 use_pipe_from\u001b[38;5;241m=\u001b[39m\u001b[38;5;28;01mNone\u001b[39;00m):\n\u001b[1;32m--> 103\u001b[0m     training_data_file \u001b[38;5;241m=\u001b[39m \u001b[38;5;28;43mopen\u001b[39;49m\u001b[43m(\u001b[49m\u001b[43mpath_to_training_data\u001b[49m\u001b[43m,\u001b[49m\u001b[43m \u001b[49m\u001b[38;5;124;43m'\u001b[39;49m\u001b[38;5;124;43mw\u001b[39;49m\u001b[38;5;124;43m'\u001b[39;49m\u001b[43m)\u001b[49m\n\u001b[0;32m    104\u001b[0m     \u001b[38;5;28;01mfor\u001b[39;00m i, d \u001b[38;5;129;01min\u001b[39;00m \u001b[38;5;28menumerate\u001b[39m(training_data):\n\u001b[0;32m    105\u001b[0m         \u001b[38;5;28;01mif\u001b[39;00m training_ids:\n",
      "\u001b[1;31mFileNotFoundError\u001b[0m: [Errno 2] No such file or directory: '/topic-model-output/training.txt'"
     ]
    }
   ],
   "source": [
    "topic_keys, topic_distributions = lmw.quick_train_topic_model(path_to_mallet, \n",
    "                                                              output_directory_path, \n",
    "                                                              num_topics, \n",
    "                                                              training_data)"
   ]
  },
  {
   "cell_type": "code",
   "execution_count": 628,
   "id": "a514f109-76cc-4730-8ddb-b1a6ae84dca5",
   "metadata": {},
   "outputs": [
    {
     "ename": "FileNotFoundError",
     "evalue": "[Errno 2] No such file or directory: '/lmw-output/training.txt'",
     "output_type": "error",
     "traceback": [
      "\u001b[1;31m---------------------------------------------------------------------------\u001b[0m",
      "\u001b[1;31mFileNotFoundError\u001b[0m                         Traceback (most recent call last)",
      "Input \u001b[1;32mIn [628]\u001b[0m, in \u001b[0;36m<cell line: 1>\u001b[1;34m()\u001b[0m\n\u001b[1;32m----> 1\u001b[0m \u001b[43mlmw\u001b[49m\u001b[38;5;241;43m.\u001b[39;49m\u001b[43mimport_data\u001b[49m\u001b[43m(\u001b[49m\u001b[43mpath_to_mallet\u001b[49m\u001b[43m,\u001b[49m\n\u001b[0;32m      2\u001b[0m \u001b[43m                \u001b[49m\u001b[43mpath_to_training_data\u001b[49m\u001b[43m,\u001b[49m\n\u001b[0;32m      3\u001b[0m \u001b[43m                \u001b[49m\u001b[43mpath_to_formatted_training_data\u001b[49m\u001b[43m,\u001b[49m\n\u001b[0;32m      4\u001b[0m \u001b[43m                \u001b[49m\u001b[43mtraining_data\u001b[49m\u001b[43m)\u001b[49m\n",
      "File \u001b[1;32m~\\anaconda3\\lib\\site-packages\\little_mallet_wrapper\\little_mallet_wrapper.py:103\u001b[0m, in \u001b[0;36mimport_data\u001b[1;34m(path_to_mallet, path_to_training_data, path_to_formatted_training_data, training_data, training_ids, use_pipe_from)\u001b[0m\n\u001b[0;32m     96\u001b[0m \u001b[38;5;28;01mdef\u001b[39;00m \u001b[38;5;21mimport_data\u001b[39m(path_to_mallet,\n\u001b[0;32m     97\u001b[0m                 path_to_training_data,\n\u001b[0;32m     98\u001b[0m                 path_to_formatted_training_data,\n\u001b[0;32m     99\u001b[0m                 training_data,\n\u001b[0;32m    100\u001b[0m                 training_ids\u001b[38;5;241m=\u001b[39m\u001b[38;5;28;01mNone\u001b[39;00m,\n\u001b[0;32m    101\u001b[0m                 use_pipe_from\u001b[38;5;241m=\u001b[39m\u001b[38;5;28;01mNone\u001b[39;00m):\n\u001b[1;32m--> 103\u001b[0m     training_data_file \u001b[38;5;241m=\u001b[39m \u001b[38;5;28;43mopen\u001b[39;49m\u001b[43m(\u001b[49m\u001b[43mpath_to_training_data\u001b[49m\u001b[43m,\u001b[49m\u001b[43m \u001b[49m\u001b[38;5;124;43m'\u001b[39;49m\u001b[38;5;124;43mw\u001b[39;49m\u001b[38;5;124;43m'\u001b[39;49m\u001b[43m)\u001b[49m\n\u001b[0;32m    104\u001b[0m     \u001b[38;5;28;01mfor\u001b[39;00m i, d \u001b[38;5;129;01min\u001b[39;00m \u001b[38;5;28menumerate\u001b[39m(training_data):\n\u001b[0;32m    105\u001b[0m         \u001b[38;5;28;01mif\u001b[39;00m training_ids:\n",
      "\u001b[1;31mFileNotFoundError\u001b[0m: [Errno 2] No such file or directory: '/lmw-output/training.txt'"
     ]
    }
   ],
   "source": [
    "lmw.import_data(path_to_mallet,\n",
    "                path_to_training_data,\n",
    "                path_to_formatted_training_data,\n",
    "                training_data)"
   ]
  },
  {
   "cell_type": "code",
   "execution_count": 607,
   "id": "ef4faf83-b63e-4c2f-8cfd-344b25514665",
   "metadata": {},
   "outputs": [
    {
     "ename": "AttributeError",
     "evalue": "module 'gensim.models' has no attribute 'wrappers'",
     "output_type": "error",
     "traceback": [
      "\u001b[1;31m---------------------------------------------------------------------------\u001b[0m",
      "\u001b[1;31mAttributeError\u001b[0m                            Traceback (most recent call last)",
      "Input \u001b[1;32mIn [607]\u001b[0m, in \u001b[0;36m<cell line: 1>\u001b[1;34m()\u001b[0m\n\u001b[1;32m----> 1\u001b[0m ldamallet \u001b[38;5;241m=\u001b[39m \u001b[43mgensim\u001b[49m\u001b[38;5;241;43m.\u001b[39;49m\u001b[43mmodels\u001b[49m\u001b[38;5;241;43m.\u001b[39;49m\u001b[43mwrappers\u001b[49m\u001b[38;5;241m.\u001b[39mLdaMallet(mallet_path, corpus\u001b[38;5;241m=\u001b[39mcorpus, num_topics\u001b[38;5;241m=\u001b[39m\u001b[38;5;241m10\u001b[39m, id2word\u001b[38;5;241m=\u001b[39mid2word)\n",
      "\u001b[1;31mAttributeError\u001b[0m: module 'gensim.models' has no attribute 'wrappers'"
     ]
    }
   ],
   "source": [
    "ldamallet = gensim.models.wrappers.LdaMallet(mallet_path, corpus=corpus, num_topics=10, id2word=id2word)"
   ]
  },
  {
   "cell_type": "code",
   "execution_count": null,
   "id": "c18686b6-8fef-44c2-b51c-d32c64eaa0ac",
   "metadata": {},
   "outputs": [],
   "source": []
  },
  {
   "cell_type": "markdown",
   "id": "5fef3bfe-3f14-4548-b06a-cc6119cbe604",
   "metadata": {},
   "source": [
    "## TF-IDF"
   ]
  },
  {
   "cell_type": "code",
   "execution_count": 470,
   "id": "24a5e857-490f-4ee3-ab6f-5c22e3adee9e",
   "metadata": {},
   "outputs": [
    {
     "data": {
      "text/plain": [
       "TfidfVectorizer()"
      ]
     },
     "execution_count": 470,
     "metadata": {},
     "output_type": "execute_result"
    }
   ],
   "source": [
    "from sklearn.feature_extraction.text import TfidfVectorizer\n",
    "\n",
    "tfidf = TfidfVectorizer()\n",
    "tfidf.fit(df_clean['article_text_processed'])"
   ]
  },
  {
   "cell_type": "code",
   "execution_count": 473,
   "id": "79ec7272-c54b-4033-a8a8-cff31bf748c5",
   "metadata": {},
   "outputs": [
    {
     "data": {
      "text/plain": [
       "'chicago  adm has identified seven consumer trends in the alternative protein category: novel protein sources fermentation whole-muscle solutions transparency price parity child-friendly product formats and authentic cuisines the chicago-based company based its findings on research from its outside voice consumer insights platformfungi and air are examples of novel protein sources cell-based meat counts as well future meat technologies rehovot israel is working on cell-based meat made from cultivated animal cells the company is developing more efficient processes for manufacturing meat products at scale air particles volcanic ash seaweed and insects are all examples of novel protein sourcesmicrobial fermentation may be used to develop alternative proteins companies such as adm have fermentation capabilities to support food beverage and health and wellness brands with downstream processing lab services and consultations according to admwhole-muscle plant-based products such as chicken breast alternatives are becoming more available to global consumers brands are seeking novel ways to reproduce the texture of animal-based whole-muscle cuts ranging from t-bone steaks to shellfishinnovation and transparency from seed to fork will become more important as concerns about climate change increase and consumers demand greater sustainability in existing food systems seed-to-fork initiatives leverage technology to improve seed breeding and lessen the cost time and environmental impact associated with creating consumer-ready protein sourcesfuture meat technologies has made progress on the price parity of cell-based meat products compared to traditional meat products the company is producing cell-based chicken breast for $770 per lb down from $18 per lb six months agothe purchasing choices of parents may fuel the rise of child-friendly product formats adm’s outside research indicates parents looking for mealtime solutions that delight and nourish all family members are the largest cohort of flexitarian consumers child-friendly flavors colors and formats could appear in plant-based chicken nugget alternatives yogurt alternatives pizza and macaroni and cheese alternativesbrands are exploring ways to offer traditional authentic cuisines that apply to specific regions and appeal to consumers’ desire for items like plant-based shawarma alternatives schnitzel alternatives and shrimp dumplings alternatives'"
      ]
     },
     "execution_count": 473,
     "metadata": {},
     "output_type": "execute_result"
    }
   ],
   "source": [
    "X = tfidf.transform(df_clean['article_text_processed'])\n",
    "df_clean['article_text_processed'][1]"
   ]
  },
  {
   "cell_type": "code",
   "execution_count": 474,
   "id": "79f65332-f5e4-4143-b665-00cdf07ef84f",
   "metadata": {},
   "outputs": [
    {
     "name": "stdout",
     "output_type": "stream",
     "text": [
      "[0.058017030987679206]\n"
     ]
    }
   ],
   "source": [
    "print([X[1, tfidf.vocabulary_['consumer']]])"
   ]
  },
  {
   "cell_type": "code",
   "execution_count": 489,
   "id": "a34122c3-c792-4692-9c74-0ac012c3bb4e",
   "metadata": {},
   "outputs": [],
   "source": [
    "from sklearn.feature_selection import chi2\n",
    "\n",
    "tfidf = TfidfVectorizer(max_features=30000,ngram_range=(1, 3))\n",
    "X_tfidf = tfidf.fit_transform(df_clean['article_text_processed'])\n"
   ]
  },
  {
   "cell_type": "markdown",
   "id": "d7cd56dd-beb2-434c-bc26-b14a6955f14d",
   "metadata": {
    "tags": []
   },
   "source": [
    "## Topic Modelling -- Time Series "
   ]
  },
  {
   "cell_type": "code",
   "execution_count": 446,
   "id": "51d19351-7cbb-42e9-a140-14ac573cbedf",
   "metadata": {},
   "outputs": [],
   "source": [
    "path_to_mallet = 'mallet-2.0.8/bin/mallet'"
   ]
  },
  {
   "cell_type": "code",
   "execution_count": 516,
   "id": "fa29ad2b-7c29-4993-b9a6-98d8e6737092",
   "metadata": {},
   "outputs": [],
   "source": [
    "from collections import defaultdict\n",
    "from datetime import datetime\n",
    "import math\n",
    "from operator import itemgetter\n",
    "import os\n",
    "import random\n",
    "import re\n",
    "\n",
    "import numpy as np\n",
    "import pandas as pd\n",
    "\n",
    "%matplotlib inline\n",
    "\n",
    "import little_mallet_wrapper as lmw"
   ]
  },
  {
   "cell_type": "code",
   "execution_count": 517,
   "id": "8200a37b-c68c-4805-967e-09e561bdd158",
   "metadata": {},
   "outputs": [
    {
     "data": {
      "text/plain": [
       "'C:\\\\Users\\\\FaridSarwari\\\\OneDrive - BlueGem Capital Partners LLP\\\\Desktop\\\\Bluegem'"
      ]
     },
     "execution_count": 517,
     "metadata": {},
     "output_type": "execute_result"
    }
   ],
   "source": [
    "import os \n",
    "\n",
    "os.getcwd()"
   ]
  },
  {
   "cell_type": "code",
   "execution_count": 518,
   "id": "7667c138-53ef-4fed-8764-ddeb3eb7c508",
   "metadata": {},
   "outputs": [],
   "source": [
    "path_to_mallet = \"C:/Users/FaridSarwari/OneDrive - BlueGem Capital Partners LLP/Desktop/Bluegem/mallet-2.0.8\""
   ]
  },
  {
   "cell_type": "code",
   "execution_count": 519,
   "id": "c0f4cee3-664b-4cb4-80f9-16c368a5e6fc",
   "metadata": {},
   "outputs": [],
   "source": [
    "training_data = [little_mallet_wrapper.process_string(text, numbers='remove') for text in df_clean['article_text']]"
   ]
  },
  {
   "cell_type": "code",
   "execution_count": 520,
   "id": "94daea2e-5447-4508-98dc-24d6997bd63a",
   "metadata": {},
   "outputs": [],
   "source": [
    "original_data = [title for title in df_clean['article_text']]"
   ]
  },
  {
   "cell_type": "code",
   "execution_count": 521,
   "id": "4032edaf-8c3b-42a8-801d-ad9de96a8908",
   "metadata": {},
   "outputs": [
    {
     "name": "stdout",
     "output_type": "stream",
     "text": [
      "Number of Documents: 2282\n",
      "Mean Number of Words per Document: 328.6\n",
      "Vocabulary Size: 27507\n"
     ]
    }
   ],
   "source": [
    "little_mallet_wrapper.print_dataset_stats(training_data)"
   ]
  },
  {
   "cell_type": "code",
   "execution_count": 522,
   "id": "1303d481-f08e-4085-93e9-ce91d7e84d20",
   "metadata": {},
   "outputs": [
    {
     "name": "stdout",
     "output_type": "stream",
     "text": [
      "Number of Documents: 2282\n",
      "Mean Number of Words per Document: 328.6\n",
      "Vocabulary Size: 27507\n"
     ]
    }
   ],
   "source": [
    "lmw.print_dataset_stats(training_data)"
   ]
  },
  {
   "cell_type": "code",
   "execution_count": 523,
   "id": "1c026869-5503-4043-90c3-4559b7786a6f",
   "metadata": {},
   "outputs": [],
   "source": [
    "num_topics = 20  # CHANGE THIS TO YOUR PREFERRED NUMBER OF TOPICS\n",
    "\n",
    "output_directory_path = 'C:/Users/FaridSarwari/OneDrive - BlueGem Capital Partners LLP/Desktop/Bluegem/topic-model-output/food_articles' # CHANGE THIS TO YOUR OUTPUT DIRECTORY"
   ]
  },
  {
   "cell_type": "code",
   "execution_count": 550,
   "id": "7b006e54-d801-473c-87bc-6a6d99813783",
   "metadata": {},
   "outputs": [
    {
     "name": "stdout",
     "output_type": "stream",
     "text": [
      "Importing data...\n",
      "Complete\n",
      "Training topic model...\n",
      "Complete\n"
     ]
    },
    {
     "ename": "FileNotFoundError",
     "evalue": "[Errno 2] No such file or directory: 'C:/Users/FaridSarwari/OneDrive - BlueGem Capital Partners LLP/Desktop/Bluegem/topic-model-output/food_articles/mallet.topic_keys.20'",
     "output_type": "error",
     "traceback": [
      "\u001b[1;31m---------------------------------------------------------------------------\u001b[0m",
      "\u001b[1;31mFileNotFoundError\u001b[0m                         Traceback (most recent call last)",
      "Input \u001b[1;32mIn [551]\u001b[0m, in \u001b[0;36m<cell line: 3>\u001b[1;34m()\u001b[0m\n\u001b[0;32m      1\u001b[0m num_topics \u001b[38;5;241m=\u001b[39m \u001b[38;5;241m20\u001b[39m \n\u001b[1;32m----> 3\u001b[0m topic_distributions \u001b[38;5;241m=\u001b[39m \u001b[43mlmw\u001b[49m\u001b[38;5;241;43m.\u001b[39;49m\u001b[43mquick_train_topic_model\u001b[49m\u001b[43m(\u001b[49m\u001b[43mpath_to_mallet\u001b[49m\u001b[43m,\u001b[49m\u001b[43m \u001b[49m\n\u001b[0;32m      4\u001b[0m \u001b[43m                                                              \u001b[49m\u001b[43moutput_directory_path\u001b[49m\u001b[43m,\u001b[49m\u001b[43m \u001b[49m\n\u001b[0;32m      5\u001b[0m \u001b[43m                                                              \u001b[49m\u001b[43mnum_topics\u001b[49m\u001b[43m,\u001b[49m\u001b[43m \u001b[49m\n\u001b[0;32m      6\u001b[0m \u001b[43m                                                              \u001b[49m\u001b[43mtraining_data\u001b[49m\u001b[43m)\u001b[49m\n",
      "File \u001b[1;32m~\\anaconda3\\lib\\site-packages\\little_mallet_wrapper\\little_mallet_wrapper.py:90\u001b[0m, in \u001b[0;36mquick_train_topic_model\u001b[1;34m(path_to_mallet, output_directory_path, num_topics, training_data)\u001b[0m\n\u001b[0;32m     77\u001b[0m import_data(path_to_mallet,\n\u001b[0;32m     78\u001b[0m             path_to_training_data,\n\u001b[0;32m     79\u001b[0m             path_to_formatted_training_data,\n\u001b[0;32m     80\u001b[0m             training_data)                  \n\u001b[0;32m     81\u001b[0m train_topic_model(path_to_mallet,\n\u001b[0;32m     82\u001b[0m                   path_to_formatted_training_data,\n\u001b[0;32m     83\u001b[0m                   path_to_model,\n\u001b[1;32m   (...)\u001b[0m\n\u001b[0;32m     87\u001b[0m                   path_to_diagnostics,\n\u001b[0;32m     88\u001b[0m                   num_topics)\n\u001b[1;32m---> 90\u001b[0m topic_keys \u001b[38;5;241m=\u001b[39m \u001b[43mload_topic_keys\u001b[49m\u001b[43m(\u001b[49m\u001b[43mpath_to_topic_keys\u001b[49m\u001b[43m)\u001b[49m\n\u001b[0;32m     91\u001b[0m topic_distributions \u001b[38;5;241m=\u001b[39m load_topic_distributions(path_to_topic_distributions)\n\u001b[0;32m     93\u001b[0m \u001b[38;5;28;01mreturn\u001b[39;00m topic_keys, topic_distributions\n",
      "File \u001b[1;32m~\\anaconda3\\lib\\site-packages\\little_mallet_wrapper\\little_mallet_wrapper.py:152\u001b[0m, in \u001b[0;36mload_topic_keys\u001b[1;34m(topic_keys_path)\u001b[0m\n\u001b[0;32m    151\u001b[0m \u001b[38;5;28;01mdef\u001b[39;00m \u001b[38;5;21mload_topic_keys\u001b[39m(topic_keys_path):\n\u001b[1;32m--> 152\u001b[0m     \u001b[38;5;28;01mreturn\u001b[39;00m [line\u001b[38;5;241m.\u001b[39msplit(\u001b[38;5;124m'\u001b[39m\u001b[38;5;130;01m\\t\u001b[39;00m\u001b[38;5;124m'\u001b[39m)[\u001b[38;5;241m2\u001b[39m]\u001b[38;5;241m.\u001b[39msplit() \u001b[38;5;28;01mfor\u001b[39;00m line \u001b[38;5;129;01min\u001b[39;00m \u001b[38;5;28;43mopen\u001b[39;49m\u001b[43m(\u001b[49m\u001b[43mtopic_keys_path\u001b[49m\u001b[43m,\u001b[49m\u001b[43m \u001b[49m\u001b[38;5;124;43m'\u001b[39;49m\u001b[38;5;124;43mr\u001b[39;49m\u001b[38;5;124;43m'\u001b[39;49m\u001b[43m)\u001b[49m]\n",
      "\u001b[1;31mFileNotFoundError\u001b[0m: [Errno 2] No such file or directory: 'C:/Users/FaridSarwari/OneDrive - BlueGem Capital Partners LLP/Desktop/Bluegem/topic-model-output/food_articles/mallet.topic_keys.20'"
     ]
    }
   ],
   "source": [
    "num_topics = 20 \n",
    "\n",
    "topic_keys, topic_distributions = lmw.quick_train_topic_model(path_to_mallet, \n",
    "                                                              output_directory_path, \n",
    "                                                              num_topics, \n",
    "                                                              training_data)"
   ]
  },
  {
   "cell_type": "code",
   "execution_count": 552,
   "id": "e5d6909a-0ae6-42cf-872d-702a6efcbcaf",
   "metadata": {},
   "outputs": [
    {
     "ename": "AttributeError",
     "evalue": "module 'gensim.models' has no attribute 'wrappers'",
     "output_type": "error",
     "traceback": [
      "\u001b[1;31m---------------------------------------------------------------------------\u001b[0m",
      "\u001b[1;31mAttributeError\u001b[0m                            Traceback (most recent call last)",
      "Input \u001b[1;32mIn [552]\u001b[0m, in \u001b[0;36m<cell line: 1>\u001b[1;34m()\u001b[0m\n\u001b[1;32m----> 1\u001b[0m ldamallet \u001b[38;5;241m=\u001b[39m \u001b[43mgensim\u001b[49m\u001b[38;5;241;43m.\u001b[39;49m\u001b[43mmodels\u001b[49m\u001b[38;5;241;43m.\u001b[39;49m\u001b[43mwrappers\u001b[49m\u001b[38;5;241m.\u001b[39mLdaMallet(mallet_path, corpus\u001b[38;5;241m=\u001b[39mcorpus, num_topics\u001b[38;5;241m=\u001b[39m\u001b[38;5;241m10\u001b[39m, id2word\u001b[38;5;241m=\u001b[39mid2word)\n",
      "\u001b[1;31mAttributeError\u001b[0m: module 'gensim.models' has no attribute 'wrappers'"
     ]
    }
   ],
   "source": [
    "ldamallet = gensim.models.wrappers.LdaMallet(mallet_path, corpus=corpus, num_topics=10, id2word=id2word)"
   ]
  },
  {
   "cell_type": "code",
   "execution_count": 542,
   "id": "9b09d114-0aa8-41dd-9ae6-4df8debf0390",
   "metadata": {},
   "outputs": [],
   "source": [
    "import os\n",
    "\n",
    "os.environ['MALLET_HOME'] = 'C:/Users/FaridSarwari/OneDrive - BlueGem Capital Partners LLP/Desktop/Bluegem'\n",
    "path_to_mallet = 'C:/Users/FaridSarwari/OneDrive - BlueGem Capital Partners LLP/Desktop/Bluegem/mallet-2.0.8'\n"
   ]
  },
  {
   "cell_type": "code",
   "execution_count": 543,
   "id": "0754076e-5cea-44ee-8fb3-d78d38f11631",
   "metadata": {},
   "outputs": [],
   "source": [
    "num_topics = 20  # CHANGE THIS TO YOUR PREFERRED NUMBER OF TOPICS\n",
    "\n",
    "output_directory_path = 'C:/Users/FaridSarwari/OneDrive - BlueGem Capital Partners LLP/Desktop/Bluegem/topic-model-output/food_articles' # CHANGE THIS TO YOUR OUTPUT DIRECTORY\n",
    "\n",
    "path_to_training_data           = output_directory_path + '/training.txt'\n",
    "path_to_formatted_training_data = output_directory_path + '/mallet.training'\n",
    "path_to_model                   = output_directory_path + '/mallet.model.' + str(num_topics)\n",
    "path_to_topic_keys              = output_directory_path + '/mallet.topic_keys.' + str(num_topics)\n",
    "path_to_topic_distributions     = output_directory_path + '/mallet.topic_distributions.' + str(num_topics)\n",
    "path_to_word_weights            = output_directory_path + '/mallet.word_weights.' + str(num_topics)\n",
    "path_to_diagnostics             = output_directory_path + '/mallet.diagnostics.' + str(num_topics) + '.xml'"
   ]
  },
  {
   "cell_type": "code",
   "execution_count": 544,
   "id": "fcaa2d81-c1ee-469e-a56a-0b5c98b97df4",
   "metadata": {},
   "outputs": [
    {
     "name": "stdout",
     "output_type": "stream",
     "text": [
      "Importing data...\n",
      "Complete\n"
     ]
    }
   ],
   "source": [
    "lmw.import_data(path_to_mallet,\n",
    "                path_to_training_data,\n",
    "                path_to_formatted_training_data,\n",
    "                training_data)"
   ]
  },
  {
   "cell_type": "code",
   "execution_count": 545,
   "id": "f4011e4d-4890-4982-869d-a9f3a37d0e34",
   "metadata": {},
   "outputs": [
    {
     "name": "stdout",
     "output_type": "stream",
     "text": [
      "Training topic model...\n",
      "Complete\n"
     ]
    }
   ],
   "source": [
    "lmw.train_topic_model(path_to_mallet,\n",
    "                      path_to_formatted_training_data,\n",
    "                      path_to_model,\n",
    "                      path_to_topic_keys,\n",
    "                      path_to_topic_distributions,\n",
    "                      path_to_word_weights,\n",
    "                      path_to_diagnostics,\n",
    "                      num_topics)"
   ]
  },
  {
   "cell_type": "code",
   "execution_count": 546,
   "id": "77f4db12-3459-4d9f-9adf-978be624cf09",
   "metadata": {},
   "outputs": [
    {
     "ename": "FileNotFoundError",
     "evalue": "[Errno 2] No such file or directory: 'C:/Users/FaridSarwari/OneDrive - BlueGem Capital Partners LLP/Desktop/Bluegem/topic-model-output/food_articles/mallet.topic_keys.20'",
     "output_type": "error",
     "traceback": [
      "\u001b[1;31m---------------------------------------------------------------------------\u001b[0m",
      "\u001b[1;31mFileNotFoundError\u001b[0m                         Traceback (most recent call last)",
      "Input \u001b[1;32mIn [546]\u001b[0m, in \u001b[0;36m<cell line: 1>\u001b[1;34m()\u001b[0m\n\u001b[1;32m----> 1\u001b[0m topic_keys \u001b[38;5;241m=\u001b[39m \u001b[43mlmw\u001b[49m\u001b[38;5;241;43m.\u001b[39;49m\u001b[43mload_topic_keys\u001b[49m\u001b[43m(\u001b[49m\u001b[43moutput_directory_path\u001b[49m\u001b[43m \u001b[49m\u001b[38;5;241;43m+\u001b[39;49m\u001b[43m \u001b[49m\u001b[38;5;124;43m'\u001b[39;49m\u001b[38;5;124;43m/mallet.topic_keys.\u001b[39;49m\u001b[38;5;124;43m'\u001b[39;49m\u001b[43m \u001b[49m\u001b[38;5;241;43m+\u001b[39;49m\u001b[43m \u001b[49m\u001b[38;5;28;43mstr\u001b[39;49m\u001b[43m(\u001b[49m\u001b[43mnum_topics\u001b[49m\u001b[43m)\u001b[49m\u001b[43m)\u001b[49m\n\u001b[0;32m      3\u001b[0m \u001b[38;5;28;01mfor\u001b[39;00m i, t \u001b[38;5;129;01min\u001b[39;00m \u001b[38;5;28menumerate\u001b[39m(topic_keys):\n\u001b[0;32m      4\u001b[0m     \u001b[38;5;28mprint\u001b[39m(i, \u001b[38;5;124m'\u001b[39m\u001b[38;5;130;01m\\t\u001b[39;00m\u001b[38;5;124m'\u001b[39m, \u001b[38;5;124m'\u001b[39m\u001b[38;5;124m \u001b[39m\u001b[38;5;124m'\u001b[39m\u001b[38;5;241m.\u001b[39mjoin(t[:\u001b[38;5;241m10\u001b[39m]))\n",
      "File \u001b[1;32m~\\anaconda3\\lib\\site-packages\\little_mallet_wrapper\\little_mallet_wrapper.py:152\u001b[0m, in \u001b[0;36mload_topic_keys\u001b[1;34m(topic_keys_path)\u001b[0m\n\u001b[0;32m    151\u001b[0m \u001b[38;5;28;01mdef\u001b[39;00m \u001b[38;5;21mload_topic_keys\u001b[39m(topic_keys_path):\n\u001b[1;32m--> 152\u001b[0m     \u001b[38;5;28;01mreturn\u001b[39;00m [line\u001b[38;5;241m.\u001b[39msplit(\u001b[38;5;124m'\u001b[39m\u001b[38;5;130;01m\\t\u001b[39;00m\u001b[38;5;124m'\u001b[39m)[\u001b[38;5;241m2\u001b[39m]\u001b[38;5;241m.\u001b[39msplit() \u001b[38;5;28;01mfor\u001b[39;00m line \u001b[38;5;129;01min\u001b[39;00m \u001b[38;5;28;43mopen\u001b[39;49m\u001b[43m(\u001b[49m\u001b[43mtopic_keys_path\u001b[49m\u001b[43m,\u001b[49m\u001b[43m \u001b[49m\u001b[38;5;124;43m'\u001b[39;49m\u001b[38;5;124;43mr\u001b[39;49m\u001b[38;5;124;43m'\u001b[39;49m\u001b[43m)\u001b[49m]\n",
      "\u001b[1;31mFileNotFoundError\u001b[0m: [Errno 2] No such file or directory: 'C:/Users/FaridSarwari/OneDrive - BlueGem Capital Partners LLP/Desktop/Bluegem/topic-model-output/food_articles/mallet.topic_keys.20'"
     ]
    }
   ],
   "source": [
    "\n",
    "\n",
    "topic_keys = lmw.load_topic_keys(output_directory_path + '/mallet.topic_keys.' + str(num_topics))\n",
    "\n",
    "for i, t in enumerate(topic_keys):\n",
    "    print(i, '\\t', ' '.join(t[:10]))"
   ]
  },
  {
   "cell_type": "code",
   "execution_count": 547,
   "id": "fd0cdd86-7faa-405b-81b1-de18595699d8",
   "metadata": {},
   "outputs": [
    {
     "ename": "NameError",
     "evalue": "name 'topic_distributions' is not defined",
     "output_type": "error",
     "traceback": [
      "\u001b[1;31m---------------------------------------------------------------------------\u001b[0m",
      "\u001b[1;31mNameError\u001b[0m                                 Traceback (most recent call last)",
      "Input \u001b[1;32mIn [547]\u001b[0m, in \u001b[0;36m<cell line: 1>\u001b[1;34m()\u001b[0m\n\u001b[1;32m----> 1\u001b[0m \u001b[38;5;28;01massert\u001b[39;00m(\u001b[38;5;28mlen\u001b[39m(\u001b[43mtopic_distributions\u001b[49m) \u001b[38;5;241m==\u001b[39m \u001b[38;5;28mlen\u001b[39m(training_data))\n",
      "\u001b[1;31mNameError\u001b[0m: name 'topic_distributions' is not defined"
     ]
    }
   ],
   "source": [
    "assert(len(topic_distributions) == len(training_data))"
   ]
  },
  {
   "cell_type": "code",
   "execution_count": 530,
   "id": "ed566419-84b9-4c5f-ad76-0a2b98711222",
   "metadata": {},
   "outputs": [
    {
     "ename": "NameError",
     "evalue": "name 'topic_keys' is not defined",
     "output_type": "error",
     "traceback": [
      "\u001b[1;31m---------------------------------------------------------------------------\u001b[0m",
      "\u001b[1;31mNameError\u001b[0m                                 Traceback (most recent call last)",
      "Input \u001b[1;32mIn [530]\u001b[0m, in \u001b[0;36m<cell line: 1>\u001b[1;34m()\u001b[0m\n\u001b[1;32m----> 1\u001b[0m \u001b[38;5;28;01mfor\u001b[39;00m i, t \u001b[38;5;129;01min\u001b[39;00m \u001b[38;5;28menumerate\u001b[39m(\u001b[43mtopic_keys\u001b[49m):\n\u001b[0;32m      2\u001b[0m     \u001b[38;5;28mprint\u001b[39m(i, \u001b[38;5;124m'\u001b[39m\u001b[38;5;130;01m\\t\u001b[39;00m\u001b[38;5;124m'\u001b[39m, \u001b[38;5;124m'\u001b[39m\u001b[38;5;124m \u001b[39m\u001b[38;5;124m'\u001b[39m\u001b[38;5;241m.\u001b[39mjoin(t[:\u001b[38;5;241m10\u001b[39m]))\n",
      "\u001b[1;31mNameError\u001b[0m: name 'topic_keys' is not defined"
     ]
    }
   ],
   "source": [
    "for i, t in enumerate(topic_keys):\n",
    "    print(i, '\\t', ' '.join(t[:10]))"
   ]
  },
  {
   "cell_type": "code",
   "execution_count": 505,
   "id": "b0f64fe8-171a-4845-9597-c998118c305d",
   "metadata": {},
   "outputs": [
    {
     "ename": "AttributeError",
     "evalue": "module 'gensim.models' has no attribute 'wrappers'",
     "output_type": "error",
     "traceback": [
      "\u001b[1;31m---------------------------------------------------------------------------\u001b[0m",
      "\u001b[1;31mAttributeError\u001b[0m                            Traceback (most recent call last)",
      "Input \u001b[1;32mIn [505]\u001b[0m, in \u001b[0;36m<cell line: 1>\u001b[1;34m()\u001b[0m\n\u001b[1;32m----> 1\u001b[0m ldamallet \u001b[38;5;241m=\u001b[39m \u001b[43mgensim\u001b[49m\u001b[38;5;241;43m.\u001b[39;49m\u001b[43mmodels\u001b[49m\u001b[38;5;241;43m.\u001b[39;49m\u001b[43mwrappers\u001b[49m\u001b[38;5;241m.\u001b[39mLdaMallet(mallet_path, corpus\u001b[38;5;241m=\u001b[39mcorpus, num_topics\u001b[38;5;241m=\u001b[39m\u001b[38;5;241m10\u001b[39m, id2word\u001b[38;5;241m=\u001b[39mid2word)\n",
      "\u001b[1;31mAttributeError\u001b[0m: module 'gensim.models' has no attribute 'wrappers'"
     ]
    }
   ],
   "source": [
    "ldamallet = gensim.models.wrappers.LdaMallet(mallet_path, corpus=corpus, num_topics=10, id2word=id2word)"
   ]
  },
  {
   "cell_type": "code",
   "execution_count": 500,
   "id": "8fa93fe9-53f6-45e0-a207-1398faa30de9",
   "metadata": {},
   "outputs": [],
   "source": [
    "#Change to your desired output directory\n",
    "output_directory_path = 'topic-model-output/food_articles'\n",
    "\n",
    "#No need to change anything below here\n",
    "Path(f\"{output_directory_path}\").mkdir(parents=True, exist_ok=True)\n",
    "\n",
    "path_to_training_data           = f\"{output_directory_path}/training.txt\"\n",
    "path_to_formatted_training_data = f\"{output_directory_path}/mallet.training\"\n",
    "path_to_model                   = f\"{output_directory_path}/mallet.model.{str(num_topics)}\"\n",
    "path_to_topic_keys              = f\"{output_directory_path}/mallet.topic_keys.{str(num_topics)}\"\n",
    "path_to_topic_distributions     = f\"{output_directory_path}/mallet.topic_distributions.{str(num_topics)}\""
   ]
  },
  {
   "cell_type": "code",
   "execution_count": 501,
   "id": "158584a8-142f-4d33-86a6-158931fba1b1",
   "metadata": {},
   "outputs": [
    {
     "name": "stdout",
     "output_type": "stream",
     "text": [
      "Importing data...\n",
      "Complete\n",
      "Training topic model...\n",
      "Complete\n"
     ]
    },
    {
     "ename": "FileNotFoundError",
     "evalue": "[Errno 2] No such file or directory: 'topic-model-output/food_articles/mallet.topic_keys.35'",
     "output_type": "error",
     "traceback": [
      "\u001b[1;31m---------------------------------------------------------------------------\u001b[0m",
      "\u001b[1;31mFileNotFoundError\u001b[0m                         Traceback (most recent call last)",
      "Input \u001b[1;32mIn [501]\u001b[0m, in \u001b[0;36m<cell line: 1>\u001b[1;34m()\u001b[0m\n\u001b[1;32m----> 1\u001b[0m \u001b[43mlittle_mallet_wrapper\u001b[49m\u001b[38;5;241;43m.\u001b[39;49m\u001b[43mquick_train_topic_model\u001b[49m\u001b[43m(\u001b[49m\u001b[43mpath_to_mallet\u001b[49m\u001b[43m,\u001b[49m\u001b[43moutput_directory_path\u001b[49m\u001b[43m,\u001b[49m\u001b[43m \u001b[49m\u001b[43mnum_topics\u001b[49m\u001b[43m,\u001b[49m\u001b[43m \u001b[49m\u001b[43mtraining_data\u001b[49m\u001b[43m)\u001b[49m\n",
      "File \u001b[1;32m~\\anaconda3\\lib\\site-packages\\little_mallet_wrapper\\little_mallet_wrapper.py:90\u001b[0m, in \u001b[0;36mquick_train_topic_model\u001b[1;34m(path_to_mallet, output_directory_path, num_topics, training_data)\u001b[0m\n\u001b[0;32m     77\u001b[0m import_data(path_to_mallet,\n\u001b[0;32m     78\u001b[0m             path_to_training_data,\n\u001b[0;32m     79\u001b[0m             path_to_formatted_training_data,\n\u001b[0;32m     80\u001b[0m             training_data)                  \n\u001b[0;32m     81\u001b[0m train_topic_model(path_to_mallet,\n\u001b[0;32m     82\u001b[0m                   path_to_formatted_training_data,\n\u001b[0;32m     83\u001b[0m                   path_to_model,\n\u001b[1;32m   (...)\u001b[0m\n\u001b[0;32m     87\u001b[0m                   path_to_diagnostics,\n\u001b[0;32m     88\u001b[0m                   num_topics)\n\u001b[1;32m---> 90\u001b[0m topic_keys \u001b[38;5;241m=\u001b[39m \u001b[43mload_topic_keys\u001b[49m\u001b[43m(\u001b[49m\u001b[43mpath_to_topic_keys\u001b[49m\u001b[43m)\u001b[49m\n\u001b[0;32m     91\u001b[0m topic_distributions \u001b[38;5;241m=\u001b[39m load_topic_distributions(path_to_topic_distributions)\n\u001b[0;32m     93\u001b[0m \u001b[38;5;28;01mreturn\u001b[39;00m topic_keys, topic_distributions\n",
      "File \u001b[1;32m~\\anaconda3\\lib\\site-packages\\little_mallet_wrapper\\little_mallet_wrapper.py:152\u001b[0m, in \u001b[0;36mload_topic_keys\u001b[1;34m(topic_keys_path)\u001b[0m\n\u001b[0;32m    151\u001b[0m \u001b[38;5;28;01mdef\u001b[39;00m \u001b[38;5;21mload_topic_keys\u001b[39m(topic_keys_path):\n\u001b[1;32m--> 152\u001b[0m     \u001b[38;5;28;01mreturn\u001b[39;00m [line\u001b[38;5;241m.\u001b[39msplit(\u001b[38;5;124m'\u001b[39m\u001b[38;5;130;01m\\t\u001b[39;00m\u001b[38;5;124m'\u001b[39m)[\u001b[38;5;241m2\u001b[39m]\u001b[38;5;241m.\u001b[39msplit() \u001b[38;5;28;01mfor\u001b[39;00m line \u001b[38;5;129;01min\u001b[39;00m \u001b[38;5;28;43mopen\u001b[39;49m\u001b[43m(\u001b[49m\u001b[43mtopic_keys_path\u001b[49m\u001b[43m,\u001b[49m\u001b[43m \u001b[49m\u001b[38;5;124;43m'\u001b[39;49m\u001b[38;5;124;43mr\u001b[39;49m\u001b[38;5;124;43m'\u001b[39;49m\u001b[43m)\u001b[49m]\n",
      "\u001b[1;31mFileNotFoundError\u001b[0m: [Errno 2] No such file or directory: 'topic-model-output/food_articles/mallet.topic_keys.35'"
     ]
    }
   ],
   "source": [
    "little_mallet_wrapper.quick_train_topic_model(path_to_mallet,output_directory_path, num_topics, training_data)"
   ]
  },
  {
   "cell_type": "code",
   "execution_count": 467,
   "id": "c28b2415-aafe-4275-bfde-c9f4eeeb63ee",
   "metadata": {},
   "outputs": [
    {
     "ename": "FileNotFoundError",
     "evalue": "[Errno 2] No such file or directory: 'topic-model-output/food_articles/mallet.topic_keys.35'",
     "output_type": "error",
     "traceback": [
      "\u001b[1;31m---------------------------------------------------------------------------\u001b[0m",
      "\u001b[1;31mFileNotFoundError\u001b[0m                         Traceback (most recent call last)",
      "Input \u001b[1;32mIn [467]\u001b[0m, in \u001b[0;36m<cell line: 1>\u001b[1;34m()\u001b[0m\n\u001b[1;32m----> 1\u001b[0m topics \u001b[38;5;241m=\u001b[39m \u001b[43mlittle_mallet_wrapper\u001b[49m\u001b[38;5;241;43m.\u001b[39;49m\u001b[43mload_topic_keys\u001b[49m\u001b[43m(\u001b[49m\u001b[43mpath_to_topic_keys\u001b[49m\u001b[43m)\u001b[49m\n\u001b[0;32m      3\u001b[0m \u001b[38;5;28;01mfor\u001b[39;00m topic_number, topic \u001b[38;5;129;01min\u001b[39;00m \u001b[38;5;28menumerate\u001b[39m(topics):\n\u001b[0;32m      4\u001b[0m     \u001b[38;5;28mprint\u001b[39m(\u001b[38;5;124mf\u001b[39m\u001b[38;5;124m\"\u001b[39m\u001b[38;5;124m✨Topic \u001b[39m\u001b[38;5;132;01m{\u001b[39;00mtopic_number\u001b[38;5;132;01m}\u001b[39;00m\u001b[38;5;124m✨\u001b[39m\u001b[38;5;130;01m\\n\u001b[39;00m\u001b[38;5;130;01m\\n\u001b[39;00m\u001b[38;5;132;01m{\u001b[39;00mtopic\u001b[38;5;132;01m}\u001b[39;00m\u001b[38;5;130;01m\\n\u001b[39;00m\u001b[38;5;124m\"\u001b[39m)\n",
      "File \u001b[1;32m~\\anaconda3\\lib\\site-packages\\little_mallet_wrapper\\little_mallet_wrapper.py:152\u001b[0m, in \u001b[0;36mload_topic_keys\u001b[1;34m(topic_keys_path)\u001b[0m\n\u001b[0;32m    151\u001b[0m \u001b[38;5;28;01mdef\u001b[39;00m \u001b[38;5;21mload_topic_keys\u001b[39m(topic_keys_path):\n\u001b[1;32m--> 152\u001b[0m     \u001b[38;5;28;01mreturn\u001b[39;00m [line\u001b[38;5;241m.\u001b[39msplit(\u001b[38;5;124m'\u001b[39m\u001b[38;5;130;01m\\t\u001b[39;00m\u001b[38;5;124m'\u001b[39m)[\u001b[38;5;241m2\u001b[39m]\u001b[38;5;241m.\u001b[39msplit() \u001b[38;5;28;01mfor\u001b[39;00m line \u001b[38;5;129;01min\u001b[39;00m \u001b[38;5;28;43mopen\u001b[39;49m\u001b[43m(\u001b[49m\u001b[43mtopic_keys_path\u001b[49m\u001b[43m,\u001b[49m\u001b[43m \u001b[49m\u001b[38;5;124;43m'\u001b[39;49m\u001b[38;5;124;43mr\u001b[39;49m\u001b[38;5;124;43m'\u001b[39;49m\u001b[43m)\u001b[49m]\n",
      "\u001b[1;31mFileNotFoundError\u001b[0m: [Errno 2] No such file or directory: 'topic-model-output/food_articles/mallet.topic_keys.35'"
     ]
    }
   ],
   "source": [
    "topics = little_mallet_wrapper.load_topic_keys(path_to_topic_keys)\n",
    "\n",
    "for topic_number, topic in enumerate(topics):\n",
    "    print(f\"✨Topic {topic_number}✨\\n\\n{topic}\\n\")"
   ]
  },
  {
   "cell_type": "code",
   "execution_count": null,
   "id": "7744a6f0-da73-4ffe-8f0b-024cd8128d8f",
   "metadata": {},
   "outputs": [],
   "source": [
    "# importing the necessary libraries\n",
    "\n",
    "import regex\n",
    "import pandas as pd\n",
    "import numpy as np\n",
    "import emoji\n",
    "from collections import Counter\n",
    "import matplotlib.pyplot as plt\n",
    "from wordcloud import WordCloud, STOPWORDS, ImageColorGenerator "
   ]
  },
  {
   "cell_type": "code",
   "execution_count": 389,
   "id": "e303bc8e-7a56-4ced-9362-f3b21947ab5f",
   "metadata": {},
   "outputs": [
    {
     "name": "stderr",
     "output_type": "stream",
     "text": [
      "C:\\Users\\FaridSarwari\\AppData\\Local\\Temp\\ipykernel_12600\\2678165680.py:4: SettingWithCopyWarning: \n",
      "A value is trying to be set on a copy of a slice from a DataFrame.\n",
      "Try using .loc[row_indexer,col_indexer] = value instead\n",
      "\n",
      "See the caveats in the documentation: https://pandas.pydata.org/pandas-docs/stable/user_guide/indexing.html#returning-a-view-versus-a-copy\n",
      "  df_clean['article_text_processed'] = df_clean['article_text'].map(lambda x: re.sub('[,\\.!?—]', '', x.lower()))\n",
      "C:\\Users\\FaridSarwari\\AppData\\Local\\Temp\\ipykernel_12600\\2678165680.py:7: SettingWithCopyWarning: \n",
      "A value is trying to be set on a copy of a slice from a DataFrame.\n",
      "Try using .loc[row_indexer,col_indexer] = value instead\n",
      "\n",
      "See the caveats in the documentation: https://pandas.pydata.org/pandas-docs/stable/user_guide/indexing.html#returning-a-view-versus-a-copy\n",
      "  df_clean['article_header_processed'] = df_clean['article_header'].map(lambda x: re.sub('[,\\.!?—]', '', x.lower()))\n"
     ]
    },
    {
     "data": {
      "text/plain": [
       "0    chicago  dairy cheese whether it comes from co...\n",
       "1    chicago  adm has identified seven consumer tre...\n",
       "2    chicago  consumers’ preference for snacking as...\n",
       "3    chicago  companies could increase breakfast pr...\n",
       "4    kansas city  what flavor trends are on tap for...\n",
       "Name: article_text_processed, dtype: object"
      ]
     },
     "execution_count": 389,
     "metadata": {},
     "output_type": "execute_result"
    }
   ],
   "source": [
    "# Remove punctuation/lower casing\n",
    "\n",
    "# Remove punctuation\n",
    "df_clean['article_text_processed'] = df_clean['article_text'].map(lambda x: re.sub('[,\\.!?—]', '', x.lower()))\n",
    "\n",
    "# Convert the titles to lowercase\n",
    "df_clean['article_header_processed'] = df_clean['article_header'].map(lambda x: re.sub('[,\\.!?—]', '', x.lower()))\n",
    "\n",
    "# Print out the first rows of papers\n",
    "df_clean['article_text_processed'].head() \n",
    "\n"
   ]
  },
  {
   "cell_type": "markdown",
   "id": "3373ca12-f7de-451e-948a-03f995daa724",
   "metadata": {},
   "source": [
    "##### Exploratory Analysis"
   ]
  },
  {
   "cell_type": "code",
   "execution_count": 399,
   "id": "c3f335fb-38d3-42a5-bcdb-c2dd652b75a9",
   "metadata": {},
   "outputs": [
    {
     "data": {
      "image/png": "[encoded data removed]",
      "text/plain": [
       "<Figure size 1440x720 with 1 Axes>"
      ]
     },
     "metadata": {
      "needs_background": "light"
     },
     "output_type": "display_data"
    }
   ],
   "source": [
    "# Import the wordcloud library\n",
    "from wordcloud import WordCloud\n",
    "\n",
    "# Join the different processed titles together.\n",
    "long_string = ','.join(list(df_clean['article_text_processed'].values))\n",
    "\n",
    "\n",
    "stopwords = set(STOPWORDS)\n",
    "\n",
    "# Create a WordCloud object\n",
    "wordcloud = WordCloud(stopwords=stopwords, background_color=\"white\", max_words=5000, contour_width=3, contour_color='steelblue')\n",
    "\n",
    "# Generate a word cloud\n",
    "wordcloud.generate(long_string)\n",
    "\n",
    "# Visualize the word cloud\n",
    "plt.figure( figsize=(20,10))\n",
    "plt.imshow(wordcloud, interpolation='bilinear')\n",
    "plt.axis(\"off\")\n",
    "plt.show()"
   ]
  },
  {
   "cell_type": "markdown",
   "id": "582ebf6d-92a3-4065-bd92-ca1f5ffb8a0c",
   "metadata": {},
   "source": [
    "##### Prepare data for LDA Analysis"
   ]
  },
  {
   "cell_type": "code",
   "execution_count": 404,
   "id": "984edf85-5f13-448e-8aaf-5309fff92c65",
   "metadata": {},
   "outputs": [
    {
     "name": "stderr",
     "output_type": "stream",
     "text": [
      "[nltk_data] Downloading package stopwords to\n",
      "[nltk_data]     C:\\Users\\FaridSarwari\\AppData\\Roaming\\nltk_data...\n",
      "[nltk_data]   Package stopwords is already up-to-date!\n"
     ]
    },
    {
     "name": "stdout",
     "output_type": "stream",
     "text": [
      "['dairy', 'cheese', 'whether', 'comes', 'cows', 'goats', 'sheep', 'along', 'plant', 'based', 'varieties', 'plentiful', 'winter', 'fancy', 'food', 'show', 'held', 'feb', 'las', 'vegas', 'event', 'marked', 'specialty', 'food', 'association', 'first', 'live', 'trade', 'show', 'two']\n"
     ]
    }
   ],
   "source": [
    "# Next, let’s work to transform the textual data in a format that will serve as an input for training LDA model. \n",
    "# We start by tokenizing the text and removing stopwords. Next, we convert the tokenized object into a corpus and dictionary.\n",
    "\n",
    "\n",
    "import gensim\n",
    "from gensim.utils import simple_preprocess\n",
    "import nltk\n",
    "nltk.download('stopwords')\n",
    "from nltk.corpus import stopwords\n",
    "\n",
    "stop_words = stopwords.words('english')\n",
    "stop_words.extend(['s', 'said', 'consumer', 'product', 'may', 'product', 'chicago'])\n",
    "\n",
    "def sent_to_words(sentences):\n",
    "    for sentence in sentences:\n",
    "        # deacc=True removes punctuations\n",
    "        yield(gensim.utils.simple_preprocess(str(sentence), deacc=True))\n",
    "        \n",
    "def remove_stopwords(texts):\n",
    "    return [[word for word in simple_preprocess(str(doc)) \n",
    "             if word not in stop_words] for doc in texts]\n",
    "\n",
    "data = df_clean.article_text_processed.tolist()\n",
    "data_words = list(sent_to_words(data))\n",
    "\n",
    "\n",
    "# remove stop words\n",
    "data_words = remove_stopwords(data_words)\n",
    "print(data_words[:1][0][:30])\n",
    "\n",
    "\n"
   ]
  },
  {
   "cell_type": "code",
   "execution_count": 405,
   "id": "3b37ef3c-439c-45eb-b2b2-eeaf087f19c7",
   "metadata": {},
   "outputs": [
    {
     "name": "stderr",
     "output_type": "stream",
     "text": [
      "2022-08-11 17:57:57,670 | INFO | dictionary.py:199 | add_documents | adding document #0 to Dictionary(0 unique tokens: [])\n",
      "2022-08-11 17:57:58,670 | INFO | dictionary.py:204 | add_documents | built Dictionary(32737 unique tokens: ['able', 'accompanying', 'according', 'accounted', 'add']...) from 2282 documents (total 739608 corpus positions)\n",
      "2022-08-11 17:57:58,671 | INFO | utils.py:447 | add_lifecycle_event | Dictionary lifecycle event {'msg': \"built Dictionary(32737 unique tokens: ['able', 'accompanying', 'according', 'accounted', 'add']...) from 2282 documents (total 739608 corpus positions)\", 'datetime': '2022-08-11T17:57:58.671737', 'gensim': '4.1.2', 'python': '3.9.12 (main, Apr  4 2022, 05:22:27) [MSC v.1916 64 bit (AMD64)]', 'platform': 'Windows-10-10.0.19044-SP0', 'event': 'created'}\n"
     ]
    },
    {
     "name": "stdout",
     "output_type": "stream",
     "text": [
      "[(0, 1), (1, 1), (2, 3), (3, 1), (4, 1), (5, 2), (6, 1), (7, 1), (8, 3), (9, 1), (10, 1), (11, 1), (12, 1), (13, 1), (14, 2), (15, 1), (16, 1), (17, 1), (18, 1), (19, 1), (20, 1), (21, 1), (22, 1), (23, 1), (24, 1), (25, 1), (26, 1), (27, 3), (28, 1), (29, 1)]\n"
     ]
    }
   ],
   "source": [
    "import gensim.corpora as corpora\n",
    "\n",
    "# Create Dictionary\n",
    "id2word = corpora.Dictionary(data_words)\n",
    "\n",
    "# Create Corpus\n",
    "texts = data_words\n",
    "\n",
    "# Term Document Frequency\n",
    "corpus = [id2word.doc2bow(text) for text in texts]\n",
    "\n",
    "# View\n",
    "print(corpus[:1][0][:30])"
   ]
  },
  {
   "cell_type": "code",
   "execution_count": 553,
   "id": "ddb88e64-b11b-490f-b44f-8379f48dbd65",
   "metadata": {},
   "outputs": [
    {
     "name": "stderr",
     "output_type": "stream",
     "text": [
      "2022-08-11 22:08:34,279 | INFO | ldamodel.py:576 | init_dir_prior | using symmetric alpha at 0.01\n",
      "2022-08-11 22:08:34,283 | INFO | ldamodel.py:576 | init_dir_prior | using symmetric eta at 0.01\n",
      "2022-08-11 22:08:34,294 | INFO | ldamodel.py:481 | __init__ | using serial LDA version on this node\n",
      "2022-08-11 22:08:34,642 | INFO | ldamulticore.py:244 | update | running online LDA training, 100 topics, 1 passes over the supplied corpus of 2282 documents, updating every 14000 documents, evaluating every ~2282 documents, iterating 50x with a convergence threshold of 0.001000\n",
      "2022-08-11 22:08:34,643 | WARNING | ldamulticore.py:253 | update | too few updates, training might not converge; consider increasing the number of passes or iterations to improve accuracy\n",
      "2022-08-11 22:08:34,648 | INFO | ldamulticore.py:285 | update | training LDA model using 7 processes\n",
      "2022-08-11 22:09:22,193 | INFO | ldamulticore.py:300 | update | PROGRESS: pass 0, dispatched chunk #0 = documents up to #2000/2282, outstanding queue size 1\n",
      "2022-08-11 22:09:22,589 | INFO | ldamulticore.py:300 | update | PROGRESS: pass 0, dispatched chunk #1 = documents up to #2282/2282, outstanding queue size 2\n",
      "2022-08-11 22:09:33,812 | INFO | ldamodel.py:1196 | show_topics | topic #44 (0.010): 0.015*\"food\" + 0.008*\"products\" + 0.006*\"consumers\" + 0.006*\"also\" + 0.006*\"ingredients\" + 0.005*\"foods\" + 0.004*\"based\" + 0.004*\"company\" + 0.004*\"new\" + 0.004*\"brand\"\n",
      "2022-08-11 22:09:33,813 | INFO | ldamodel.py:1196 | show_topics | topic #59 (0.010): 0.011*\"food\" + 0.009*\"products\" + 0.008*\"consumers\" + 0.006*\"health\" + 0.005*\"sales\" + 0.005*\"restaurant\" + 0.005*\"free\" + 0.004*\"based\" + 0.004*\"company\" + 0.004*\"year\"\n",
      "2022-08-11 22:09:33,814 | INFO | ldamodel.py:1196 | show_topics | topic #98 (0.010): 0.012*\"food\" + 0.011*\"consumers\" + 0.008*\"mr\" + 0.008*\"products\" + 0.005*\"protein\" + 0.005*\"new\" + 0.005*\"also\" + 0.005*\"health\" + 0.004*\"based\" + 0.004*\"company\"\n",
      "2022-08-11 22:09:33,816 | INFO | ldamodel.py:1196 | show_topics | topic #39 (0.010): 0.009*\"consumers\" + 0.008*\"food\" + 0.005*\"products\" + 0.005*\"also\" + 0.004*\"foods\" + 0.004*\"flavors\" + 0.004*\"us\" + 0.003*\"sales\" + 0.003*\"mr\" + 0.003*\"new\"\n",
      "2022-08-11 22:09:33,817 | INFO | ldamodel.py:1196 | show_topics | topic #26 (0.010): 0.009*\"products\" + 0.009*\"consumers\" + 0.008*\"food\" + 0.005*\"ingredients\" + 0.004*\"new\" + 0.004*\"also\" + 0.004*\"company\" + 0.004*\"foods\" + 0.004*\"year\" + 0.004*\"people\"\n",
      "2022-08-11 22:09:33,837 | INFO | ldamodel.py:1074 | do_mstep | topic diff=59.054554, rho=1.000000\n",
      "2022-08-11 22:09:35,907 | INFO | ldamodel.py:847 | log_perplexity | -11.922 per-word bound, 3879.9 perplexity estimate based on a held-out corpus of 282 documents with 78623 words\n",
      "2022-08-11 22:09:35,989 | INFO | utils.py:447 | add_lifecycle_event | LdaMulticore lifecycle event {'msg': 'trained LdaModel(num_terms=32737, num_topics=100, decay=0.5, chunksize=2000) in 61.35s', 'datetime': '2022-08-11T22:09:35.989608', 'gensim': '4.1.2', 'python': '3.9.12 (main, Apr  4 2022, 05:22:27) [MSC v.1916 64 bit (AMD64)]', 'platform': 'Windows-10-10.0.19044-SP0', 'event': 'created'}\n",
      "2022-08-11 22:09:35,998 | INFO | ldamodel.py:1196 | show_topics | topic #6 (0.010): 0.014*\"food\" + 0.005*\"products\" + 0.005*\"also\" + 0.005*\"company\" + 0.004*\"year\" + 0.004*\"consumers\" + 0.004*\"whole\" + 0.003*\"foods\" + 0.003*\"ingredients\" + 0.003*\"new\"\n",
      "2022-08-11 22:09:36,000 | INFO | ldamodel.py:1196 | show_topics | topic #27 (0.010): 0.009*\"consumers\" + 0.008*\"products\" + 0.008*\"food\" + 0.007*\"new\" + 0.007*\"foods\" + 0.005*\"also\" + 0.004*\"protein\" + 0.004*\"ms\" + 0.004*\"company\" + 0.004*\"sugar\"\n",
      "2022-08-11 22:09:36,002 | INFO | ldamodel.py:1196 | show_topics | topic #83 (0.010): 0.017*\"products\" + 0.011*\"food\" + 0.011*\"consumers\" + 0.008*\"natural\" + 0.007*\"new\" + 0.005*\"ingredients\" + 0.005*\"health\" + 0.004*\"organic\" + 0.004*\"foods\" + 0.004*\"flavors\"\n",
      "2022-08-11 22:09:36,004 | INFO | ldamodel.py:1196 | show_topics | topic #47 (0.010): 0.012*\"consumers\" + 0.009*\"food\" + 0.008*\"products\" + 0.006*\"foods\" + 0.006*\"new\" + 0.005*\"mr\" + 0.004*\"company\" + 0.004*\"also\" + 0.004*\"health\" + 0.004*\"whole\"\n",
      "2022-08-11 22:09:36,006 | INFO | ldamodel.py:1196 | show_topics | topic #70 (0.010): 0.022*\"food\" + 0.006*\"consumers\" + 0.005*\"products\" + 0.005*\"brand\" + 0.005*\"protein\" + 0.005*\"ingredients\" + 0.005*\"us\" + 0.004*\"new\" + 0.004*\"year\" + 0.004*\"also\"\n",
      "2022-08-11 22:09:36,008 | INFO | ldamodel.py:1196 | show_topics | topic #61 (0.010): 0.007*\"ingredients\" + 0.006*\"flavor\" + 0.006*\"foods\" + 0.005*\"based\" + 0.005*\"consumers\" + 0.005*\"products\" + 0.005*\"food\" + 0.005*\"chocolate\" + 0.004*\"also\" + 0.004*\"flavors\"\n",
      "2022-08-11 22:09:36,010 | INFO | ldamodel.py:1196 | show_topics | topic #99 (0.010): 0.012*\"food\" + 0.008*\"products\" + 0.005*\"consumers\" + 0.005*\"new\" + 0.004*\"based\" + 0.004*\"according\" + 0.004*\"year\" + 0.004*\"mr\" + 0.004*\"ingredients\" + 0.004*\"foods\"\n",
      "2022-08-11 22:09:36,011 | INFO | ldamodel.py:1196 | show_topics | topic #10 (0.010): 0.011*\"food\" + 0.009*\"new\" + 0.007*\"consumers\" + 0.007*\"products\" + 0.005*\"health\" + 0.005*\"ingredients\" + 0.004*\"flavors\" + 0.004*\"people\" + 0.004*\"natural\" + 0.004*\"ms\"\n",
      "2022-08-11 22:09:36,014 | INFO | ldamodel.py:1196 | show_topics | topic #0 (0.010): 0.007*\"based\" + 0.007*\"food\" + 0.006*\"consumers\" + 0.005*\"products\" + 0.005*\"also\" + 0.005*\"like\" + 0.005*\"ms\" + 0.004*\"school\" + 0.004*\"plant\" + 0.004*\"mr\"\n",
      "2022-08-11 22:09:36,016 | INFO | ldamodel.py:1196 | show_topics | topic #82 (0.010): 0.013*\"organic\" + 0.008*\"food\" + 0.006*\"sales\" + 0.006*\"products\" + 0.005*\"mr\" + 0.005*\"consumers\" + 0.005*\"company\" + 0.004*\"new\" + 0.004*\"year\" + 0.004*\"price\"\n",
      "2022-08-11 22:09:36,017 | INFO | ldamodel.py:1196 | show_topics | topic #90 (0.010): 0.010*\"food\" + 0.007*\"consumers\" + 0.006*\"products\" + 0.005*\"new\" + 0.005*\"flavors\" + 0.004*\"mr\" + 0.004*\"foods\" + 0.004*\"people\" + 0.004*\"company\" + 0.004*\"ms\"\n",
      "2022-08-11 22:09:36,019 | INFO | ldamodel.py:1196 | show_topics | topic #72 (0.010): 0.008*\"consumers\" + 0.008*\"food\" + 0.007*\"products\" + 0.007*\"health\" + 0.005*\"free\" + 0.005*\"foods\" + 0.004*\"company\" + 0.004*\"new\" + 0.004*\"year\" + 0.004*\"mr\"\n",
      "2022-08-11 22:09:36,022 | INFO | ldamodel.py:1196 | show_topics | topic #20 (0.010): 0.008*\"food\" + 0.007*\"new\" + 0.007*\"products\" + 0.006*\"consumers\" + 0.006*\"based\" + 0.005*\"organic\" + 0.004*\"company\" + 0.004*\"also\" + 0.004*\"oil\" + 0.004*\"use\"\n",
      "2022-08-11 22:09:36,024 | INFO | ldamodel.py:1196 | show_topics | topic #1 (0.010): 0.008*\"mr\" + 0.007*\"food\" + 0.007*\"consumers\" + 0.006*\"company\" + 0.006*\"sugar\" + 0.005*\"products\" + 0.004*\"sweet\" + 0.003*\"based\" + 0.003*\"sweeteners\" + 0.003*\"per\"\n",
      "2022-08-11 22:09:36,026 | INFO | ldamodel.py:1196 | show_topics | topic #41 (0.010): 0.015*\"food\" + 0.010*\"foods\" + 0.008*\"consumers\" + 0.007*\"products\" + 0.005*\"new\" + 0.004*\"whole\" + 0.004*\"ingredients\" + 0.004*\"health\" + 0.004*\"mr\" + 0.004*\"market\"\n",
      "2022-08-11 22:09:36,027 | INFO | ldamodel.py:1196 | show_topics | topic #26 (0.010): 0.009*\"products\" + 0.009*\"consumers\" + 0.008*\"food\" + 0.005*\"ingredients\" + 0.004*\"new\" + 0.004*\"also\" + 0.004*\"company\" + 0.004*\"foods\" + 0.004*\"year\" + 0.004*\"people\"\n",
      "2022-08-11 22:09:36,029 | INFO | ldamodel.py:1196 | show_topics | topic #45 (0.010): 0.016*\"food\" + 0.015*\"consumers\" + 0.011*\"products\" + 0.007*\"based\" + 0.006*\"foods\" + 0.005*\"new\" + 0.005*\"according\" + 0.005*\"ingredients\" + 0.004*\"sales\" + 0.004*\"sugar\"\n",
      "2022-08-11 22:09:36,031 | INFO | ldamodel.py:1196 | show_topics | topic #81 (0.010): 0.015*\"food\" + 0.011*\"consumers\" + 0.008*\"products\" + 0.008*\"new\" + 0.008*\"ms\" + 0.005*\"health\" + 0.005*\"ingredients\" + 0.005*\"also\" + 0.004*\"sugar\" + 0.004*\"mr\"\n",
      "2022-08-11 22:09:36,033 | INFO | ldamodel.py:1196 | show_topics | topic #91 (0.010): 0.010*\"food\" + 0.005*\"new\" + 0.005*\"consumers\" + 0.005*\"flavors\" + 0.005*\"health\" + 0.005*\"products\" + 0.005*\"flavor\" + 0.004*\"mr\" + 0.004*\"ingredients\" + 0.004*\"also\"\n",
      "2022-08-11 22:09:36,035 | INFO | ldamodel.py:1196 | show_topics | topic #69 (0.010): 0.016*\"food\" + 0.010*\"products\" + 0.009*\"consumers\" + 0.006*\"ms\" + 0.006*\"new\" + 0.006*\"foods\" + 0.005*\"year\" + 0.005*\"ingredients\" + 0.004*\"based\" + 0.004*\"company\"\n"
     ]
    },
    {
     "name": "stdout",
     "output_type": "stream",
     "text": [
      "[(6,\n",
      "  '0.014*\"food\" + 0.005*\"products\" + 0.005*\"also\" + 0.005*\"company\" + '\n",
      "  '0.004*\"year\" + 0.004*\"consumers\" + 0.004*\"whole\" + 0.003*\"foods\" + '\n",
      "  '0.003*\"ingredients\" + 0.003*\"new\"'),\n",
      " (27,\n",
      "  '0.009*\"consumers\" + 0.008*\"products\" + 0.008*\"food\" + 0.007*\"new\" + '\n",
      "  '0.007*\"foods\" + 0.005*\"also\" + 0.004*\"protein\" + 0.004*\"ms\" + '\n",
      "  '0.004*\"company\" + 0.004*\"sugar\"'),\n",
      " (83,\n",
      "  '0.017*\"products\" + 0.011*\"food\" + 0.011*\"consumers\" + 0.008*\"natural\" + '\n",
      "  '0.007*\"new\" + 0.005*\"ingredients\" + 0.005*\"health\" + 0.004*\"organic\" + '\n",
      "  '0.004*\"foods\" + 0.004*\"flavors\"'),\n",
      " (47,\n",
      "  '0.012*\"consumers\" + 0.009*\"food\" + 0.008*\"products\" + 0.006*\"foods\" + '\n",
      "  '0.006*\"new\" + 0.005*\"mr\" + 0.004*\"company\" + 0.004*\"also\" + 0.004*\"health\" '\n",
      "  '+ 0.004*\"whole\"'),\n",
      " (70,\n",
      "  '0.022*\"food\" + 0.006*\"consumers\" + 0.005*\"products\" + 0.005*\"brand\" + '\n",
      "  '0.005*\"protein\" + 0.005*\"ingredients\" + 0.005*\"us\" + 0.004*\"new\" + '\n",
      "  '0.004*\"year\" + 0.004*\"also\"'),\n",
      " (61,\n",
      "  '0.007*\"ingredients\" + 0.006*\"flavor\" + 0.006*\"foods\" + 0.005*\"based\" + '\n",
      "  '0.005*\"consumers\" + 0.005*\"products\" + 0.005*\"food\" + 0.005*\"chocolate\" + '\n",
      "  '0.004*\"also\" + 0.004*\"flavors\"'),\n",
      " (99,\n",
      "  '0.012*\"food\" + 0.008*\"products\" + 0.005*\"consumers\" + 0.005*\"new\" + '\n",
      "  '0.004*\"based\" + 0.004*\"according\" + 0.004*\"year\" + 0.004*\"mr\" + '\n",
      "  '0.004*\"ingredients\" + 0.004*\"foods\"'),\n",
      " (10,\n",
      "  '0.011*\"food\" + 0.009*\"new\" + 0.007*\"consumers\" + 0.007*\"products\" + '\n",
      "  '0.005*\"health\" + 0.005*\"ingredients\" + 0.004*\"flavors\" + 0.004*\"people\" + '\n",
      "  '0.004*\"natural\" + 0.004*\"ms\"'),\n",
      " (0,\n",
      "  '0.007*\"based\" + 0.007*\"food\" + 0.006*\"consumers\" + 0.005*\"products\" + '\n",
      "  '0.005*\"also\" + 0.005*\"like\" + 0.005*\"ms\" + 0.004*\"school\" + 0.004*\"plant\" + '\n",
      "  '0.004*\"mr\"'),\n",
      " (82,\n",
      "  '0.013*\"organic\" + 0.008*\"food\" + 0.006*\"sales\" + 0.006*\"products\" + '\n",
      "  '0.005*\"mr\" + 0.005*\"consumers\" + 0.005*\"company\" + 0.004*\"new\" + '\n",
      "  '0.004*\"year\" + 0.004*\"price\"'),\n",
      " (90,\n",
      "  '0.010*\"food\" + 0.007*\"consumers\" + 0.006*\"products\" + 0.005*\"new\" + '\n",
      "  '0.005*\"flavors\" + 0.004*\"mr\" + 0.004*\"foods\" + 0.004*\"people\" + '\n",
      "  '0.004*\"company\" + 0.004*\"ms\"'),\n",
      " (72,\n",
      "  '0.008*\"consumers\" + 0.008*\"food\" + 0.007*\"products\" + 0.007*\"health\" + '\n",
      "  '0.005*\"free\" + 0.005*\"foods\" + 0.004*\"company\" + 0.004*\"new\" + 0.004*\"year\" '\n",
      "  '+ 0.004*\"mr\"'),\n",
      " (20,\n",
      "  '0.008*\"food\" + 0.007*\"new\" + 0.007*\"products\" + 0.006*\"consumers\" + '\n",
      "  '0.006*\"based\" + 0.005*\"organic\" + 0.004*\"company\" + 0.004*\"also\" + '\n",
      "  '0.004*\"oil\" + 0.004*\"use\"'),\n",
      " (1,\n",
      "  '0.008*\"mr\" + 0.007*\"food\" + 0.007*\"consumers\" + 0.006*\"company\" + '\n",
      "  '0.006*\"sugar\" + 0.005*\"products\" + 0.004*\"sweet\" + 0.003*\"based\" + '\n",
      "  '0.003*\"sweeteners\" + 0.003*\"per\"'),\n",
      " (41,\n",
      "  '0.015*\"food\" + 0.010*\"foods\" + 0.008*\"consumers\" + 0.007*\"products\" + '\n",
      "  '0.005*\"new\" + 0.004*\"whole\" + 0.004*\"ingredients\" + 0.004*\"health\" + '\n",
      "  '0.004*\"mr\" + 0.004*\"market\"'),\n",
      " (26,\n",
      "  '0.009*\"products\" + 0.009*\"consumers\" + 0.008*\"food\" + 0.005*\"ingredients\" + '\n",
      "  '0.004*\"new\" + 0.004*\"also\" + 0.004*\"company\" + 0.004*\"foods\" + 0.004*\"year\" '\n",
      "  '+ 0.004*\"people\"'),\n",
      " (45,\n",
      "  '0.016*\"food\" + 0.015*\"consumers\" + 0.011*\"products\" + 0.007*\"based\" + '\n",
      "  '0.006*\"foods\" + 0.005*\"new\" + 0.005*\"according\" + 0.005*\"ingredients\" + '\n",
      "  '0.004*\"sales\" + 0.004*\"sugar\"'),\n",
      " (81,\n",
      "  '0.015*\"food\" + 0.011*\"consumers\" + 0.008*\"products\" + 0.008*\"new\" + '\n",
      "  '0.008*\"ms\" + 0.005*\"health\" + 0.005*\"ingredients\" + 0.005*\"also\" + '\n",
      "  '0.004*\"sugar\" + 0.004*\"mr\"'),\n",
      " (91,\n",
      "  '0.010*\"food\" + 0.005*\"new\" + 0.005*\"consumers\" + 0.005*\"flavors\" + '\n",
      "  '0.005*\"health\" + 0.005*\"products\" + 0.005*\"flavor\" + 0.004*\"mr\" + '\n",
      "  '0.004*\"ingredients\" + 0.004*\"also\"'),\n",
      " (69,\n",
      "  '0.016*\"food\" + 0.010*\"products\" + 0.009*\"consumers\" + 0.006*\"ms\" + '\n",
      "  '0.006*\"new\" + 0.006*\"foods\" + 0.005*\"year\" + 0.005*\"ingredients\" + '\n",
      "  '0.004*\"based\" + 0.004*\"company\"')]\n"
     ]
    }
   ],
   "source": [
    "from pprint import pprint\n",
    "\n",
    "# number of topics\n",
    "num_topics = 100\n",
    "\n",
    "# Build LDA model\n",
    "lda_model = gensim.models.LdaMulticore(corpus=corpus,\n",
    "                                       id2word=id2word,\n",
    "                                       num_topics=num_topics)\n",
    "# Print the Keyword in the 10 topics\n",
    "pprint(lda_model.print_topics())\n",
    "doc_lda = lda_model[corpus]"
   ]
  },
  {
   "cell_type": "code",
   "execution_count": 554,
   "id": "0c4c1094-4ad2-4f4b-98f0-15ba064f5ef5",
   "metadata": {},
   "outputs": [
    {
     "name": "stdout",
     "output_type": "stream",
     "text": [
      "[(18,\n",
      "  [('food', 0.0122068515),\n",
      "   ('company', 0.007337395),\n",
      "   ('foods', 0.007141199),\n",
      "   ('products', 0.0061683576),\n",
      "   ('consumers', 0.006094034),\n",
      "   ('new', 0.0058026393),\n",
      "   ('free', 0.004250277),\n",
      "   ('also', 0.0042437133),\n",
      "   ('sales', 0.0040880856),\n",
      "   ('mr', 0.004034411)]),\n",
      " (20,\n",
      "  [('food', 0.008321387),\n",
      "   ('new', 0.0069902763),\n",
      "   ('products', 0.0066409004),\n",
      "   ('consumers', 0.0061678244),\n",
      "   ('based', 0.0056162444),\n",
      "   ('organic', 0.0052784304),\n",
      "   ('company', 0.004091905),\n",
      "   ('also', 0.0037002254),\n",
      "   ('oil', 0.0035563614),\n",
      "   ('use', 0.0035078104)]),\n",
      " (79,\n",
      "  [('food', 0.023843298),\n",
      "   ('consumers', 0.008525941),\n",
      "   ('products', 0.0067506065),\n",
      "   ('ms', 0.004905129),\n",
      "   ('foods', 0.0047361786),\n",
      "   ('new', 0.0047032335),\n",
      "   ('according', 0.004596364),\n",
      "   ('ingredients', 0.0043458175),\n",
      "   ('year', 0.004264002),\n",
      "   ('health', 0.0040780623)]),\n",
      " (46,\n",
      "  [('food', 0.012844611),\n",
      "   ('ingredients', 0.0067756833),\n",
      "   ('products', 0.006423857),\n",
      "   ('new', 0.0055221836),\n",
      "   ('ms', 0.005294279),\n",
      "   ('consumers', 0.004988078),\n",
      "   ('also', 0.0039487383),\n",
      "   ('foods', 0.0035117546),\n",
      "   ('one', 0.0034927067),\n",
      "   ('health', 0.0033059793)]),\n",
      " (48,\n",
      "  [('food', 0.010530336),\n",
      "   ('products', 0.009955678),\n",
      "   ('consumers', 0.0059243925),\n",
      "   ('foods', 0.0054400465),\n",
      "   ('new', 0.0052559106),\n",
      "   ('year', 0.004927396),\n",
      "   ('based', 0.004086788),\n",
      "   ('according', 0.0038043682),\n",
      "   ('mr', 0.0037637993),\n",
      "   ('us', 0.0037341001)]),\n",
      " (68,\n",
      "  [('food', 0.01358199),\n",
      "   ('consumers', 0.011036341),\n",
      "   ('health', 0.006662041),\n",
      "   ('products', 0.0065778587),\n",
      "   ('also', 0.0053696963),\n",
      "   ('protein', 0.004843185),\n",
      "   ('foods', 0.004533184),\n",
      "   ('according', 0.0044500357),\n",
      "   ('market', 0.004321835),\n",
      "   ('based', 0.0042896913)]),\n",
      " (66,\n",
      "  [('products', 0.008573103),\n",
      "   ('food', 0.00807684),\n",
      "   ('new', 0.0070790276),\n",
      "   ('consumers', 0.0058434894),\n",
      "   ('market', 0.0057548145),\n",
      "   ('health', 0.004900092),\n",
      "   ('also', 0.0048389467),\n",
      "   ('based', 0.004574306),\n",
      "   ('mr', 0.004209956),\n",
      "   ('year', 0.0041819294)]),\n",
      " (8,\n",
      "  [('foods', 0.010037997),\n",
      "   ('new', 0.0074315136),\n",
      "   ('food', 0.00725762),\n",
      "   ('based', 0.006954027),\n",
      "   ('products', 0.0058339685),\n",
      "   ('consumers', 0.00574796),\n",
      "   ('plant', 0.0044553005),\n",
      "   ('mr', 0.00396668),\n",
      "   ('ingredients', 0.0036859512),\n",
      "   ('ms', 0.0035895002)]),\n",
      " (4,\n",
      "  [('food', 0.012839359),\n",
      "   ('products', 0.007168798),\n",
      "   ('new', 0.0071016112),\n",
      "   ('protein', 0.0070316535),\n",
      "   ('consumers', 0.00521612),\n",
      "   ('health', 0.004778495),\n",
      "   ('foods', 0.0044702864),\n",
      "   ('free', 0.0042867716),\n",
      "   ('also', 0.003816854),\n",
      "   ('ms', 0.003702181)]),\n",
      " (35,\n",
      "  [('food', 0.017732918),\n",
      "   ('consumers', 0.013102269),\n",
      "   ('new', 0.010367775),\n",
      "   ('products', 0.0072398526),\n",
      "   ('free', 0.005967636),\n",
      "   ('foods', 0.0055170297),\n",
      "   ('gluten', 0.004473972),\n",
      "   ('ingredients', 0.0043427865),\n",
      "   ('based', 0.004106387),\n",
      "   ('according', 0.0039748694)])]\n"
     ]
    }
   ],
   "source": [
    "from pprint import pprint\n",
    "# display topics\n",
    "pprint(lda_model.show_topics(formatted=False))"
   ]
  },
  {
   "cell_type": "code",
   "execution_count": 557,
   "id": "861474c8-69db-481f-8561-ed5c9127638f",
   "metadata": {},
   "outputs": [],
   "source": [
    "# only need tagger, no need for parser and named entity recognizer, for faster implementation\n",
    "nlp = spacy.load('en_core_web_sm', disable=['parser', 'ner'])\n",
    "\n",
    "# get stopwords from nltk library\n",
    "stop_words = nltk.corpus.stopwords.words('english')\n",
    "\n",
    "def process_words(texts, stop_words=stop_words, allowed_tags=['NOUN', 'ADJ', 'VERB', 'ADV']):\n",
    "    \n",
    "    \"\"\"Convert a document into a list of lowercase tokens, build bigrams-trigrams, implement lemmatization\"\"\"\n",
    "    \n",
    "    # remove stopwords, short tokens and letter accents \n",
    "    texts = [[word for word in simple_preprocess(str(doc), deacc=True, min_len=3) if word not in stop_words] for doc in texts]\n",
    "    \n",
    "    # bi-gram and tri-gram implementation\n",
    "    texts = [bigram_mod[doc] for doc in texts]\n",
    "    texts = [trigram_mod[bigram_mod[doc]] for doc in texts]\n",
    "    \n",
    "    texts_out = []\n",
    "    \n",
    "    # implement lemmatization and filter out unwanted part of speech tags\n",
    "    for sent in texts:\n",
    "        doc = nlp(\" \".join(sent)) \n",
    "        texts_out.append([token.lemma_ for token in doc if token.pos_ in allowed_tags])\n",
    "    \n",
    "    # remove stopwords and short tokens again after lemmatization\n",
    "    texts_out = [[word for word in simple_preprocess(str(doc), deacc=True, min_len=3) if word not in stop_words] for doc in texts_out]    \n",
    "    \n",
    "    return texts_out"
   ]
  },
  {
   "cell_type": "code",
   "execution_count": 560,
   "id": "729b04f7-9b58-4e7d-a63f-2949804edcb3",
   "metadata": {},
   "outputs": [
    {
     "name": "stderr",
     "output_type": "stream",
     "text": [
      "2022-08-11 22:19:44,434 | INFO | probability_estimation.py:155 | p_boolean_sliding_window | using ParallelWordOccurrenceAccumulator(processes=7, batch_size=64) to estimate probabilities from sliding windows\n",
      "2022-08-11 22:20:24,833 | INFO | text_analysis.py:529 | terminate_workers | 7 accumulators retrieved from output queue\n",
      "2022-08-11 22:20:24,912 | INFO | text_analysis.py:551 | merge_accumulators | accumulated word occurrence stats for 0 virtual documents\n",
      "C:\\Users\\FaridSarwari\\anaconda3\\lib\\site-packages\\gensim\\topic_coherence\\direct_confirmation_measure.py:202: RuntimeWarning: invalid value encountered in true_divide\n",
      "  numerator = (co_occur_count / num_docs) + EPSILON\n",
      "C:\\Users\\FaridSarwari\\anaconda3\\lib\\site-packages\\gensim\\topic_coherence\\direct_confirmation_measure.py:203: RuntimeWarning: invalid value encountered in true_divide\n",
      "  denominator = (w_prime_count / num_docs) * (w_star_count / num_docs)\n",
      "C:\\Users\\FaridSarwari\\anaconda3\\lib\\site-packages\\gensim\\topic_coherence\\direct_confirmation_measure.py:198: RuntimeWarning: invalid value encountered in true_divide\n",
      "  co_doc_prob = co_occur_count / num_docs\n"
     ]
    },
    {
     "name": "stdout",
     "output_type": "stream",
     "text": [
      "Coherence Score:  nan\n"
     ]
    }
   ],
   "source": [
    "# Compute Coherence Score\n",
    "coherence_model_ldamallet = CoherenceModel(model=lda_model, texts=df_clean['article_text_processed'], dictionary=id2word, coherence='c_v')\n",
    "coherence_ldamallet = coherence_model_ldamallet.get_coherence()\n",
    "print('Coherence Score: ', coherence_ldamallet)"
   ]
  },
  {
   "cell_type": "code",
   "execution_count": 443,
   "id": "38b124aa-9805-41f1-b1a6-914eeb2a9349",
   "metadata": {},
   "outputs": [],
   "source": [
    "import gensim\n",
    "import gensim.corpora as corpora\n",
    "from gensim.corpora import Dictionary\n",
    "from gensim.models.coherencemodel import CoherenceModel\n",
    "from gensim.models.ldamodel import LdaModel\n",
    "\n",
    "from pprint import pprint\n",
    "\n",
    "import spacy\n",
    "\n",
    "import pickle\n",
    "import re \n",
    "import pyLDAvis\n",
    "\n",
    "\n",
    "import matplotlib.pyplot as plt \n",
    "import pandas as pd"
   ]
  },
  {
   "cell_type": "code",
   "execution_count": 444,
   "id": "87786884-8de7-441f-b96f-5164238c298e",
   "metadata": {},
   "outputs": [],
   "source": [
    "pro_text = df_clean['article_text_processed']"
   ]
  },
  {
   "cell_type": "code",
   "execution_count": 445,
   "id": "988bc375-1fd2-493f-89fa-7b1955e2b119",
   "metadata": {},
   "outputs": [
    {
     "ename": "AttributeError",
     "evalue": "module 'gensim.models' has no attribute 'wrappers'",
     "output_type": "error",
     "traceback": [
      "\u001b[1;31m---------------------------------------------------------------------------\u001b[0m",
      "\u001b[1;31mAttributeError\u001b[0m                            Traceback (most recent call last)",
      "Input \u001b[1;32mIn [445]\u001b[0m, in \u001b[0;36m<cell line: 27>\u001b[1;34m()\u001b[0m\n\u001b[0;32m     23\u001b[0m         coherence_values\u001b[38;5;241m.\u001b[39mappend(coherencemodel\u001b[38;5;241m.\u001b[39mget_coherence())\n\u001b[0;32m     25\u001b[0m     \u001b[38;5;28;01mreturn\u001b[39;00m model_list, coherence_values\n\u001b[1;32m---> 27\u001b[0m model_list, coherence_values \u001b[38;5;241m=\u001b[39m \u001b[43mcompute_coherence_values\u001b[49m\u001b[43m(\u001b[49m\u001b[43mdictionary\u001b[49m\u001b[38;5;241;43m=\u001b[39;49m\u001b[43mid2word\u001b[49m\u001b[43m,\u001b[49m\u001b[43m \u001b[49m\u001b[43mcorpus\u001b[49m\u001b[38;5;241;43m=\u001b[39;49m\u001b[43mcorpus\u001b[49m\u001b[43m,\u001b[49m\u001b[43m \u001b[49m\u001b[43mtexts\u001b[49m\u001b[38;5;241;43m=\u001b[39;49m\u001b[43mpro_text\u001b[49m\u001b[43m,\u001b[49m\u001b[43m \u001b[49m\u001b[43mstart\u001b[49m\u001b[38;5;241;43m=\u001b[39;49m\u001b[38;5;241;43m2\u001b[39;49m\u001b[43m,\u001b[49m\u001b[43m \u001b[49m\u001b[43mlimit\u001b[49m\u001b[38;5;241;43m=\u001b[39;49m\u001b[38;5;241;43m40\u001b[39;49m\u001b[43m,\u001b[49m\u001b[43m \u001b[49m\u001b[43mstep\u001b[49m\u001b[38;5;241;43m=\u001b[39;49m\u001b[38;5;241;43m4\u001b[39;49m\u001b[43m)\u001b[49m\n\u001b[0;32m     29\u001b[0m \u001b[38;5;66;03m# Show graph\u001b[39;00m\n\u001b[0;32m     30\u001b[0m limit\u001b[38;5;241m=\u001b[39m\u001b[38;5;241m40\u001b[39m; start\u001b[38;5;241m=\u001b[39m\u001b[38;5;241m2\u001b[39m; step\u001b[38;5;241m=\u001b[39m\u001b[38;5;241m4\u001b[39m;\n",
      "Input \u001b[1;32mIn [445]\u001b[0m, in \u001b[0;36mcompute_coherence_values\u001b[1;34m(dictionary, corpus, texts, limit, start, step)\u001b[0m\n\u001b[0;32m     18\u001b[0m model_list \u001b[38;5;241m=\u001b[39m []\n\u001b[0;32m     19\u001b[0m \u001b[38;5;28;01mfor\u001b[39;00m num_topics \u001b[38;5;129;01min\u001b[39;00m \u001b[38;5;28mrange\u001b[39m(start, limit, step):\n\u001b[1;32m---> 20\u001b[0m     model \u001b[38;5;241m=\u001b[39m \u001b[43mgensim\u001b[49m\u001b[38;5;241;43m.\u001b[39;49m\u001b[43mmodels\u001b[49m\u001b[38;5;241;43m.\u001b[39;49m\u001b[43mwrappers\u001b[49m\u001b[38;5;241m.\u001b[39mLdaMallet(mallet_path, corpus\u001b[38;5;241m=\u001b[39mcorpus, num_topics\u001b[38;5;241m=\u001b[39mnum_topics, id2word\u001b[38;5;241m=\u001b[39mid2word)\n\u001b[0;32m     21\u001b[0m     model_list\u001b[38;5;241m.\u001b[39mappend(model)\n\u001b[0;32m     22\u001b[0m     coherencemodel \u001b[38;5;241m=\u001b[39m CoherenceModel(model\u001b[38;5;241m=\u001b[39mmodel, texts\u001b[38;5;241m=\u001b[39mpro_text, dictionary\u001b[38;5;241m=\u001b[39mdictionary, coherence\u001b[38;5;241m=\u001b[39m\u001b[38;5;124m'\u001b[39m\u001b[38;5;124mc_v\u001b[39m\u001b[38;5;124m'\u001b[39m)\n",
      "\u001b[1;31mAttributeError\u001b[0m: module 'gensim.models' has no attribute 'wrappers'"
     ]
    }
   ],
   "source": [
    "def compute_coherence_values(dictionary, corpus, texts, limit, start=2, step=3):\n",
    "    \"\"\"\n",
    "    Compute c_v coherence for various number of topics\n",
    "\n",
    "    Parameters:\n",
    "    ----------\n",
    "    dictionary : Gensim dictionary\n",
    "    corpus : Gensim corpus\n",
    "    texts : List of input texts\n",
    "    limit : Max num of topics\n",
    "\n",
    "    Returns:\n",
    "    -------\n",
    "    model_list : List of LDA topic models\n",
    "    coherence_values : Coherence values corresponding to the LDA model with respective number of topics\n",
    "    \"\"\"\n",
    "    coherence_values = []\n",
    "    model_list = []\n",
    "    for num_topics in range(start, limit, step):\n",
    "        model = gensim.models.wrappers.LdaMallet(mallet_path, corpus=corpus, num_topics=num_topics, id2word=id2word)\n",
    "        model_list.append(model)\n",
    "        coherencemodel = CoherenceModel(model=model, texts=pro_text, dictionary=dictionary, coherence='c_v')\n",
    "        coherence_values.append(coherencemodel.get_coherence())\n",
    "\n",
    "    return model_list, coherence_values\n",
    "\n",
    "model_list, coherence_values = compute_coherence_values(dictionary=id2word, corpus=corpus, texts=pro_text, start=2, limit=40, step=4)\n",
    "\n",
    "# Show graph\n",
    "limit=40; start=2; step=4;\n",
    "x = range(start, limit, step)\n",
    "plt.plot(x, coherence_values)\n",
    "plt.xlabel(\"Num Topics\")\n",
    "plt.ylabel(\"Coherence score\")\n",
    "plt.legend((\"coherence_values\"), loc='best')\n",
    "plt.show()"
   ]
  },
  {
   "cell_type": "code",
   "execution_count": 434,
   "id": "fc8bdafa-bff0-4713-9f56-51584326d34a",
   "metadata": {},
   "outputs": [
    {
     "ename": "NameError",
     "evalue": "name 'coherence_values' is not defined",
     "output_type": "error",
     "traceback": [
      "\u001b[1;31m---------------------------------------------------------------------------\u001b[0m",
      "\u001b[1;31mNameError\u001b[0m                                 Traceback (most recent call last)",
      "Input \u001b[1;32mIn [434]\u001b[0m, in \u001b[0;36m<cell line: 1>\u001b[1;34m()\u001b[0m\n\u001b[1;32m----> 1\u001b[0m best_result_index \u001b[38;5;241m=\u001b[39m \u001b[43mcoherence_values\u001b[49m\u001b[38;5;241m.\u001b[39mindex(\u001b[38;5;28mmax\u001b[39m(coherence_values))\n\u001b[0;32m      2\u001b[0m optimal_model \u001b[38;5;241m=\u001b[39m model_list[best_result_index]\n\u001b[0;32m      3\u001b[0m \u001b[38;5;66;03m# Select the model and print the topics\u001b[39;00m\n",
      "\u001b[1;31mNameError\u001b[0m: name 'coherence_values' is not defined"
     ]
    }
   ],
   "source": [
    "best_result_index = coherence_values.index(max(coherence_values))\n",
    "optimal_model = model_list[best_result_index]\n",
    "# Select the model and print the topics\n",
    "model_topics = optimal_model.show_topics(formatted=False)\n",
    "print(f'''The {x[best_result_index]} topics gives the highest coherence score \\\\\n",
    "of {coherence_values[best_result_index]}''')"
   ]
  },
  {
   "cell_type": "code",
   "execution_count": 433,
   "id": "aa7bb878-1496-46f3-8796-6c2fa7b3f889",
   "metadata": {},
   "outputs": [
    {
     "ename": "NameError",
     "evalue": "name 'optimal_model' is not defined",
     "output_type": "error",
     "traceback": [
      "\u001b[1;31m---------------------------------------------------------------------------\u001b[0m",
      "\u001b[1;31mNameError\u001b[0m                                 Traceback (most recent call last)",
      "Input \u001b[1;32mIn [433]\u001b[0m, in \u001b[0;36m<cell line: 10>\u001b[1;34m()\u001b[0m\n\u001b[0;32m      7\u001b[0m     model_gensim\u001b[38;5;241m.\u001b[39msync_state()\n\u001b[0;32m      8\u001b[0m     \u001b[38;5;28;01mreturn\u001b[39;00m model_gensim\n\u001b[1;32m---> 10\u001b[0m optimal_model \u001b[38;5;241m=\u001b[39m convertldaGenToldaMallet(\u001b[43moptimal_model\u001b[49m)\n",
      "\u001b[1;31mNameError\u001b[0m: name 'optimal_model' is not defined"
     ]
    }
   ],
   "source": [
    "def convertldaGenToldaMallet(mallet_model):\n",
    "    model_gensim = LdaModel(\n",
    "        id2word=mallet_model.id2word, num_topics=mallet_model.num_topics,\n",
    "        alpha=mallet_model.alpha, eta=0,\n",
    "    )\n",
    "    model_gensim.state.sstats[...] = mallet_model.wordtopics\n",
    "    model_gensim.sync_state()\n",
    "    return model_gensim\n",
    "\n",
    "optimal_model = convertldaGenToldaMallet(optimal_model)"
   ]
  },
  {
   "cell_type": "code",
   "execution_count": 427,
   "id": "6ab8ece1-ff47-499f-b1c3-984abb6cf398",
   "metadata": {},
   "outputs": [
    {
     "data": {
      "text/plain": [
       "'C:\\\\Users\\\\FaridSarwari\\\\OneDrive - BlueGem Capital Partners LLP\\\\Desktop\\\\Bluegem'"
      ]
     },
     "execution_count": 427,
     "metadata": {},
     "output_type": "execute_result"
    }
   ],
   "source": [
    "import os\n",
    "from gensim.models import LdaModel\n",
    "\n",
    "os.getcwd()"
   ]
  },
  {
   "cell_type": "code",
   "execution_count": null,
   "id": "f0f8466e-1a73-4b85-9b05-7e0a9705c69d",
   "metadata": {},
   "outputs": [],
   "source": [
    "# Build LDA model\n",
    "lda_model = LdaModel(corpus=corpus,\n",
    "                   id2word=id2word,\n",
    "                   num_topics=10, \n",
    "                   random_state=0,\n",
    "                   chunksize=100,\n",
    "                   alpha='auto',\n",
    "                   per_word_topics=True)\n",
    "\n",
    "pprint(lda_model.print_topics())\n",
    "doc_lda = lda_model[corpus]"
   ]
  },
  {
   "cell_type": "code",
   "execution_count": 423,
   "id": "af4d971f-93fd-4c65-a706-62328ddaaecd",
   "metadata": {},
   "outputs": [
    {
     "ename": "AttributeError",
     "evalue": "type object 'LdaModel' has no attribute 'num_topics'",
     "output_type": "error",
     "traceback": [
      "\u001b[1;31m---------------------------------------------------------------------------\u001b[0m",
      "\u001b[1;31mAttributeError\u001b[0m                            Traceback (most recent call last)",
      "Input \u001b[1;32mIn [423]\u001b[0m, in \u001b[0;36m<cell line: 10>\u001b[1;34m()\u001b[0m\n\u001b[0;32m      8\u001b[0m \u001b[38;5;66;03m# # this is a bit time consuming - make the if statement True\u001b[39;00m\n\u001b[0;32m      9\u001b[0m \u001b[38;5;66;03m# # if you want to execute visualization prep yourself\u001b[39;00m\n\u001b[0;32m     10\u001b[0m \u001b[38;5;28;01mif\u001b[39;00m \u001b[38;5;241m1\u001b[39m \u001b[38;5;241m==\u001b[39m \u001b[38;5;241m1\u001b[39m:\n\u001b[1;32m---> 11\u001b[0m     LDAvis_prepared \u001b[38;5;241m=\u001b[39m \u001b[43mpyLDAvis\u001b[49m\u001b[38;5;241;43m.\u001b[39;49m\u001b[43mgensim_models\u001b[49m\u001b[38;5;241;43m.\u001b[39;49m\u001b[43mprepare\u001b[49m\u001b[43m(\u001b[49m\u001b[43mLdaModel\u001b[49m\u001b[43m,\u001b[49m\u001b[43m \u001b[49m\u001b[43mcorpus\u001b[49m\u001b[43m,\u001b[49m\u001b[43m \u001b[49m\u001b[43mid2word\u001b[49m\u001b[43m)\u001b[49m\n\u001b[0;32m     12\u001b[0m     \u001b[38;5;28;01mwith\u001b[39;00m \u001b[38;5;28mopen\u001b[39m(LDAvis_data_filepath, \u001b[38;5;124m'\u001b[39m\u001b[38;5;124mwb\u001b[39m\u001b[38;5;124m'\u001b[39m) \u001b[38;5;28;01mas\u001b[39;00m f:\n\u001b[0;32m     13\u001b[0m         pickle\u001b[38;5;241m.\u001b[39mdump(LDAvis_prepared, f)\n",
      "File \u001b[1;32m~\\anaconda3\\lib\\site-packages\\pyLDAvis\\gensim_models.py:122\u001b[0m, in \u001b[0;36mprepare\u001b[1;34m(topic_model, corpus, dictionary, doc_topic_dist, **kwargs)\u001b[0m\n\u001b[0;32m     77\u001b[0m \u001b[38;5;28;01mdef\u001b[39;00m \u001b[38;5;21mprepare\u001b[39m(topic_model, corpus, dictionary, doc_topic_dist\u001b[38;5;241m=\u001b[39m\u001b[38;5;28;01mNone\u001b[39;00m, \u001b[38;5;241m*\u001b[39m\u001b[38;5;241m*\u001b[39mkwargs):\n\u001b[0;32m     78\u001b[0m     \u001b[38;5;124;03m\"\"\"Transforms the Gensim TopicModel and related corpus and dictionary into\u001b[39;00m\n\u001b[0;32m     79\u001b[0m \u001b[38;5;124;03m    the data structures needed for the visualization.\u001b[39;00m\n\u001b[0;32m     80\u001b[0m \n\u001b[1;32m   (...)\u001b[0m\n\u001b[0;32m    120\u001b[0m \u001b[38;5;124;03m    See `pyLDAvis.prepare` for **kwargs.\u001b[39;00m\n\u001b[0;32m    121\u001b[0m \u001b[38;5;124;03m    \"\"\"\u001b[39;00m\n\u001b[1;32m--> 122\u001b[0m     opts \u001b[38;5;241m=\u001b[39m fp\u001b[38;5;241m.\u001b[39mmerge(\u001b[43m_extract_data\u001b[49m\u001b[43m(\u001b[49m\u001b[43mtopic_model\u001b[49m\u001b[43m,\u001b[49m\u001b[43m \u001b[49m\u001b[43mcorpus\u001b[49m\u001b[43m,\u001b[49m\u001b[43m \u001b[49m\u001b[43mdictionary\u001b[49m\u001b[43m,\u001b[49m\u001b[43m \u001b[49m\u001b[43mdoc_topic_dist\u001b[49m\u001b[43m)\u001b[49m, kwargs)\n\u001b[0;32m    123\u001b[0m     \u001b[38;5;28;01mreturn\u001b[39;00m pyLDAvis\u001b[38;5;241m.\u001b[39mprepare(\u001b[38;5;241m*\u001b[39m\u001b[38;5;241m*\u001b[39mopts)\n",
      "File \u001b[1;32m~\\anaconda3\\lib\\site-packages\\pyLDAvis\\gensim_models.py:42\u001b[0m, in \u001b[0;36m_extract_data\u001b[1;34m(topic_model, corpus, dictionary, doc_topic_dists)\u001b[0m\n\u001b[0;32m     40\u001b[0m     num_topics \u001b[38;5;241m=\u001b[39m \u001b[38;5;28mlen\u001b[39m(topic_model\u001b[38;5;241m.\u001b[39mlda_alpha)\n\u001b[0;32m     41\u001b[0m \u001b[38;5;28;01melse\u001b[39;00m:\n\u001b[1;32m---> 42\u001b[0m     num_topics \u001b[38;5;241m=\u001b[39m \u001b[43mtopic_model\u001b[49m\u001b[38;5;241;43m.\u001b[39;49m\u001b[43mnum_topics\u001b[49m\n\u001b[0;32m     44\u001b[0m \u001b[38;5;28;01mif\u001b[39;00m doc_topic_dists \u001b[38;5;129;01mis\u001b[39;00m \u001b[38;5;28;01mNone\u001b[39;00m:\n\u001b[0;32m     45\u001b[0m     \u001b[38;5;66;03m# If its an HDP model.\u001b[39;00m\n\u001b[0;32m     46\u001b[0m     \u001b[38;5;28;01mif\u001b[39;00m \u001b[38;5;28mhasattr\u001b[39m(topic_model, \u001b[38;5;124m'\u001b[39m\u001b[38;5;124mlda_beta\u001b[39m\u001b[38;5;124m'\u001b[39m):\n",
      "\u001b[1;31mAttributeError\u001b[0m: type object 'LdaModel' has no attribute 'num_topics'"
     ]
    }
   ],
   "source": [
    "import pyLDAvis\n",
    "import pyLDAvis.gensim_models\n",
    "import pickle\n",
    "\n",
    "# Visualize the topics\n",
    "pyLDAvis.enable_notebook()\n",
    "LDAvis_data_filepath = os.path.join('./results/ldavis_prepared_'+str(num_topics))\n",
    "# # this is a bit time consuming - make the if statement True\n",
    "# # if you want to execute visualization prep yourself\n",
    "if 1 == 1:\n",
    "    LDAvis_prepared = pyLDAvis.gensim_models.prepare(LdaModel, corpus, id2word)\n",
    "    with open(LDAvis_data_filepath, 'wb') as f:\n",
    "        pickle.dump(LDAvis_prepared, f)\n",
    "        \n",
    "# load the pre-prepared pyLDAvis data from disk\n",
    "with open(LDAvis_data_filepath, 'rb') as f:\n",
    "    LDAvis_prepared = pickle.load(f)\n",
    "pyLDAvis.save_html(LDAvis_prepared, './results/ldavis_prepared_'+ str(num_topics) +'.html')\n",
    "LDAvis_prepared"
   ]
  },
  {
   "cell_type": "markdown",
   "id": "bb6ae302-6370-4b8c-a147-5fdd774456a5",
   "metadata": {},
   "source": [
    "#### TF-IDF with scikit-learn"
   ]
  },
  {
   "cell_type": "code",
   "execution_count": 319,
   "id": "d844e470-bb2d-4489-aa63-6d45ccbd430c",
   "metadata": {},
   "outputs": [],
   "source": [
    "# importing the necessary libraries\n",
    "\n",
    "from sklearn.feature_extraction.text import TfidfVectorizer\n",
    "from sklearn.feature_extraction.text import CountVectorizer\n",
    "import pandas as pd\n",
    "from nltk.corpus import stopwords\n",
    "from pathlib import Path  \n",
    "import glob"
   ]
  },
  {
   "cell_type": "code",
   "execution_count": 320,
   "id": "6c26bcab-1b76-4f7a-b313-eba40f721e07",
   "metadata": {},
   "outputs": [],
   "source": [
    "text_files  =df_clean['article_text']"
   ]
  },
  {
   "cell_type": "code",
   "execution_count": 321,
   "id": "68158a55-969f-4091-89ad-e8946170a01d",
   "metadata": {},
   "outputs": [],
   "source": [
    "text_titles = df_clean['article_header']"
   ]
  },
  {
   "cell_type": "code",
   "execution_count": 322,
   "id": "68911b17-7741-4227-bd50-7ca3110fdc33",
   "metadata": {},
   "outputs": [],
   "source": [
    "index = df_clean['article_date_published']"
   ]
  },
  {
   "cell_type": "code",
   "execution_count": 323,
   "id": "68b5f4f6-eff1-4a57-a1e0-85f9c53a782e",
   "metadata": {},
   "outputs": [],
   "source": [
    "tfidf_vectorizer = TfidfVectorizer(stop_words='english')"
   ]
  },
  {
   "cell_type": "code",
   "execution_count": 324,
   "id": "bf9814ec-97aa-4027-9fd0-c1381a570964",
   "metadata": {},
   "outputs": [],
   "source": [
    "tfidf_vector = tfidf_vectorizer.fit_transform(text_files)"
   ]
  },
  {
   "cell_type": "code",
   "execution_count": 361,
   "id": "8a1681ec-cf57-42a8-8efb-baf7183df6bd",
   "metadata": {},
   "outputs": [
    {
     "name": "stderr",
     "output_type": "stream",
     "text": [
      "C:\\Users\\FaridSarwari\\anaconda3\\lib\\site-packages\\sklearn\\utils\\deprecation.py:87: FutureWarning: Function get_feature_names is deprecated; get_feature_names is deprecated in 1.0 and will be removed in 1.2. Please use get_feature_names_out instead.\n",
      "  warnings.warn(msg, category=FutureWarning)\n"
     ]
    }
   ],
   "source": [
    "tfidf_df = pd.DataFrame(tfidf_vector.toarray(), index=index, columns=tfidf_vectorizer.get_feature_names())"
   ]
  },
  {
   "cell_type": "code",
   "execution_count": 362,
   "id": "ac9ed1e2-c2c0-4704-8f83-930e091f4a2d",
   "metadata": {},
   "outputs": [],
   "source": [
    "tfidf_df.loc['00_Document Frequency'] = (tfidf_df > 0).sum()"
   ]
  },
  {
   "cell_type": "code",
   "execution_count": 363,
   "id": "9a41f86f-e9f2-4286-95bf-e81d01061f34",
   "metadata": {},
   "outputs": [
    {
     "data": {
      "text/html": [
       "<div>\n",
       "<style scoped>\n",
       "    .dataframe tbody tr th:only-of-type {\n",
       "        vertical-align: middle;\n",
       "    }\n",
       "\n",
       "    .dataframe tbody tr th {\n",
       "        vertical-align: top;\n",
       "    }\n",
       "\n",
       "    .dataframe thead th {\n",
       "        text-align: right;\n",
       "    }\n",
       "</style>\n",
       "<table border=\"1\" class=\"dataframe\">\n",
       "  <thead>\n",
       "    <tr style=\"text-align: right;\">\n",
       "      <th></th>\n",
       "      <th>00</th>\n",
       "      <th>000</th>\n",
       "      <th>0000</th>\n",
       "      <th>001</th>\n",
       "      <th>002</th>\n",
       "      <th>003</th>\n",
       "      <th>005</th>\n",
       "      <th>006</th>\n",
       "      <th>007</th>\n",
       "      <th>008</th>\n",
       "      <th>...</th>\n",
       "      <th>zubi</th>\n",
       "      <th>zucchini</th>\n",
       "      <th>zuke</th>\n",
       "      <th>zume</th>\n",
       "      <th>zurich</th>\n",
       "      <th>zuromski</th>\n",
       "      <th>zutell</th>\n",
       "      <th>éclair</th>\n",
       "      <th>über</th>\n",
       "      <th>ﬁtness</th>\n",
       "    </tr>\n",
       "    <tr>\n",
       "      <th>article_date_published</th>\n",
       "      <th></th>\n",
       "      <th></th>\n",
       "      <th></th>\n",
       "      <th></th>\n",
       "      <th></th>\n",
       "      <th></th>\n",
       "      <th></th>\n",
       "      <th></th>\n",
       "      <th></th>\n",
       "      <th></th>\n",
       "      <th></th>\n",
       "      <th></th>\n",
       "      <th></th>\n",
       "      <th></th>\n",
       "      <th></th>\n",
       "      <th></th>\n",
       "      <th></th>\n",
       "      <th></th>\n",
       "      <th></th>\n",
       "      <th></th>\n",
       "      <th></th>\n",
       "    </tr>\n",
       "  </thead>\n",
       "  <tbody>\n",
       "    <tr>\n",
       "      <th>2022-02-21 00:00:00</th>\n",
       "      <td>0.0</td>\n",
       "      <td>0.0</td>\n",
       "      <td>0.0</td>\n",
       "      <td>0.0</td>\n",
       "      <td>0.0</td>\n",
       "      <td>0.0</td>\n",
       "      <td>0.0</td>\n",
       "      <td>0.0</td>\n",
       "      <td>0.0</td>\n",
       "      <td>0.0</td>\n",
       "      <td>...</td>\n",
       "      <td>0.0</td>\n",
       "      <td>0.0</td>\n",
       "      <td>0.0</td>\n",
       "      <td>0.0</td>\n",
       "      <td>0.0</td>\n",
       "      <td>0.0</td>\n",
       "      <td>0.0</td>\n",
       "      <td>0.0</td>\n",
       "      <td>0.0</td>\n",
       "      <td>0.0</td>\n",
       "    </tr>\n",
       "    <tr>\n",
       "      <th>2022-02-10 00:00:00</th>\n",
       "      <td>0.0</td>\n",
       "      <td>0.0</td>\n",
       "      <td>0.0</td>\n",
       "      <td>0.0</td>\n",
       "      <td>0.0</td>\n",
       "      <td>0.0</td>\n",
       "      <td>0.0</td>\n",
       "      <td>0.0</td>\n",
       "      <td>0.0</td>\n",
       "      <td>0.0</td>\n",
       "      <td>...</td>\n",
       "      <td>0.0</td>\n",
       "      <td>0.0</td>\n",
       "      <td>0.0</td>\n",
       "      <td>0.0</td>\n",
       "      <td>0.0</td>\n",
       "      <td>0.0</td>\n",
       "      <td>0.0</td>\n",
       "      <td>0.0</td>\n",
       "      <td>0.0</td>\n",
       "      <td>0.0</td>\n",
       "    </tr>\n",
       "    <tr>\n",
       "      <th>2022-01-26 00:00:00</th>\n",
       "      <td>0.0</td>\n",
       "      <td>0.0</td>\n",
       "      <td>0.0</td>\n",
       "      <td>0.0</td>\n",
       "      <td>0.0</td>\n",
       "      <td>0.0</td>\n",
       "      <td>0.0</td>\n",
       "      <td>0.0</td>\n",
       "      <td>0.0</td>\n",
       "      <td>0.0</td>\n",
       "      <td>...</td>\n",
       "      <td>0.0</td>\n",
       "      <td>0.0</td>\n",
       "      <td>0.0</td>\n",
       "      <td>0.0</td>\n",
       "      <td>0.0</td>\n",
       "      <td>0.0</td>\n",
       "      <td>0.0</td>\n",
       "      <td>0.0</td>\n",
       "      <td>0.0</td>\n",
       "      <td>0.0</td>\n",
       "    </tr>\n",
       "    <tr>\n",
       "      <th>2022-02-04 00:00:00</th>\n",
       "      <td>0.0</td>\n",
       "      <td>0.0</td>\n",
       "      <td>0.0</td>\n",
       "      <td>0.0</td>\n",
       "      <td>0.0</td>\n",
       "      <td>0.0</td>\n",
       "      <td>0.0</td>\n",
       "      <td>0.0</td>\n",
       "      <td>0.0</td>\n",
       "      <td>0.0</td>\n",
       "      <td>...</td>\n",
       "      <td>0.0</td>\n",
       "      <td>0.0</td>\n",
       "      <td>0.0</td>\n",
       "      <td>0.0</td>\n",
       "      <td>0.0</td>\n",
       "      <td>0.0</td>\n",
       "      <td>0.0</td>\n",
       "      <td>0.0</td>\n",
       "      <td>0.0</td>\n",
       "      <td>0.0</td>\n",
       "    </tr>\n",
       "    <tr>\n",
       "      <th>2022-01-26 00:00:00</th>\n",
       "      <td>0.0</td>\n",
       "      <td>0.0</td>\n",
       "      <td>0.0</td>\n",
       "      <td>0.0</td>\n",
       "      <td>0.0</td>\n",
       "      <td>0.0</td>\n",
       "      <td>0.0</td>\n",
       "      <td>0.0</td>\n",
       "      <td>0.0</td>\n",
       "      <td>0.0</td>\n",
       "      <td>...</td>\n",
       "      <td>0.0</td>\n",
       "      <td>0.0</td>\n",
       "      <td>0.0</td>\n",
       "      <td>0.0</td>\n",
       "      <td>0.0</td>\n",
       "      <td>0.0</td>\n",
       "      <td>0.0</td>\n",
       "      <td>0.0</td>\n",
       "      <td>0.0</td>\n",
       "      <td>0.0</td>\n",
       "    </tr>\n",
       "    <tr>\n",
       "      <th>...</th>\n",
       "      <td>...</td>\n",
       "      <td>...</td>\n",
       "      <td>...</td>\n",
       "      <td>...</td>\n",
       "      <td>...</td>\n",
       "      <td>...</td>\n",
       "      <td>...</td>\n",
       "      <td>...</td>\n",
       "      <td>...</td>\n",
       "      <td>...</td>\n",
       "      <td>...</td>\n",
       "      <td>...</td>\n",
       "      <td>...</td>\n",
       "      <td>...</td>\n",
       "      <td>...</td>\n",
       "      <td>...</td>\n",
       "      <td>...</td>\n",
       "      <td>...</td>\n",
       "      <td>...</td>\n",
       "      <td>...</td>\n",
       "      <td>...</td>\n",
       "    </tr>\n",
       "    <tr>\n",
       "      <th>2012-09-05 00:00:00</th>\n",
       "      <td>0.0</td>\n",
       "      <td>0.0</td>\n",
       "      <td>0.0</td>\n",
       "      <td>0.0</td>\n",
       "      <td>0.0</td>\n",
       "      <td>0.0</td>\n",
       "      <td>0.0</td>\n",
       "      <td>0.0</td>\n",
       "      <td>0.0</td>\n",
       "      <td>0.0</td>\n",
       "      <td>...</td>\n",
       "      <td>0.0</td>\n",
       "      <td>0.0</td>\n",
       "      <td>0.0</td>\n",
       "      <td>0.0</td>\n",
       "      <td>0.0</td>\n",
       "      <td>0.0</td>\n",
       "      <td>0.0</td>\n",
       "      <td>0.0</td>\n",
       "      <td>0.0</td>\n",
       "      <td>0.0</td>\n",
       "    </tr>\n",
       "    <tr>\n",
       "      <th>2012-08-15 00:00:00</th>\n",
       "      <td>0.0</td>\n",
       "      <td>0.0</td>\n",
       "      <td>0.0</td>\n",
       "      <td>0.0</td>\n",
       "      <td>0.0</td>\n",
       "      <td>0.0</td>\n",
       "      <td>0.0</td>\n",
       "      <td>0.0</td>\n",
       "      <td>0.0</td>\n",
       "      <td>0.0</td>\n",
       "      <td>...</td>\n",
       "      <td>0.0</td>\n",
       "      <td>0.0</td>\n",
       "      <td>0.0</td>\n",
       "      <td>0.0</td>\n",
       "      <td>0.0</td>\n",
       "      <td>0.0</td>\n",
       "      <td>0.0</td>\n",
       "      <td>0.0</td>\n",
       "      <td>0.0</td>\n",
       "      <td>0.0</td>\n",
       "    </tr>\n",
       "    <tr>\n",
       "      <th>2012-08-22 00:00:00</th>\n",
       "      <td>0.0</td>\n",
       "      <td>0.0</td>\n",
       "      <td>0.0</td>\n",
       "      <td>0.0</td>\n",
       "      <td>0.0</td>\n",
       "      <td>0.0</td>\n",
       "      <td>0.0</td>\n",
       "      <td>0.0</td>\n",
       "      <td>0.0</td>\n",
       "      <td>0.0</td>\n",
       "      <td>...</td>\n",
       "      <td>0.0</td>\n",
       "      <td>0.0</td>\n",
       "      <td>0.0</td>\n",
       "      <td>0.0</td>\n",
       "      <td>0.0</td>\n",
       "      <td>0.0</td>\n",
       "      <td>0.0</td>\n",
       "      <td>0.0</td>\n",
       "      <td>0.0</td>\n",
       "      <td>0.0</td>\n",
       "    </tr>\n",
       "    <tr>\n",
       "      <th>2012-08-22 00:00:00</th>\n",
       "      <td>0.0</td>\n",
       "      <td>0.0</td>\n",
       "      <td>0.0</td>\n",
       "      <td>0.0</td>\n",
       "      <td>0.0</td>\n",
       "      <td>0.0</td>\n",
       "      <td>0.0</td>\n",
       "      <td>0.0</td>\n",
       "      <td>0.0</td>\n",
       "      <td>0.0</td>\n",
       "      <td>...</td>\n",
       "      <td>0.0</td>\n",
       "      <td>0.0</td>\n",
       "      <td>0.0</td>\n",
       "      <td>0.0</td>\n",
       "      <td>0.0</td>\n",
       "      <td>0.0</td>\n",
       "      <td>0.0</td>\n",
       "      <td>0.0</td>\n",
       "      <td>0.0</td>\n",
       "      <td>0.0</td>\n",
       "    </tr>\n",
       "    <tr>\n",
       "      <th>00_Document Frequency</th>\n",
       "      <td>2.0</td>\n",
       "      <td>376.0</td>\n",
       "      <td>1.0</td>\n",
       "      <td>2.0</td>\n",
       "      <td>2.0</td>\n",
       "      <td>3.0</td>\n",
       "      <td>3.0</td>\n",
       "      <td>2.0</td>\n",
       "      <td>1.0</td>\n",
       "      <td>1.0</td>\n",
       "      <td>...</td>\n",
       "      <td>1.0</td>\n",
       "      <td>17.0</td>\n",
       "      <td>1.0</td>\n",
       "      <td>1.0</td>\n",
       "      <td>12.0</td>\n",
       "      <td>1.0</td>\n",
       "      <td>1.0</td>\n",
       "      <td>2.0</td>\n",
       "      <td>1.0</td>\n",
       "      <td>1.0</td>\n",
       "    </tr>\n",
       "  </tbody>\n",
       "</table>\n",
       "<p>2283 rows × 28273 columns</p>\n",
       "</div>"
      ],
      "text/plain": [
       "                         00    000  0000  001  002  003  005  006  007  008  \\\n",
       "article_date_published                                                        \n",
       "2022-02-21 00:00:00     0.0    0.0   0.0  0.0  0.0  0.0  0.0  0.0  0.0  0.0   \n",
       "2022-02-10 00:00:00     0.0    0.0   0.0  0.0  0.0  0.0  0.0  0.0  0.0  0.0   \n",
       "2022-01-26 00:00:00     0.0    0.0   0.0  0.0  0.0  0.0  0.0  0.0  0.0  0.0   \n",
       "2022-02-04 00:00:00     0.0    0.0   0.0  0.0  0.0  0.0  0.0  0.0  0.0  0.0   \n",
       "2022-01-26 00:00:00     0.0    0.0   0.0  0.0  0.0  0.0  0.0  0.0  0.0  0.0   \n",
       "...                     ...    ...   ...  ...  ...  ...  ...  ...  ...  ...   \n",
       "2012-09-05 00:00:00     0.0    0.0   0.0  0.0  0.0  0.0  0.0  0.0  0.0  0.0   \n",
       "2012-08-15 00:00:00     0.0    0.0   0.0  0.0  0.0  0.0  0.0  0.0  0.0  0.0   \n",
       "2012-08-22 00:00:00     0.0    0.0   0.0  0.0  0.0  0.0  0.0  0.0  0.0  0.0   \n",
       "2012-08-22 00:00:00     0.0    0.0   0.0  0.0  0.0  0.0  0.0  0.0  0.0  0.0   \n",
       "00_Document Frequency   2.0  376.0   1.0  2.0  2.0  3.0  3.0  2.0  1.0  1.0   \n",
       "\n",
       "                        ...  zubi  zucchini  zuke  zume  zurich  zuromski  \\\n",
       "article_date_published  ...                                                 \n",
       "2022-02-21 00:00:00     ...   0.0       0.0   0.0   0.0     0.0       0.0   \n",
       "2022-02-10 00:00:00     ...   0.0       0.0   0.0   0.0     0.0       0.0   \n",
       "2022-01-26 00:00:00     ...   0.0       0.0   0.0   0.0     0.0       0.0   \n",
       "2022-02-04 00:00:00     ...   0.0       0.0   0.0   0.0     0.0       0.0   \n",
       "2022-01-26 00:00:00     ...   0.0       0.0   0.0   0.0     0.0       0.0   \n",
       "...                     ...   ...       ...   ...   ...     ...       ...   \n",
       "2012-09-05 00:00:00     ...   0.0       0.0   0.0   0.0     0.0       0.0   \n",
       "2012-08-15 00:00:00     ...   0.0       0.0   0.0   0.0     0.0       0.0   \n",
       "2012-08-22 00:00:00     ...   0.0       0.0   0.0   0.0     0.0       0.0   \n",
       "2012-08-22 00:00:00     ...   0.0       0.0   0.0   0.0     0.0       0.0   \n",
       "00_Document Frequency   ...   1.0      17.0   1.0   1.0    12.0       1.0   \n",
       "\n",
       "                        zutell  éclair  über  ﬁtness  \n",
       "article_date_published                                \n",
       "2022-02-21 00:00:00        0.0     0.0   0.0     0.0  \n",
       "2022-02-10 00:00:00        0.0     0.0   0.0     0.0  \n",
       "2022-01-26 00:00:00        0.0     0.0   0.0     0.0  \n",
       "2022-02-04 00:00:00        0.0     0.0   0.0     0.0  \n",
       "2022-01-26 00:00:00        0.0     0.0   0.0     0.0  \n",
       "...                        ...     ...   ...     ...  \n",
       "2012-09-05 00:00:00        0.0     0.0   0.0     0.0  \n",
       "2012-08-15 00:00:00        0.0     0.0   0.0     0.0  \n",
       "2012-08-22 00:00:00        0.0     0.0   0.0     0.0  \n",
       "2012-08-22 00:00:00        0.0     0.0   0.0     0.0  \n",
       "00_Document Frequency      1.0     2.0   1.0     1.0  \n",
       "\n",
       "[2283 rows x 28273 columns]"
      ]
     },
     "execution_count": 363,
     "metadata": {},
     "output_type": "execute_result"
    }
   ],
   "source": [
    "tfidf_df"
   ]
  },
  {
   "cell_type": "code",
   "execution_count": 364,
   "id": "ad6c9d5f-dbdb-4d8f-8068-9c4c441b2aff",
   "metadata": {},
   "outputs": [],
   "source": [
    "tfidf_df = tfidf_df.drop('00_Document Frequency', errors='ignore')"
   ]
  },
  {
   "cell_type": "code",
   "execution_count": 365,
   "id": "ba4b43f0-08bb-4972-95a3-759721ef8d68",
   "metadata": {},
   "outputs": [],
   "source": [
    "tfidf_df = tfidf_df.stack().reset_index()"
   ]
  },
  {
   "cell_type": "code",
   "execution_count": 368,
   "id": "9323b682-3cc4-443e-a46e-6295e402e7b9",
   "metadata": {},
   "outputs": [],
   "source": [
    "tfidf_df = tfidf_df.rename(columns={0:'tfidf', 'level_0': 'document','level_1': 'term'})"
   ]
  },
  {
   "cell_type": "code",
   "execution_count": 369,
   "id": "a2b6e65e-df89-4e0a-bb89-f155047fe520",
   "metadata": {},
   "outputs": [
    {
     "data": {
      "text/html": [
       "<div>\n",
       "<style scoped>\n",
       "    .dataframe tbody tr th:only-of-type {\n",
       "        vertical-align: middle;\n",
       "    }\n",
       "\n",
       "    .dataframe tbody tr th {\n",
       "        vertical-align: top;\n",
       "    }\n",
       "\n",
       "    .dataframe thead th {\n",
       "        text-align: right;\n",
       "    }\n",
       "</style>\n",
       "<table border=\"1\" class=\"dataframe\">\n",
       "  <thead>\n",
       "    <tr style=\"text-align: right;\">\n",
       "      <th></th>\n",
       "      <th>article_date_published</th>\n",
       "      <th>term</th>\n",
       "      <th>tfidf</th>\n",
       "    </tr>\n",
       "  </thead>\n",
       "  <tbody>\n",
       "    <tr>\n",
       "      <th>0</th>\n",
       "      <td>2022-02-21</td>\n",
       "      <td>00</td>\n",
       "      <td>0.0</td>\n",
       "    </tr>\n",
       "    <tr>\n",
       "      <th>1</th>\n",
       "      <td>2022-02-21</td>\n",
       "      <td>000</td>\n",
       "      <td>0.0</td>\n",
       "    </tr>\n",
       "    <tr>\n",
       "      <th>2</th>\n",
       "      <td>2022-02-21</td>\n",
       "      <td>0000</td>\n",
       "      <td>0.0</td>\n",
       "    </tr>\n",
       "    <tr>\n",
       "      <th>3</th>\n",
       "      <td>2022-02-21</td>\n",
       "      <td>001</td>\n",
       "      <td>0.0</td>\n",
       "    </tr>\n",
       "    <tr>\n",
       "      <th>4</th>\n",
       "      <td>2022-02-21</td>\n",
       "      <td>002</td>\n",
       "      <td>0.0</td>\n",
       "    </tr>\n",
       "    <tr>\n",
       "      <th>...</th>\n",
       "      <td>...</td>\n",
       "      <td>...</td>\n",
       "      <td>...</td>\n",
       "    </tr>\n",
       "    <tr>\n",
       "      <th>64518981</th>\n",
       "      <td>2012-08-22</td>\n",
       "      <td>zuromski</td>\n",
       "      <td>0.0</td>\n",
       "    </tr>\n",
       "    <tr>\n",
       "      <th>64518982</th>\n",
       "      <td>2012-08-22</td>\n",
       "      <td>zutell</td>\n",
       "      <td>0.0</td>\n",
       "    </tr>\n",
       "    <tr>\n",
       "      <th>64518983</th>\n",
       "      <td>2012-08-22</td>\n",
       "      <td>éclair</td>\n",
       "      <td>0.0</td>\n",
       "    </tr>\n",
       "    <tr>\n",
       "      <th>64518984</th>\n",
       "      <td>2012-08-22</td>\n",
       "      <td>über</td>\n",
       "      <td>0.0</td>\n",
       "    </tr>\n",
       "    <tr>\n",
       "      <th>64518985</th>\n",
       "      <td>2012-08-22</td>\n",
       "      <td>ﬁtness</td>\n",
       "      <td>0.0</td>\n",
       "    </tr>\n",
       "  </tbody>\n",
       "</table>\n",
       "<p>64518986 rows × 3 columns</p>\n",
       "</div>"
      ],
      "text/plain": [
       "         article_date_published      term  tfidf\n",
       "0                    2022-02-21        00    0.0\n",
       "1                    2022-02-21       000    0.0\n",
       "2                    2022-02-21      0000    0.0\n",
       "3                    2022-02-21       001    0.0\n",
       "4                    2022-02-21       002    0.0\n",
       "...                         ...       ...    ...\n",
       "64518981             2012-08-22  zuromski    0.0\n",
       "64518982             2012-08-22    zutell    0.0\n",
       "64518983             2012-08-22    éclair    0.0\n",
       "64518984             2012-08-22      über    0.0\n",
       "64518985             2012-08-22    ﬁtness    0.0\n",
       "\n",
       "[64518986 rows x 3 columns]"
      ]
     },
     "execution_count": 369,
     "metadata": {},
     "output_type": "execute_result"
    }
   ],
   "source": [
    "tfidf_df"
   ]
  },
  {
   "cell_type": "code",
   "execution_count": 370,
   "id": "6e067242-0581-4de0-8629-bfcdbfda3b3d",
   "metadata": {},
   "outputs": [
    {
     "data": {
      "text/html": [
       "<div>\n",
       "<style scoped>\n",
       "    .dataframe tbody tr th:only-of-type {\n",
       "        vertical-align: middle;\n",
       "    }\n",
       "\n",
       "    .dataframe tbody tr th {\n",
       "        vertical-align: top;\n",
       "    }\n",
       "\n",
       "    .dataframe thead th {\n",
       "        text-align: right;\n",
       "    }\n",
       "</style>\n",
       "<table border=\"1\" class=\"dataframe\">\n",
       "  <thead>\n",
       "    <tr style=\"text-align: right;\">\n",
       "      <th></th>\n",
       "      <th>article_date_published</th>\n",
       "      <th>term</th>\n",
       "      <th>tfidf</th>\n",
       "    </tr>\n",
       "  </thead>\n",
       "  <tbody>\n",
       "    <tr>\n",
       "      <th>64405893</th>\n",
       "      <td>2012-08-08</td>\n",
       "      <td>ﬁtness</td>\n",
       "      <td>0.0</td>\n",
       "    </tr>\n",
       "    <tr>\n",
       "      <th>64405892</th>\n",
       "      <td>2012-08-08</td>\n",
       "      <td>über</td>\n",
       "      <td>0.0</td>\n",
       "    </tr>\n",
       "    <tr>\n",
       "      <th>64405891</th>\n",
       "      <td>2012-08-08</td>\n",
       "      <td>éclair</td>\n",
       "      <td>0.0</td>\n",
       "    </tr>\n",
       "    <tr>\n",
       "      <th>64405890</th>\n",
       "      <td>2012-08-08</td>\n",
       "      <td>zutell</td>\n",
       "      <td>0.0</td>\n",
       "    </tr>\n",
       "    <tr>\n",
       "      <th>64405889</th>\n",
       "      <td>2012-08-08</td>\n",
       "      <td>zuromski</td>\n",
       "      <td>0.0</td>\n",
       "    </tr>\n",
       "    <tr>\n",
       "      <th>...</th>\n",
       "      <td>...</td>\n",
       "      <td>...</td>\n",
       "      <td>...</td>\n",
       "    </tr>\n",
       "    <tr>\n",
       "      <th>28267</th>\n",
       "      <td>2022-02-21</td>\n",
       "      <td>zurich</td>\n",
       "      <td>0.0</td>\n",
       "    </tr>\n",
       "    <tr>\n",
       "      <th>28266</th>\n",
       "      <td>2022-02-21</td>\n",
       "      <td>zume</td>\n",
       "      <td>0.0</td>\n",
       "    </tr>\n",
       "    <tr>\n",
       "      <th>28265</th>\n",
       "      <td>2022-02-21</td>\n",
       "      <td>zuke</td>\n",
       "      <td>0.0</td>\n",
       "    </tr>\n",
       "    <tr>\n",
       "      <th>28264</th>\n",
       "      <td>2022-02-21</td>\n",
       "      <td>zucchini</td>\n",
       "      <td>0.0</td>\n",
       "    </tr>\n",
       "    <tr>\n",
       "      <th>28263</th>\n",
       "      <td>2022-02-21</td>\n",
       "      <td>zubi</td>\n",
       "      <td>0.0</td>\n",
       "    </tr>\n",
       "  </tbody>\n",
       "</table>\n",
       "<p>13760 rows × 3 columns</p>\n",
       "</div>"
      ],
      "text/plain": [
       "         article_date_published      term  tfidf\n",
       "64405893             2012-08-08    ﬁtness    0.0\n",
       "64405892             2012-08-08      über    0.0\n",
       "64405891             2012-08-08    éclair    0.0\n",
       "64405890             2012-08-08    zutell    0.0\n",
       "64405889             2012-08-08  zuromski    0.0\n",
       "...                         ...       ...    ...\n",
       "28267                2022-02-21    zurich    0.0\n",
       "28266                2022-02-21      zume    0.0\n",
       "28265                2022-02-21      zuke    0.0\n",
       "28264                2022-02-21  zucchini    0.0\n",
       "28263                2022-02-21      zubi    0.0\n",
       "\n",
       "[13760 rows x 3 columns]"
      ]
     },
     "execution_count": 370,
     "metadata": {},
     "output_type": "execute_result"
    }
   ],
   "source": [
    "tfidf_df.sort_values(by=['article_date_published', 'term'], ascending=[True,False]).groupby(['article_date_published']).head(10)"
   ]
  }
 ],
 "metadata": {
  "kernelspec": {
   "display_name": "Python 3 (ipykernel)",
   "language": "python",
   "name": "python3"
  },
  "language_info": {
   "codemirror_mode": {
    "name": "ipython",
    "version": 3
   },
   "file_extension": ".py",
   "mimetype": "text/x-python",
   "name": "python",
   "nbconvert_exporter": "python",
   "pygments_lexer": "ipython3",
   "version": "3.9.12"
  }
 },
 "nbformat": 4,
 "nbformat_minor": 5
}
